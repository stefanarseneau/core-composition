{
 "cells": [
  {
   "cell_type": "code",
   "execution_count": 1,
   "metadata": {},
   "outputs": [],
   "source": [
    "import pyvo as vo\n",
    "import pandas as pd\n",
    "\n",
    "# Define the Gaia DR3 source_id you're interested in\n",
    "gaia_source_ids = [1234567890123456789, 9876543210987654321]  # Replace with your list of Gaia source_ids\n",
    "service_gaia = vo.dal.TAPService(\"http://gea.esac.esa.int/tap-server/tap\")"
   ]
  },
  {
   "cell_type": "code",
   "execution_count": 2,
   "metadata": {},
   "outputs": [
    {
     "ename": "DALFormatError",
     "evalue": "E19: None:2:0: E19: File does not appear to be a VOTABLE",
     "output_type": "error",
     "traceback": [
      "\u001b[0;31m---------------------------------------------------------------------------\u001b[0m",
      "\u001b[0;31mE19\u001b[0m                                       Traceback (most recent call last)",
      "File \u001b[0;32m~/miniconda3/envs/core-composition/lib/python3.12/site-packages/pyvo/dal/query.py:244\u001b[0m, in \u001b[0;36mDALQuery.execute_votable\u001b[0;34m(self, post)\u001b[0m\n\u001b[1;32m    243\u001b[0m \u001b[38;5;28;01mtry\u001b[39;00m:\n\u001b[0;32m--> 244\u001b[0m     \u001b[38;5;28;01mreturn\u001b[39;00m votableparse(\u001b[38;5;28mself\u001b[39m\u001b[38;5;241m.\u001b[39mexecute_stream(post\u001b[38;5;241m=\u001b[39mpost)\u001b[38;5;241m.\u001b[39mread)\n\u001b[1;32m    245\u001b[0m \u001b[38;5;28;01mexcept\u001b[39;00m \u001b[38;5;167;01mException\u001b[39;00m \u001b[38;5;28;01mas\u001b[39;00m e:\n",
      "File \u001b[0;32m~/miniconda3/envs/core-composition/lib/python3.12/site-packages/astropy/io/votable/table.py:164\u001b[0m, in \u001b[0;36mparse\u001b[0;34m(source, columns, invalid, verify, chunk_size, table_number, table_id, filename, unit_format, datatype_mapping, _debug_python_based_parser)\u001b[0m\n\u001b[1;32m    161\u001b[0m \u001b[38;5;28;01mwith\u001b[39;00m iterparser\u001b[38;5;241m.\u001b[39mget_xml_iterator(\n\u001b[1;32m    162\u001b[0m     source, _debug_python_based_parser\u001b[38;5;241m=\u001b[39m_debug_python_based_parser\n\u001b[1;32m    163\u001b[0m ) \u001b[38;5;28;01mas\u001b[39;00m iterator:\n\u001b[0;32m--> 164\u001b[0m     \u001b[38;5;28;01mreturn\u001b[39;00m tree\u001b[38;5;241m.\u001b[39mVOTableFile(config\u001b[38;5;241m=\u001b[39mconfig, pos\u001b[38;5;241m=\u001b[39m(\u001b[38;5;241m1\u001b[39m, \u001b[38;5;241m1\u001b[39m))\u001b[38;5;241m.\u001b[39mparse(iterator, config)\n",
      "File \u001b[0;32m~/miniconda3/envs/core-composition/lib/python3.12/site-packages/astropy/io/votable/tree.py:4174\u001b[0m, in \u001b[0;36mVOTableFile.parse\u001b[0;34m(self, iterator, config)\u001b[0m\n\u001b[1;32m   4173\u001b[0m         \u001b[38;5;28;01melse\u001b[39;00m:\n\u001b[0;32m-> 4174\u001b[0m             vo_raise(E19, (), config, pos)\n\u001b[1;32m   4175\u001b[0m config\u001b[38;5;241m.\u001b[39mupdate(\u001b[38;5;28mself\u001b[39m\u001b[38;5;241m.\u001b[39m_get_version_checks())\n",
      "File \u001b[0;32m~/miniconda3/envs/core-composition/lib/python3.12/site-packages/astropy/io/votable/exceptions.py:124\u001b[0m, in \u001b[0;36mvo_raise\u001b[0;34m(exception_class, args, config, pos)\u001b[0m\n\u001b[1;32m    123\u001b[0m     config \u001b[38;5;241m=\u001b[39m {}\n\u001b[0;32m--> 124\u001b[0m \u001b[38;5;28;01mraise\u001b[39;00m exception_class(args, config, pos)\n",
      "\u001b[0;31mE19\u001b[0m: None:2:0: E19: File does not appear to be a VOTABLE",
      "\nDuring handling of the above exception, another exception occurred:\n",
      "\u001b[0;31mDALFormatError\u001b[0m                            Traceback (most recent call last)",
      "Cell \u001b[0;32mIn[2], line 7\u001b[0m\n\u001b[1;32m      1\u001b[0m gaia_query \u001b[38;5;241m=\u001b[39m \u001b[38;5;124m\"\"\"\u001b[39m\n\u001b[1;32m      2\u001b[0m \u001b[38;5;124m        SELECT\u001b[39m\n\u001b[1;32m      3\u001b[0m \u001b[38;5;124m        gs.source_id, gs.original_ext_source_id\u001b[39m\n\u001b[1;32m      4\u001b[0m \u001b[38;5;124m        FROM gaiadr3.panstarrs1_best_neighbour as gs\u001b[39m\n\u001b[1;32m      5\u001b[0m \u001b[38;5;124m        WHERE gs.source_id in \u001b[39m\u001b[38;5;132;01m{}\u001b[39;00m\n\u001b[1;32m      6\u001b[0m \u001b[38;5;124m        \u001b[39m\u001b[38;5;124m\"\"\"\u001b[39m\u001b[38;5;241m.\u001b[39mformat(\u001b[38;5;28mtuple\u001b[39m(gaia_source_ids))\n\u001b[0;32m----> 7\u001b[0m gaia_result \u001b[38;5;241m=\u001b[39m service_gaia\u001b[38;5;241m.\u001b[39msearch(gaia_query)\u001b[38;5;241m.\u001b[39mto_table()\n",
      "File \u001b[0;32m~/miniconda3/envs/core-composition/lib/python3.12/site-packages/pyvo/dal/tap.py:278\u001b[0m, in \u001b[0;36mTAPService.run_sync\u001b[0;34m(self, query, language, maxrec, uploads, **keywords)\u001b[0m\n\u001b[1;32m    249\u001b[0m \u001b[38;5;28;01mdef\u001b[39;00m \u001b[38;5;21mrun_sync\u001b[39m(\n\u001b[1;32m    250\u001b[0m         \u001b[38;5;28mself\u001b[39m, query, language\u001b[38;5;241m=\u001b[39m\u001b[38;5;124m\"\u001b[39m\u001b[38;5;124mADQL\u001b[39m\u001b[38;5;124m\"\u001b[39m, maxrec\u001b[38;5;241m=\u001b[39m\u001b[38;5;28;01mNone\u001b[39;00m, uploads\u001b[38;5;241m=\u001b[39m\u001b[38;5;28;01mNone\u001b[39;00m,\n\u001b[1;32m    251\u001b[0m         \u001b[38;5;241m*\u001b[39m\u001b[38;5;241m*\u001b[39mkeywords):\n\u001b[1;32m    252\u001b[0m \u001b[38;5;250m    \u001b[39m\u001b[38;5;124;03m\"\"\"\u001b[39;00m\n\u001b[1;32m    253\u001b[0m \u001b[38;5;124;03m    runs sync query and returns its result\u001b[39;00m\n\u001b[1;32m    254\u001b[0m \n\u001b[0;32m   (...)\u001b[0m\n\u001b[1;32m    274\u001b[0m \u001b[38;5;124;03m    TAPResults\u001b[39;00m\n\u001b[1;32m    275\u001b[0m \u001b[38;5;124;03m    \"\"\"\u001b[39;00m\n\u001b[1;32m    276\u001b[0m     \u001b[38;5;28;01mreturn\u001b[39;00m \u001b[38;5;28mself\u001b[39m\u001b[38;5;241m.\u001b[39mcreate_query(\n\u001b[1;32m    277\u001b[0m         query, language\u001b[38;5;241m=\u001b[39mlanguage, maxrec\u001b[38;5;241m=\u001b[39mmaxrec, uploads\u001b[38;5;241m=\u001b[39muploads,\n\u001b[0;32m--> 278\u001b[0m         \u001b[38;5;241m*\u001b[39m\u001b[38;5;241m*\u001b[39mkeywords)\u001b[38;5;241m.\u001b[39mexecute()\n",
      "File \u001b[0;32m~/miniconda3/envs/core-composition/lib/python3.12/site-packages/pyvo/dal/tap.py:1117\u001b[0m, in \u001b[0;36mTAPQuery.execute\u001b[0;34m(self)\u001b[0m\n\u001b[1;32m   1103\u001b[0m \u001b[38;5;28;01mdef\u001b[39;00m \u001b[38;5;21mexecute\u001b[39m(\u001b[38;5;28mself\u001b[39m):\n\u001b[1;32m   1104\u001b[0m \u001b[38;5;250m    \u001b[39m\u001b[38;5;124;03m\"\"\"\u001b[39;00m\n\u001b[1;32m   1105\u001b[0m \u001b[38;5;124;03m    submit the query and return the results as a TAPResults instance\u001b[39;00m\n\u001b[1;32m   1106\u001b[0m \n\u001b[0;32m   (...)\u001b[0m\n\u001b[1;32m   1115\u001b[0m \u001b[38;5;124;03m       for errors parsing the VOTable response\u001b[39;00m\n\u001b[1;32m   1116\u001b[0m \u001b[38;5;124;03m    \"\"\"\u001b[39;00m\n\u001b[0;32m-> 1117\u001b[0m     \u001b[38;5;28;01mreturn\u001b[39;00m TAPResults(\u001b[38;5;28mself\u001b[39m\u001b[38;5;241m.\u001b[39mexecute_votable(), url\u001b[38;5;241m=\u001b[39m\u001b[38;5;28mself\u001b[39m\u001b[38;5;241m.\u001b[39mqueryurl, session\u001b[38;5;241m=\u001b[39m\u001b[38;5;28mself\u001b[39m\u001b[38;5;241m.\u001b[39m_session)\n",
      "File \u001b[0;32m~/miniconda3/envs/core-composition/lib/python3.12/site-packages/pyvo/dal/query.py:247\u001b[0m, in \u001b[0;36mDALQuery.execute_votable\u001b[0;34m(self, post)\u001b[0m\n\u001b[1;32m    245\u001b[0m \u001b[38;5;28;01mexcept\u001b[39;00m \u001b[38;5;167;01mException\u001b[39;00m \u001b[38;5;28;01mas\u001b[39;00m e:\n\u001b[1;32m    246\u001b[0m     \u001b[38;5;28mself\u001b[39m\u001b[38;5;241m.\u001b[39mraise_if_error()\n\u001b[0;32m--> 247\u001b[0m     \u001b[38;5;28;01mraise\u001b[39;00m DALFormatError(e, \u001b[38;5;28mself\u001b[39m\u001b[38;5;241m.\u001b[39mqueryurl)\n",
      "\u001b[0;31mDALFormatError\u001b[0m: E19: None:2:0: E19: File does not appear to be a VOTABLE"
     ]
    }
   ],
   "source": [
    "gaia_query = \"\"\"\n",
    "        SELECT\n",
    "        gs.source_id, gs.original_ext_source_id\n",
    "        FROM gaiadr3.panstarrs1_best_neighbour as gs\n",
    "        WHERE gs.source_id in {}\n",
    "        \"\"\".format(tuple(gaia_source_ids))\n",
    "gaia_result = service_gaia.search(gaia_query).to_table()"
   ]
  },
  {
   "cell_type": "code",
   "execution_count": null,
   "metadata": {},
   "outputs": [],
   "source": [
    "\n",
    "# Simplify the initial query to avoid complex joins and test the service\n",
    "# We'll query Gaia and PANSTARRS separately and cross-match locally\n",
    "\n",
    "# Step 1: Query Gaia to get positions for the source_ids\n",
    "gaia_query = f\"\"\"\n",
    "SELECT source_id, ra, dec\n",
    "FROM gaiadr3.gaia_source\n",
    "WHERE source_id IN {tuple(gaia_source_ids)}\n",
    "\"\"\"\n",
    "print(gaia_query)\n",
    "gaia_result = service_gaia.search(gaia_query)\n",
    "\n",
    "# Convert Gaia result to a pandas DataFrame\n",
    "df_gaia = gaia_result.to_table().to_pandas()\n",
    "print(\"Gaia Data:\")\n",
    "print(df_gaia)"
   ]
  },
  {
   "cell_type": "code",
   "execution_count": null,
   "metadata": {},
   "outputs": [],
   "source": [
    "# Step 2: Query PANSTARRS for objects near the Gaia positions\n",
    "# Use a small search radius, e.g., 1 arcsecond (0.00027778 degrees)\n",
    "panstarrs_query = f\"\"\"\n",
    "SELECT objID, raMean, decMean, g_psfMag, r_psfMag, i_psfMag, z_psfMag, y_psfMag, \n",
    "       g_psfMagErr, r_psfMagErr, i_psfMagErr, z_psfMagErr, y_psfMagErr,\n",
    "       gFlags, rFlags, iFlags, zFlags, yFlags, nDetections\n",
    "FROM panstarrs_dr1.meanobject\n",
    "WHERE 1=CONTAINS(\n",
    "    POINT('ICRS', raMean, decMean),\n",
    "    CIRCLE('ICRS', {df_gaia['ra'][0]}, {df_gaia['dec'][0]}, 0.00027778)\n",
    ")\n",
    "AND g_psfMagErr < 0.05 AND r_psfMagErr < 0.05 AND i_psfMagErr < 0.05\n",
    "AND z_psfMagErr < 0.05 AND y_psfMagErr < 0.05\n",
    "AND (gFlags & 0x0000000F) = 0 AND (rFlags & 0x0000000F) = 0 \n",
    "AND (iFlags & 0x0000000F) = 0 AND (zFlags & 0x0000000F) = 0 \n",
    "AND (yFlags & 0x0000000F) = 0 AND nDetections >= 2\n",
    "\"\"\"\n",
    "service_panstarrs = vo.dal.TAPService(\"https://archive.stsci.edu/panstarrs/tapservice\")\n",
    "panstarrs_result = service_panstarrs.search(panstarrs_query)\n",
    "\n",
    "# Convert PANSTARRS result to a pandas DataFrame\n",
    "df_panstarrs = panstarrs_result.to_table().to_pandas()\n",
    "print(\"PANSTARRS Data:\")\n",
    "print(df_panstarrs)\n",
    "\n",
    "# Step 3: (Optional) Cross-match Gaia and PANSTARRS results locally if needed\n",
    "# Here, it's done by matching positions (RA, DEC) within a small tolerance\n",
    "cross_matched = pd.merge(df_gaia, df_panstarrs, left_on=['ra', 'dec'], right_on=['raMean', 'decMean'], how='inner')\n",
    "print(\"Cross-Matched Data:\")\n",
    "print(cross_matched)"
   ]
  }
 ],
 "metadata": {
  "kernelspec": {
   "display_name": "core-composition",
   "language": "python",
   "name": "python3"
  },
  "language_info": {
   "codemirror_mode": {
    "name": "ipython",
    "version": 3
   },
   "file_extension": ".py",
   "mimetype": "text/x-python",
   "name": "python",
   "nbconvert_exporter": "python",
   "pygments_lexer": "ipython3",
   "version": "3.12.2"
  }
 },
 "nbformat": 4,
 "nbformat_minor": 2
}
