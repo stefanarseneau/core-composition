{
 "cells": [
  {
   "cell_type": "code",
   "execution_count": 1,
   "metadata": {},
   "outputs": [],
   "source": [
    "import sys\n",
    "sys.path.append('../')\n",
    "import corecomposition as cc\n",
    "from astropy.table import Table\n",
    "\n",
    "import pyvo as vo\n",
    "import pandas as pd\n",
    "\n",
    "# Define the Gaia DR3 source_id you're interested in\n",
    "gold = Table.read('../data/processed/gold.csv').to_pandas()\n",
    "gaia_source_ids = gold['wd_source_id']  # Replace with your list of Gaia source_ids"
   ]
  },
  {
   "cell_type": "code",
   "execution_count": 2,
   "metadata": {},
   "outputs": [
    {
     "name": "stdout",
     "output_type": "stream",
     "text": [
      "Gaia Data:\n",
      "             source_id  original_ext_source_id\n",
      "0  2153552814748001792      177342846587376626\n",
      "1  2376773024012888832       94930126635901317\n",
      "2  3970162318385391488      126981690946968363\n",
      "3  4248619071266347648      114163013511255283\n",
      "4  5750618956285716480       97251318748580338\n"
     ]
    }
   ],
   "source": [
    "gaia_query = f\"\"\"\n",
    "    SELECT gs.source_id, gs.original_ext_source_id\n",
    "    FROM gaiadr3.panstarrs1_best_neighbour as gs\n",
    "    WHERE gs.source_id in {tuple(gaia_source_ids)}\n",
    "    \"\"\"\n",
    "\n",
    "gaia_tap_service = vo.dal.TAPService(\"https://gea.esac.esa.int/tap-server/tap\")\n",
    "gaia_result = gaia_tap_service.search(gaia_query).to_table()\n",
    "\n",
    "# Convert Gaia result to a pandas DataFrame\n",
    "df_gaia = gaia_result.to_pandas()\n",
    "print(\"Gaia Data:\")\n",
    "print(df_gaia)"
   ]
  },
  {
   "cell_type": "code",
   "execution_count": 3,
   "metadata": {},
   "outputs": [
    {
     "name": "stdout",
     "output_type": "stream",
     "text": [
      "\n",
      "SELECT *\n",
      "FROM dbo.MeanObjectView\n",
      "WHERE objID in (177342846587376626, 94930126635901317, 126981690946968363, 114163013511255283, 97251318748580338)\n",
      "AND nDetections >= 2\n",
      "\n",
      "PANSTARRS Data:\n",
      "   zMeanPSFMagErr  zMeanPSFMagStd  zMeanPSFMagNpt  zMeanPSFMagMin  \\\n",
      "0        0.157601        0.291221               2       19.749701   \n",
      "1        0.035926        0.100038               6       19.758699   \n",
      "2        0.034080        0.071302               5       19.350800   \n",
      "3        0.014535        0.039517               7       19.328501   \n",
      "4        0.027282        0.174210              14       19.806101   \n",
      "\n",
      "   zMeanPSFMagMax  zMeanKronMag  zMeanKronMagErr  zMeanKronMagStd  \\\n",
      "0       20.064899     19.745300         0.000047      -999.000000   \n",
      "1       20.022600     19.256399         0.136731         0.364686   \n",
      "2       19.533199     19.586599         0.058204         0.145735   \n",
      "3       19.431801     19.538000         0.026786         0.073178   \n",
      "4       20.508499     20.126801         0.068294         0.203397   \n",
      "\n",
      "   zMeanKronMagNpt  zMeanApMag  ...  nStackDetections  nDetections  ng  nr  \\\n",
      "0                2   19.759701  ...                 4           51  14  21   \n",
      "1                6   19.473101  ...                10           43   6   6   \n",
      "2                6   19.453699  ...                10           50   8  10   \n",
      "3                6   19.432600  ...                 5           62  14  11   \n",
      "4               12   20.143400  ...                 5           70  10  14   \n",
      "\n",
      "   ni  nz  ny  gQfPerfect  gMeanPSFMag  gMeanPSFMagErr  \n",
      "0  10   3   3    0.999756      20.0215        0.027280  \n",
      "1  23   6   2    0.998586      19.8769        0.020887  \n",
      "2  24   6   2    0.998573      19.1630        0.008936  \n",
      "3  16  14   7    0.999745      19.1436        0.011464  \n",
      "4  28  14   4    0.999506      19.9119        0.014788  \n",
      "\n",
      "[5 rows x 124 columns]\n"
     ]
    }
   ],
   "source": [
    "# Step 2: Query PANSTARRS for objects near the Gaia positions\n",
    "# Use a small search radius, e.g., 1 arcsecond (0.00027778 degrees)\n",
    "panstarrs_query = f\"\"\"\n",
    "SELECT *\n",
    "FROM dbo.MeanObjectView\n",
    "WHERE objID in {tuple(gaia_result['original_ext_source_id'])}\n",
    "AND nDetections >= 2\n",
    "\"\"\"\n",
    "print(panstarrs_query)\n",
    "service_panstarrs = vo.dal.TAPService('https://vao.stsci.edu/PS1DR2/tapservice.aspx')\n",
    "panstarrs_result = service_panstarrs.search(panstarrs_query).to_table()\n",
    "\n",
    "# Convert PANSTARRS result to a pandas DataFrame\n",
    "df_panstarrs = panstarrs_result.to_pandas()\n",
    "print(\"PANSTARRS Data:\")\n",
    "print(df_panstarrs)"
   ]
  },
  {
   "cell_type": "code",
   "execution_count": 4,
   "metadata": {},
   "outputs": [
    {
     "data": {
      "text/html": [
       "<div><i>Table length=5</i>\n",
       "<table id=\"table140546876038448\" class=\"table-striped table-bordered table-condensed\">\n",
       "<thead><tr><th>source_id</th><th>qualityFlag</th><th>PS1_g</th><th>PS1_r</th><th>PS1_i</th><th>PS1_z</th><th>PS1_y</th><th>e_PS1_g</th><th>e_PS1_r</th><th>e_PS1_i</th><th>e_PS1_z</th><th>e_PS1_y</th></tr></thead>\n",
       "<thead><tr><th></th><th></th><th>mag</th><th>mag</th><th>mag</th><th>mag</th><th>mag</th><th>mag</th><th>mag</th><th>mag</th><th>mag</th><th>mag</th></tr></thead>\n",
       "<thead><tr><th>int64</th><th>uint8</th><th>float32</th><th>float32</th><th>float32</th><th>float32</th><th>float32</th><th>float32</th><th>float32</th><th>float32</th><th>float32</th><th>float32</th></tr></thead>\n",
       "<tr><td>2376773024012888832</td><td>53</td><td>20.0215</td><td>19.9431</td><td>19.9534</td><td>20.0399</td><td>19.6576</td><td>0.02728</td><td>0.016863</td><td>0.024493</td><td>0.157601</td><td>0.065696</td></tr>\n",
       "<tr><td>5750618956285716480</td><td>52</td><td>19.8769</td><td>19.8533</td><td>19.8706</td><td>19.9204</td><td>19.8858</td><td>0.020887</td><td>0.014743</td><td>0.016776</td><td>0.035926</td><td>0.051367</td></tr>\n",
       "<tr><td>4248619071266347648</td><td>52</td><td>19.163</td><td>19.1763</td><td>19.2267</td><td>19.4824</td><td>19.4466</td><td>0.008936</td><td>0.011638</td><td>0.014273</td><td>0.03408</td><td>0.094009</td></tr>\n",
       "<tr><td>3970162318385391488</td><td>52</td><td>19.1436</td><td>19.1755</td><td>19.2551</td><td>19.3702</td><td>19.3349</td><td>0.011464</td><td>0.010883</td><td>0.008248</td><td>0.014535</td><td>0.092098</td></tr>\n",
       "<tr><td>2153552814748001792</td><td>52</td><td>19.9119</td><td>19.8831</td><td>19.9115</td><td>20.0249</td><td>19.6572</td><td>0.014788</td><td>0.012435</td><td>0.011477</td><td>0.027282</td><td>0.225687</td></tr>\n",
       "</table></div>"
      ],
      "text/plain": [
       "<Table length=5>\n",
       "     source_id      qualityFlag  PS1_g   PS1_r  ... e_PS1_i  e_PS1_z  e_PS1_y \n",
       "                                  mag     mag   ...   mag      mag      mag   \n",
       "       int64           uint8    float32 float32 ... float32  float32  float32 \n",
       "------------------- ----------- ------- ------- ... -------- -------- --------\n",
       "2376773024012888832          53 20.0215 19.9431 ... 0.024493 0.157601 0.065696\n",
       "5750618956285716480          52 19.8769 19.8533 ... 0.016776 0.035926 0.051367\n",
       "4248619071266347648          52  19.163 19.1763 ... 0.014273  0.03408 0.094009\n",
       "3970162318385391488          52 19.1436 19.1755 ... 0.008248 0.014535 0.092098\n",
       "2153552814748001792          52 19.9119 19.8831 ... 0.011477 0.027282 0.225687"
      ]
     },
     "execution_count": 4,
     "metadata": {},
     "output_type": "execute_result"
    }
   ],
   "source": [
    "cc.photometry.panstarrs_photo(gold['wd_source_id'])"
   ]
  },
  {
   "cell_type": "code",
   "execution_count": null,
   "metadata": {},
   "outputs": [],
   "source": []
  }
 ],
 "metadata": {
  "kernelspec": {
   "display_name": "core-composition",
   "language": "python",
   "name": "python3"
  },
  "language_info": {
   "codemirror_mode": {
    "name": "ipython",
    "version": 3
   },
   "file_extension": ".py",
   "mimetype": "text/x-python",
   "name": "python",
   "nbconvert_exporter": "python",
   "pygments_lexer": "ipython3",
   "version": "3.12.2"
  }
 },
 "nbformat": 4,
 "nbformat_minor": 2
}
