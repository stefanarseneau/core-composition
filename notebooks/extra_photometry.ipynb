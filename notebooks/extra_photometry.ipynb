{
 "cells": [
  {
   "cell_type": "code",
   "execution_count": 1,
   "metadata": {},
   "outputs": [],
   "source": [
    "import sys\n",
    "sys.path.append('../')\n",
    "import corecomposition as cc\n",
    "\n",
    "import numpy as np\n",
    "import pyvo as vo\n",
    "import matplotlib.pyplot as plt\n",
    "from astropy.table import Table, join"
   ]
  },
  {
   "cell_type": "code",
   "execution_count": 2,
   "metadata": {},
   "outputs": [],
   "source": [
    "gold = Table.read('../data/gold.csv')\n",
    "silver = Table.read('../data/silver.csv')\n",
    "bronze = Table.read('../data/bronze.csv')"
   ]
  },
  {
   "cell_type": "code",
   "execution_count": 3,
   "metadata": {},
   "outputs": [
    {
     "name": "stderr",
     "output_type": "stream",
     "text": [
      "WARNING: MergeConflictWarning: In merged column 'source_id' the 'description' attribute does not match (ID in right/second table (source_id) != Unique Gaia source identifier).  Using Unique Gaia source identifier for merged output [astropy.utils.metadata.merge]\n"
     ]
    }
   ],
   "source": [
    "photo = cc.photometry.fetch_photometry(bronze['wd_source_id'])\n",
    "bronze = join(bronze, photo, keys_left='wd_source_id', keys_right='source_id')\n"
   ]
  },
  {
   "cell_type": "code",
   "execution_count": 4,
   "metadata": {},
   "outputs": [
    {
     "data": {
      "text/html": [
       "<div><i>Table length=1</i>\n",
       "<table id=\"table140142100772768\" class=\"table-striped table-bordered table-condensed\">\n",
       "<thead><tr><th>source_id</th><th>PS1_g</th><th>PS1_r</th><th>PS1_i</th><th>PS1_z</th><th>PS1_y</th><th>e_PS1_g</th><th>e_PS1_r</th><th>e_PS1_i</th><th>e_PS1_z</th><th>e_PS1_y</th><th>source</th><th>qualityFlag</th></tr></thead>\n",
       "<thead><tr><th></th><th>mag</th><th>mag</th><th>mag</th><th>mag</th><th>mag</th><th>mag</th><th>mag</th><th>mag</th><th>mag</th><th>mag</th><th></th><th></th></tr></thead>\n",
       "<thead><tr><th>int64</th><th>float32</th><th>float32</th><th>float32</th><th>float32</th><th>float32</th><th>float32</th><th>float32</th><th>float32</th><th>float32</th><th>float32</th><th>str3</th><th>uint8</th></tr></thead>\n",
       "<tr><td>1307515077152381568</td><td>20.4947</td><td>20.3694</td><td>20.0103</td><td>19.7876</td><td>-999.0</td><td>0.026247</td><td>0.033681</td><td>0.044099</td><td>0.108458</td><td>-999.0</td><td>ps1</td><td>53</td></tr>\n",
       "</table></div>"
      ],
      "text/plain": [
       "<Table length=1>\n",
       "     source_id       PS1_g   PS1_r   PS1_i  ... e_PS1_y source qualityFlag\n",
       "                      mag     mag     mag   ...   mag                     \n",
       "       int64        float32 float32 float32 ... float32  str3     uint8   \n",
       "------------------- ------- ------- ------- ... ------- ------ -----------\n",
       "1307515077152381568 20.4947 20.3694 20.0103 ...  -999.0    ps1          53"
      ]
     },
     "execution_count": 4,
     "metadata": {},
     "output_type": "execute_result"
    }
   ],
   "source": [
    "photo[photo['source_id'] == 1307515077152381568]"
   ]
  },
  {
   "cell_type": "code",
   "execution_count": 5,
   "metadata": {},
   "outputs": [],
   "source": [
    "source_ids = bronze['wd_source_id']\n",
    "distances = bronze['distance']\n",
    "astrometric_params = bronze['wd_astrometric_params_solved']\n",
    "photo = np.array([bronze['wd_phot_g_mean_mag'], bronze['wd_phot_bp_mean_mag'], bronze['wd_phot_rp_mean_mag']]).T\n",
    "e_photo = np.array([bronze['wd_e_gmag'], bronze['wd_e_bpmag'], bronze['wd_e_rpmag']]).T\n",
    "initial_params = np.array([bronze['CO_Hdef_teff'], bronze['CO_Hdef_radius']]).T"
   ]
  },
  {
   "cell_type": "code",
   "execution_count": 6,
   "metadata": {},
   "outputs": [
    {
     "data": {
      "text/plain": [
       "array([20.463974  , 20.26536369, 20.02454376])"
      ]
     },
     "execution_count": 6,
     "metadata": {},
     "output_type": "execute_result"
    }
   ],
   "source": [
    "photo[0]"
   ]
  },
  {
   "cell_type": "code",
   "execution_count": 7,
   "metadata": {},
   "outputs": [
    {
     "name": "stderr",
     "output_type": "stream",
     "text": [
      "WARNING: MergeConflictWarning: In merged column 'source_id' the 'description' attribute does not match (ID in right/second table (source_id) != Unique Gaia source identifier).  Using Unique Gaia source identifier for merged output [astropy.utils.metadata.merge]\n"
     ]
    }
   ],
   "source": [
    "i = 0\n",
    "obj = cc.photometry.Photometry(source_ids, distances, astrometric_params, photo, e_photo, initial_params)"
   ]
  },
  {
   "cell_type": "code",
   "execution_count": 8,
   "metadata": {},
   "outputs": [
    {
     "data": {
      "text/plain": [
       "[191.31002807617188,\n",
       " 31,\n",
       " array(['Gaia_G', 'Gaia_BP', 'Gaia_RP', 'PS1_g', 'PS1_r', 'PS1_i', 'PS1_z',\n",
       "        'PS1_y'], dtype='<U7'),\n",
       " array([  20.463974  ,   20.26536369,   20.02454376,   20.49469948,\n",
       "          20.36940002,   20.01029968,   19.78759956, -999.        ]),\n",
       " array([ 4.66615165e-03,  1.41416389e-01,  9.53912634e-02,  2.62470003e-02,\n",
       "         3.36810015e-02,  4.40989994e-02,  1.08457997e-01, -9.99000000e+02]),\n",
       " array([8.89800454e+03, 7.23204103e-03])]"
      ]
     },
     "execution_count": 8,
     "metadata": {},
     "output_type": "execute_result"
    }
   ],
   "source": [
    "obj.photo[1307515077152381568]"
   ]
  },
  {
   "cell_type": "code",
   "execution_count": 9,
   "metadata": {},
   "outputs": [
    {
     "ename": "TypeError",
     "evalue": "Photometry.run_mcmc() missing 1 required positional argument: 'initial_params'",
     "output_type": "error",
     "traceback": [
      "\u001b[0;31m---------------------------------------------------------------------------\u001b[0m",
      "\u001b[0;31mTypeError\u001b[0m                                 Traceback (most recent call last)",
      "Cell \u001b[0;32mIn[9], line 1\u001b[0m\n\u001b[0;32m----> 1\u001b[0m obj\u001b[38;5;241m.\u001b[39mrun_mcmc(cc\u001b[38;5;241m.\u001b[39minterpolator\u001b[38;5;241m.\u001b[39mLaPlataBase, layer\u001b[38;5;241m=\u001b[39m\u001b[38;5;124m'\u001b[39m\u001b[38;5;124mHrich\u001b[39m\u001b[38;5;124m'\u001b[39m)\n",
      "\u001b[0;31mTypeError\u001b[0m: Photometry.run_mcmc() missing 1 required positional argument: 'initial_params'"
     ]
    }
   ],
   "source": [
    "obj.run_mcmc(cc.interpolator.LaPlataBase, layer='Hrich')"
   ]
  },
  {
   "cell_type": "code",
   "execution_count": null,
   "metadata": {},
   "outputs": [],
   "source": []
  },
  {
   "cell_type": "code",
   "execution_count": null,
   "metadata": {},
   "outputs": [],
   "source": []
  },
  {
   "cell_type": "code",
   "execution_count": null,
   "metadata": {},
   "outputs": [],
   "source": []
  },
  {
   "cell_type": "code",
   "execution_count": null,
   "metadata": {},
   "outputs": [
    {
     "ename": "NameError",
     "evalue": "name 'table' is not defined",
     "output_type": "error",
     "traceback": [
      "\u001b[0;31m---------------------------------------------------------------------------\u001b[0m",
      "\u001b[0;31mNameError\u001b[0m                                 Traceback (most recent call last)",
      "Cell \u001b[0;32mIn[8], line 1\u001b[0m\n\u001b[0;32m----> 1\u001b[0m gold_coverage \u001b[38;5;241m=\u001b[39m join(gold, table, keys_left\u001b[38;5;241m=\u001b[39m\u001b[38;5;124m'\u001b[39m\u001b[38;5;124mwd_source_id\u001b[39m\u001b[38;5;124m'\u001b[39m, keys_right\u001b[38;5;241m=\u001b[39m\u001b[38;5;124m'\u001b[39m\u001b[38;5;124msource_id\u001b[39m\u001b[38;5;124m'\u001b[39m)\n\u001b[1;32m      2\u001b[0m silver_coverage \u001b[38;5;241m=\u001b[39m join(silver, table, keys_left\u001b[38;5;241m=\u001b[39m\u001b[38;5;124m'\u001b[39m\u001b[38;5;124mwd_source_id\u001b[39m\u001b[38;5;124m'\u001b[39m, keys_right\u001b[38;5;241m=\u001b[39m\u001b[38;5;124m'\u001b[39m\u001b[38;5;124msource_id\u001b[39m\u001b[38;5;124m'\u001b[39m)\n\u001b[1;32m      3\u001b[0m bronze_coverage \u001b[38;5;241m=\u001b[39m table\n",
      "\u001b[0;31mNameError\u001b[0m: name 'table' is not defined"
     ]
    }
   ],
   "source": [
    "gold_coverage = join(gold, table, keys_left='wd_source_id', keys_right='source_id')\n",
    "silver_coverage = join(silver, table, keys_left='wd_source_id', keys_right='source_id')\n",
    "bronze_coverage = table\n",
    "\n",
    "print(f'gold coverage = {len(gold_coverage)} / {len(gold)}')\n",
    "print(f'silver coverage = {len(silver_coverage)} / {len(silver)}')\n",
    "print(f'bronze coverage = {len(bronze_coverage)} / {len(bronze)}')"
   ]
  },
  {
   "cell_type": "code",
   "execution_count": null,
   "metadata": {},
   "outputs": [
    {
     "data": {
      "text/html": [
       "<div><i>Table length=3</i>\n",
       "<table id=\"table140691265035520\" class=\"table-striped table-bordered table-condensed\">\n",
       "<thead><tr><th>wd_solution_id</th><th>ms_solution_id</th><th>wd_source_id</th><th>ms_source_id</th><th>wd_random_index</th><th>ms_random_index</th><th>wd_ref_epoch</th><th>ms_ref_epoch</th><th>wd_ra</th><th>ms_ra</th><th>wd_ra_error</th><th>ms_ra_error</th><th>wd_dec</th><th>ms_dec</th><th>wd_dec_error</th><th>ms_dec_error</th><th>wd_parallax</th><th>ms_parallax</th><th>wd_parallax_error</th><th>ms_parallax_error</th><th>wd_parallax_over_error</th><th>ms_parallax_over_error</th><th>wd_pm</th><th>ms_pm</th><th>wd_pmra</th><th>ms_pmra</th><th>wd_pmra_error</th><th>ms_pmra_error</th><th>wd_pmdec</th><th>ms_pmdec</th><th>wd_pmdec_error</th><th>ms_pmdec_error</th><th>wd_ra_dec_corr</th><th>ms_ra_dec_corr</th><th>wd_ra_parallax_corr</th><th>ms_ra_parallax_corr</th><th>wd_ra_pmra_corr</th><th>ms_ra_pmra_corr</th><th>wd_ra_pmdec_corr</th><th>ms_ra_pmdec_corr</th><th>wd_dec_parallax_corr</th><th>ms_dec_parallax_corr</th><th>wd_dec_pmra_corr</th><th>ms_dec_pmra_corr</th><th>wd_dec_pmdec_corr</th><th>ms_dec_pmdec_corr</th><th>wd_parallax_pmra_corr</th><th>ms_parallax_pmra_corr</th><th>wd_parallax_pmdec_corr</th><th>ms_parallax_pmdec_corr</th><th>wd_pmra_pmdec_corr</th><th>ms_pmra_pmdec_corr</th><th>wd_astrometric_n_obs_al</th><th>ms_astrometric_n_obs_al</th><th>wd_astrometric_n_obs_ac</th><th>ms_astrometric_n_obs_ac</th><th>wd_astrometric_n_good_obs_al</th><th>ms_astrometric_n_good_obs_al</th><th>wd_astrometric_n_bad_obs_al</th><th>ms_astrometric_n_bad_obs_al</th><th>wd_astrometric_gof_al</th><th>ms_astrometric_gof_al</th><th>wd_astrometric_chi2_al</th><th>ms_astrometric_chi2_al</th><th>wd_astrometric_excess_noise</th><th>ms_astrometric_excess_noise</th><th>wd_astrometric_excess_noise_sig</th><th>ms_astrometric_excess_noise_sig</th><th>wd_astrometric_params_solved</th><th>ms_astrometric_params_solved</th><th>wd_astrometric_primary_flag</th><th>ms_astrometric_primary_flag</th><th>wd_nu_eff_used_in_astrometry</th><th>ms_nu_eff_used_in_astrometry</th><th>wd_pseudocolour</th><th>ms_pseudocolour</th><th>wd_pseudocolour_error</th><th>ms_pseudocolour_error</th><th>wd_ra_pseudocolour_corr</th><th>ms_ra_pseudocolour_corr</th><th>wd_dec_pseudocolour_corr</th><th>ms_dec_pseudocolour_corr</th><th>wd_parallax_pseudocolour_corr</th><th>ms_parallax_pseudocolour_corr</th><th>wd_pmra_pseudocolour_corr</th><th>ms_pmra_pseudocolour_corr</th><th>wd_pmdec_pseudocolour_corr</th><th>ms_pmdec_pseudocolour_corr</th><th>wd_astrometric_matched_transits</th><th>ms_astrometric_matched_transits</th><th>wd_visibility_periods_used</th><th>ms_visibility_periods_used</th><th>wd_astrometric_sigma5d_max</th><th>ms_astrometric_sigma5d_max</th><th>wd_matched_transits</th><th>ms_matched_transits</th><th>wd_new_matched_transits</th><th>ms_new_matched_transits</th><th>wd_matched_transits_removed</th><th>ms_matched_transits_removed</th><th>wd_ipd_gof_harmonic_amplitude</th><th>ms_ipd_gof_harmonic_amplitude</th><th>wd_ipd_gof_harmonic_phase</th><th>ms_ipd_gof_harmonic_phase</th><th>wd_ipd_frac_multi_peak</th><th>ms_ipd_frac_multi_peak</th><th>wd_ipd_frac_odd_win</th><th>ms_ipd_frac_odd_win</th><th>wd_ruwe</th><th>ms_ruwe</th><th>wd_scan_direction_strength_k1</th><th>ms_scan_direction_strength_k1</th><th>wd_scan_direction_strength_k2</th><th>ms_scan_direction_strength_k2</th><th>wd_scan_direction_strength_k3</th><th>ms_scan_direction_strength_k3</th><th>wd_scan_direction_strength_k4</th><th>ms_scan_direction_strength_k4</th><th>wd_scan_direction_mean_k1</th><th>ms_scan_direction_mean_k1</th><th>wd_scan_direction_mean_k2</th><th>ms_scan_direction_mean_k2</th><th>wd_scan_direction_mean_k3</th><th>ms_scan_direction_mean_k3</th><th>wd_scan_direction_mean_k4</th><th>ms_scan_direction_mean_k4</th><th>wd_duplicated_source</th><th>ms_duplicated_source</th><th>wd_phot_g_n_obs</th><th>ms_phot_g_n_obs</th><th>wd_phot_g_mean_flux</th><th>ms_phot_g_mean_flux</th><th>wd_phot_g_mean_flux_error</th><th>ms_phot_g_mean_flux_error</th><th>wd_phot_g_mean_flux_over_error</th><th>ms_phot_g_mean_flux_over_error</th><th>wd_phot_g_mean_mag</th><th>ms_phot_g_mean_mag</th><th>wd_phot_bp_n_obs</th><th>ms_phot_bp_n_obs</th><th>wd_phot_bp_mean_flux</th><th>ms_phot_bp_mean_flux</th><th>wd_phot_bp_mean_flux_error</th><th>ms_phot_bp_mean_flux_error</th><th>wd_phot_bp_mean_flux_over_error</th><th>ms_phot_bp_mean_flux_over_error</th><th>wd_phot_bp_mean_mag</th><th>ms_phot_bp_mean_mag</th><th>wd_phot_rp_n_obs</th><th>ms_phot_rp_n_obs</th><th>wd_phot_rp_mean_flux</th><th>ms_phot_rp_mean_flux</th><th>wd_phot_rp_mean_flux_error</th><th>ms_phot_rp_mean_flux_error</th><th>wd_phot_rp_mean_flux_over_error</th><th>ms_phot_rp_mean_flux_over_error</th><th>wd_phot_rp_mean_mag</th><th>ms_phot_rp_mean_mag</th><th>wd_phot_bp_n_contaminated_transits</th><th>ms_phot_bp_n_contaminated_transits</th><th>wd_phot_bp_n_blended_transits</th><th>ms_phot_bp_n_blended_transits</th><th>wd_phot_rp_n_contaminated_transits</th><th>ms_phot_rp_n_contaminated_transits</th><th>wd_phot_rp_n_blended_transits</th><th>ms_phot_rp_n_blended_transits</th><th>wd_phot_proc_mode</th><th>ms_phot_proc_mode</th><th>wd_phot_bp_rp_excess_factor</th><th>ms_phot_bp_rp_excess_factor</th><th>wd_bp_rp</th><th>ms_bp_rp</th><th>wd_bp_g</th><th>ms_bp_g</th><th>wd_g_rp</th><th>ms_g_rp</th><th>wd_dr2_radial_velocity</th><th>ms_dr2_radial_velocity</th><th>wd_dr2_radial_velocity_error</th><th>ms_dr2_radial_velocity_error</th><th>wd_dr2_rv_nb_transits</th><th>ms_dr2_rv_nb_transits</th><th>wd_dr2_rv_template_teff</th><th>ms_dr2_rv_template_teff</th><th>wd_dr2_rv_template_logg</th><th>ms_dr2_rv_template_logg</th><th>wd_dr2_rv_template_fe_h</th><th>ms_dr2_rv_template_fe_h</th><th>wd_l</th><th>ms_l</th><th>wd_b</th><th>ms_b</th><th>wd_ecl_lon</th><th>ms_ecl_lon</th><th>wd_ecl_lat</th><th>ms_ecl_lat</th><th>wd_dr2_source_id</th><th>ms_dr2_source_id</th><th>wd_dr2_parallax</th><th>ms_dr2_parallax</th><th>wd_dr2_parallax_error</th><th>ms_dr2_parallax_error</th><th>wd_dr2_pmra</th><th>ms_dr2_pmra</th><th>wd_dr2_pmdec</th><th>ms_dr2_pmdec</th><th>wd_dr2_pmra_error</th><th>ms_dr2_pmra_error</th><th>wd_dr2_pmdec_error</th><th>ms_dr2_pmdec_error</th><th>wd_dr2_ruwe</th><th>ms_dr2_ruwe</th><th>pairdistance</th><th>sep_AU</th><th>binary_type</th><th>Sigma18</th><th>R_chance_align</th><th>r_med_geo</th><th>ms_rv</th><th>ms_erv</th><th>ms_m_g</th><th>wd_m_g</th><th>wd_e_gmag</th><th>wd_e_bpmag</th><th>wd_e_rpmag</th><th>source_id_1</th><th>distance</th><th>Warwick_radius</th><th>Warwick_e_radius</th><th>Warwick_teff</th><th>Warwick_e_teff</th><th>Warwick_chi2</th><th>Warwick_roe</th><th>Warwick_failed</th><th>CO_Hrich_radius</th><th>CO_Hrich_e_radius</th><th>CO_Hrich_teff</th><th>CO_Hrich_e_teff</th><th>CO_Hrich_chi2</th><th>CO_Hrich_roe</th><th>CO_Hrich_failed</th><th>ONe_Hrich_radius</th><th>ONe_Hrich_e_radius</th><th>ONe_Hrich_teff</th><th>ONe_Hrich_e_teff</th><th>ONe_Hrich_chi2</th><th>ONe_Hrich_roe</th><th>ONe_Hrich_failed</th><th>CO_Hdef_radius</th><th>CO_Hdef_e_radius</th><th>CO_Hdef_teff</th><th>CO_Hdef_e_teff</th><th>CO_Hdef_chi2</th><th>CO_Hdef_roe</th><th>CO_Hdef_failed</th><th>ONe_Hdef_radius</th><th>ONe_Hdef_e_radius</th><th>ONe_Hdef_teff</th><th>ONe_Hdef_e_teff</th><th>ONe_Hdef_chi2</th><th>ONe_Hdef_roe</th><th>ONe_Hdef_failed</th><th>all_clear</th><th>mean_radius</th><th>source_id_2</th><th>clean_panstarrs1_oid</th><th>original_ext_source_id</th><th>angular_distance</th><th>number_of_neighbours</th><th>number_of_mates</th><th>xm_flag</th><th>id1</th><th>ra1</th><th>dec1</th><th>id2</th><th>mag_auto_g</th><th>mag_auto_r</th><th>mag_auto_i</th><th>mag_auto_z</th><th>mag_auto_y</th></tr></thead>\n",
       "<thead><tr><th></th><th></th><th></th><th></th><th></th><th></th><th></th><th></th><th></th><th></th><th></th><th></th><th></th><th></th><th></th><th></th><th></th><th></th><th></th><th></th><th></th><th></th><th></th><th></th><th></th><th></th><th></th><th></th><th></th><th></th><th></th><th></th><th></th><th></th><th></th><th></th><th></th><th></th><th></th><th></th><th></th><th></th><th></th><th></th><th></th><th></th><th></th><th></th><th></th><th></th><th></th><th></th><th></th><th></th><th></th><th></th><th></th><th></th><th></th><th></th><th></th><th></th><th></th><th></th><th></th><th></th><th></th><th></th><th></th><th></th><th></th><th></th><th></th><th></th><th></th><th></th><th></th><th></th><th></th><th></th><th></th><th></th><th></th><th></th><th></th><th></th><th></th><th></th><th></th><th></th><th></th><th></th><th></th><th></th><th></th><th></th><th></th><th></th><th></th><th></th><th></th><th></th><th></th><th></th><th></th><th></th><th></th><th></th><th></th><th></th><th></th><th></th><th></th><th></th><th></th><th></th><th></th><th></th><th></th><th></th><th></th><th></th><th></th><th></th><th></th><th></th><th></th><th></th><th></th><th></th><th></th><th></th><th></th><th></th><th></th><th></th><th></th><th></th><th></th><th></th><th></th><th></th><th></th><th></th><th></th><th></th><th></th><th></th><th></th><th></th><th></th><th></th><th></th><th></th><th></th><th></th><th></th><th></th><th></th><th></th><th></th><th></th><th></th><th></th><th></th><th></th><th></th><th></th><th></th><th></th><th></th><th></th><th></th><th></th><th></th><th></th><th></th><th></th><th></th><th></th><th></th><th></th><th></th><th></th><th></th><th></th><th></th><th></th><th></th><th></th><th></th><th></th><th></th><th></th><th></th><th></th><th></th><th></th><th></th><th></th><th></th><th></th><th></th><th></th><th></th><th></th><th></th><th></th><th></th><th></th><th></th><th></th><th></th><th></th><th></th><th></th><th></th><th></th><th></th><th></th><th></th><th></th><th></th><th></th><th></th><th></th><th></th><th></th><th></th><th></th><th></th><th></th><th></th><th></th><th></th><th></th><th></th><th></th><th></th><th></th><th></th><th></th><th></th><th></th><th></th><th></th><th></th><th></th><th></th><th></th><th></th><th></th><th></th><th></th><th></th><th></th><th></th><th></th><th></th><th></th><th></th><th></th><th></th><th></th><th></th><th></th><th></th><th>arcsec</th><th></th><th></th><th></th><th></th><th></th><th></th><th></th><th>mag</th><th>mag</th><th>mag</th><th>mag</th><th>mag</th></tr></thead>\n",
       "<thead><tr><th>int64</th><th>int64</th><th>int64</th><th>int64</th><th>int64</th><th>int64</th><th>float64</th><th>float64</th><th>float64</th><th>float64</th><th>float64</th><th>float64</th><th>float64</th><th>float64</th><th>float64</th><th>float64</th><th>float64</th><th>float64</th><th>float64</th><th>float64</th><th>float64</th><th>float64</th><th>float64</th><th>float64</th><th>float64</th><th>float64</th><th>float64</th><th>float64</th><th>float64</th><th>float64</th><th>float64</th><th>float64</th><th>float64</th><th>float64</th><th>float64</th><th>float64</th><th>float64</th><th>float64</th><th>float64</th><th>float64</th><th>float64</th><th>float64</th><th>float64</th><th>float64</th><th>float64</th><th>float64</th><th>float64</th><th>float64</th><th>float64</th><th>float64</th><th>float64</th><th>float64</th><th>int64</th><th>int64</th><th>int64</th><th>int64</th><th>int64</th><th>int64</th><th>int64</th><th>int64</th><th>float64</th><th>float64</th><th>float64</th><th>float64</th><th>float64</th><th>float64</th><th>float64</th><th>float64</th><th>int64</th><th>int64</th><th>str5</th><th>str5</th><th>float64</th><th>float64</th><th>float64</th><th>float64</th><th>float64</th><th>float64</th><th>float64</th><th>float64</th><th>float64</th><th>float64</th><th>float64</th><th>float64</th><th>float64</th><th>float64</th><th>float64</th><th>float64</th><th>int64</th><th>int64</th><th>int64</th><th>int64</th><th>float64</th><th>float64</th><th>int64</th><th>int64</th><th>int64</th><th>int64</th><th>int64</th><th>int64</th><th>float64</th><th>float64</th><th>float64</th><th>float64</th><th>int64</th><th>int64</th><th>int64</th><th>int64</th><th>float64</th><th>float64</th><th>float64</th><th>float64</th><th>float64</th><th>float64</th><th>float64</th><th>float64</th><th>float64</th><th>float64</th><th>float64</th><th>float64</th><th>float64</th><th>float64</th><th>float64</th><th>float64</th><th>float64</th><th>float64</th><th>str5</th><th>str5</th><th>int64</th><th>int64</th><th>float64</th><th>float64</th><th>float64</th><th>float64</th><th>float64</th><th>float64</th><th>float64</th><th>float64</th><th>int64</th><th>int64</th><th>float64</th><th>float64</th><th>float64</th><th>float64</th><th>float64</th><th>float64</th><th>float64</th><th>float64</th><th>int64</th><th>int64</th><th>float64</th><th>float64</th><th>float64</th><th>float64</th><th>float64</th><th>float64</th><th>float64</th><th>float64</th><th>int64</th><th>int64</th><th>int64</th><th>int64</th><th>int64</th><th>int64</th><th>int64</th><th>int64</th><th>int64</th><th>int64</th><th>float64</th><th>float64</th><th>float64</th><th>float64</th><th>float64</th><th>float64</th><th>float64</th><th>float64</th><th>float64</th><th>float64</th><th>float64</th><th>float64</th><th>int64</th><th>int64</th><th>float64</th><th>float64</th><th>float64</th><th>float64</th><th>float64</th><th>float64</th><th>float64</th><th>float64</th><th>float64</th><th>float64</th><th>float64</th><th>float64</th><th>float64</th><th>float64</th><th>int64</th><th>int64</th><th>float64</th><th>float64</th><th>float64</th><th>float64</th><th>float64</th><th>float64</th><th>float64</th><th>float64</th><th>float64</th><th>float64</th><th>float64</th><th>float64</th><th>float64</th><th>float64</th><th>float64</th><th>float64</th><th>str4</th><th>float64</th><th>float64</th><th>float64</th><th>float64</th><th>float64</th><th>float64</th><th>float64</th><th>float64</th><th>float64</th><th>float64</th><th>int64</th><th>float64</th><th>float64</th><th>float64</th><th>float64</th><th>float64</th><th>float64</th><th>float64</th><th>str5</th><th>float64</th><th>float64</th><th>float64</th><th>float64</th><th>float64</th><th>float64</th><th>str5</th><th>float64</th><th>float64</th><th>float64</th><th>float64</th><th>float64</th><th>float64</th><th>str5</th><th>float64</th><th>float64</th><th>float64</th><th>float64</th><th>float64</th><th>float64</th><th>str5</th><th>float64</th><th>float64</th><th>float64</th><th>float64</th><th>float64</th><th>float64</th><th>str5</th><th>str4</th><th>float64</th><th>int64</th><th>int64</th><th>int64</th><th>float32</th><th>int16</th><th>int16</th><th>int16</th><th>int64</th><th>float64</th><th>float64</th><th>int64</th><th>float32</th><th>float32</th><th>float32</th><th>float32</th><th>float32</th></tr></thead>\n",
       "<tr><td>1636042515805110273</td><td>1636042515805110273</td><td>2153552814748001792</td><td>2153552647245580544</td><td>636749928</td><td>171107877</td><td>2016.0</td><td>2016.0</td><td>284.65870302124665</td><td>284.6981046777321</td><td>0.2898065149784088</td><td>0.009396465495228767</td><td>57.78819239158009</td><td>57.786430251602575</td><td>0.32130923867225647</td><td>0.010693264193832874</td><td>5.599831129284158</td><td>5.593410153858563</td><td>0.33257853984832764</td><td>0.011052655056118965</td><td>16.83761978149414</td><td>506.0693664550781</td><td>46.61062240600586</td><td>46.09187698364258</td><td>-27.426623405344564</td><td>-26.611763626969427</td><td>0.3836207985877991</td><td>0.01171753741800785</td><td>-37.68727291250213</td><td>-37.63343010769805</td><td>0.4038281738758087</td><td>0.013443460687994957</td><td>0.08092981576919556</td><td>0.0746103972196579</td><td>-0.15571588277816772</td><td>-0.049719542264938354</td><td>0.18432758748531342</td><td>-0.004716598894447088</td><td>0.15103848278522491</td><td>0.021653754636645317</td><td>0.28626149892807007</td><td>0.2871832549571991</td><td>0.0458432175219059</td><td>-0.05642170086503029</td><td>-0.16958940029144287</td><td>-0.09044290333986282</td><td>-0.2368052899837494</td><td>-0.21648983657360077</td><td>-0.34046831727027893</td><td>-0.3335281014442444</td><td>0.1582971215248108</td><td>0.19399268925189972</td><td>308</td><td>303</td><td>0</td><td>303</td><td>306</td><td>302</td><td>2</td><td>1</td><td>2.681798219680786</td><td>-2.01088285446167</td><td>393.04437255859375</td><td>496.896728515625</td><td>1.1655598878860474</td><td>0.06447678804397583</td><td>1.3989020586013794</td><td>5.324532985687256</td><td>31</td><td>31</td><td>False</td><td>True</td><td>1.6526587009429932</td><td>1.560265064239502</td><td>1.0000000200408773e+20</td><td>1.0000000200408773e+20</td><td>1.0000000200408773e+20</td><td>1.0000000200408773e+20</td><td>1.0000000200408773e+20</td><td>1.0000000200408773e+20</td><td>1.0000000200408773e+20</td><td>1.0000000200408773e+20</td><td>1.0000000200408773e+20</td><td>1.0000000200408773e+20</td><td>1.0000000200408773e+20</td><td>1.0000000200408773e+20</td><td>1.0000000200408773e+20</td><td>1.0000000200408773e+20</td><td>36</td><td>34</td><td>24</td><td>23</td><td>0.6017594337463379</td><td>0.019672179594635963</td><td>39</td><td>38</td><td>14</td><td>14</td><td>0</td><td>3</td><td>0.019465532153844833</td><td>0.011950136162340641</td><td>100.96322631835938</td><td>116.49790954589844</td><td>1</td><td>0</td><td>0</td><td>0</td><td>1.1101226806640625</td><td>0.9175468683242798</td><td>0.25968363881111145</td><td>1.0000000200408773e+20</td><td>0.09327628463506699</td><td>1.0000000200408773e+20</td><td>0.10133872181177139</td><td>1.0000000200408773e+20</td><td>0.017191363498568535</td><td>1.0000000200408773e+20</td><td>-102.17582702636719</td><td>1.0000000200408773e+20</td><td>-58.82503890991211</td><td>1.0000000200408773e+20</td><td>18.982444763183594</td><td>1.0000000200408773e+20</td><td>5.134544372558594</td><td>1.0000000200408773e+20</td><td>False</td><td>False</td><td>320</td><td>307</td><td>2.979864863766432e-17</td><td>3607448.931950914</td><td>1.090053068479745e-19</td><td>594.586669921875</td><td>273.3687744140625</td><td>6067.154296875</td><td>19.824588775634766</td><td>9.294366836547852</td><td>33</td><td>37</td><td>4.4120041936560796e-17</td><td>1951891.78451818</td><td>2.3099354807380034e-18</td><td>1350.8482666015625</td><td>19.10011863708496</td><td>1444.9378662109375</td><td>19.923072814941406</td><td>9.61240291595459</td><td>30</td><td>35</td><td>1.5943546574394087e-17</td><td>2366975.0726885144</td><td>1.3750130262909716e-18</td><td>669.782958984375</td><td>11.595196723937988</td><td>3533.943359375</td><td>19.77752685546875</td><td>8.812411308288574</td><td>0</td><td>0</td><td>1</td><td>0</td><td>0</td><td>0</td><td>0</td><td>0</td><td>0</td><td>0</td><td>1.101912260055542</td><td>1.197208046913147</td><td>0.14554595947265625</td><td>0.7999916076660156</td><td>0.09848403930664062</td><td>0.3180360794067383</td><td>0.047061920166015625</td><td>0.48195552825927734</td><td>1.0000000200408773e+20</td><td>-30.40349006652832</td><td>1.0000000200408773e+20</td><td>0.11809445172548294</td><td>0</td><td>2</td><td>1.0000000200408773e+20</td><td>6000.0</td><td>1.0000000200408773e+20</td><td>4.5</td><td>1.0000000200408773e+20</td><td>0.0</td><td>87.92256577897604</td><td>87.9272493358824</td><td>21.77145196321303</td><td>21.750828305587163</td><td>314.64148949175296</td><td>314.7297583085887</td><td>78.93197348557784</td><td>78.91945188707486</td><td>2153552814748001792</td><td>2153552647245580544</td><td>5.011773180508721</td><td>5.590438282532193</td><td>0.4269263262540799</td><td>0.023968456898276345</td><td>-26.4932104205828</td><td>-26.784008671532526</td><td>-37.172196128527055</td><td>-37.72599423193254</td><td>0.7200115648133038</td><td>0.041087700831360166</td><td>0.7612082531209754</td><td>0.04550263031323575</td><td>1.0795485</td><td>1.1131035</td><td>0.021077380505969648</td><td>13565.70816984458</td><td>WDMS</td><td>1019.2282555604978</td><td>0.029983574159377045</td><td>178.35098266601562</td><td>-30.710433959960938</td><td>0.15270623564720154</td><td>3.0327501688644656</td><td>13.565463427874818</td><td>0.0033560202640016456</td><td>0.048032748158071736</td><td>0.07912165807950793</td><td>2153552814748001792</td><td>178.35098266601562</td><td>0.00649746052708712</td><td>4.859255581484389e-06</td><td>10059.441764434974</td><td>4.514866982116124</td><td>9.42413485825351e-13</td><td>1337.1308461001545</td><td>False</td><td>0.006843617565134587</td><td>3.8642624227826485e-09</td><td>9794.920033816205</td><td>0.003561190736371387</td><td>7.325507982197405e-17</td><td>1771002.2810010172</td><td>False</td><td>0.006753366202440001</td><td>5.7897455305795686e-09</td><td>9929.879710918063</td><td>0.006809876871271519</td><td>1.0253708526456159e-16</td><td>1166435.75555625</td><td>False</td><td>0.006920273615727174</td><td>7.376892130046221e-08</td><td>9743.768235839692</td><td>0.15700972830607657</td><td>2.3692655706416963e-14</td><td>93810.15058551241</td><td>False</td><td>0.006897955911888805</td><td>8.328933445774016e-08</td><td>9780.162602891702</td><td>0.174034937510155</td><td>2.2244416396986515e-14</td><td>82819.19836193109</td><td>False</td><td>True</td><td>0.006782534764455538</td><td>2153552814748001792</td><td>2053190647</td><td>177342846587376626</td><td>0.09929775</td><td>1</td><td>0</td><td>40</td><td>--</td><td>--</td><td>--</td><td>--</td><td>--</td><td>--</td><td>--</td><td>--</td><td>--</td></tr>\n",
       "<tr><td>1636042515805110273</td><td>1636042515805110273</td><td>2376773024012888832</td><td>2376772955294340992</td><td>544104900</td><td>758103893</td><td>2016.0</td><td>2016.0</td><td>12.663657432391298</td><td>12.66758790543007</td><td>0.4646611511707306</td><td>0.016184942796826363</td><td>-10.891000327460226</td><td>-10.894999424455644</td><td>0.28684788942337036</td><td>0.011173640377819538</td><td>5.396488146069533</td><td>4.879111734317101</td><td>0.5774309635162354</td><td>0.021297043189406395</td><td>9.345685005187988</td><td>229.09808349609375</td><td>74.29205322265625</td><td>73.7109146118164</td><td>41.116490762835554</td><td>40.1594420878323</td><td>0.8448500633239746</td><td>0.02441486157476902</td><td>-61.8768403788585</td><td>-61.81033827538006</td><td>0.6412928104400635</td><td>0.024275576695799828</td><td>0.4436901807785034</td><td>0.4937078654766083</td><td>0.24853861331939697</td><td>0.3324071168899536</td><td>0.16198505461215973</td><td>-0.00011184414324816316</td><td>-0.22180816531181335</td><td>-0.1672757863998413</td><td>0.1950332671403885</td><td>0.2335992455482483</td><td>-0.08745857328176498</td><td>-0.024966023862361908</td><td>0.09314507246017456</td><td>0.11468508094549179</td><td>0.24152253568172455</td><td>0.13338132202625275</td><td>-0.06648267805576324</td><td>-0.11234907060861588</td><td>0.31601962447166443</td><td>0.4734363555908203</td><td>414</td><td>415</td><td>0</td><td>415</td><td>413</td><td>404</td><td>1</td><td>11</td><td>1.3124003410339355</td><td>5.399499416351318</td><td>473.6506042480469</td><td>1198.2752685546875</td><td>0.0</td><td>0.10893377661705017</td><td>0.0</td><td>16.46969985961914</td><td>31</td><td>31</td><td>False</td><td>True</td><td>1.676171064376831</td><td>1.5621920824050903</td><td>1.0000000200408773e+20</td><td>1.0000000200408773e+20</td><td>1.0000000200408773e+20</td><td>1.0000000200408773e+20</td><td>1.0000000200408773e+20</td><td>1.0000000200408773e+20</td><td>1.0000000200408773e+20</td><td>1.0000000200408773e+20</td><td>1.0000000200408773e+20</td><td>1.0000000200408773e+20</td><td>1.0000000200408773e+20</td><td>1.0000000200408773e+20</td><td>1.0000000200408773e+20</td><td>1.0000000200408773e+20</td><td>48</td><td>47</td><td>19</td><td>18</td><td>1.2324951887130737</td><td>0.040876999497413635</td><td>51</td><td>53</td><td>6</td><td>6</td><td>0</td><td>2</td><td>0.03903418779373169</td><td>0.019796548411250114</td><td>42.4124641418457</td><td>31.70210075378418</td><td>0</td><td>0</td><td>0</td><td>0</td><td>1.0454639196395874</td><td>1.1962188482284546</td><td>0.035469669848680496</td><td>1.0000000200408773e+20</td><td>0.5741763114929199</td><td>1.0000000200408773e+20</td><td>0.16622595489025116</td><td>1.0000000200408773e+20</td><td>0.09634409844875336</td><td>1.0000000200408773e+20</td><td>111.10087585449219</td><td>1.0000000200408773e+20</td><td>-25.57398796081543</td><td>1.0000000200408773e+20</td><td>29.9908504486084</td><td>1.0000000200408773e+20</td><td>8.16538143157959</td><td>1.0000000200408773e+20</td><td>False</td><td>False</td><td>429</td><td>443</td><td>2.384931356561536e-17</td><td>2243470.5374546647</td><td>9.57502646676493e-20</td><td>404.10137939453125</td><td>249.07830810546875</td><td>5551.751953125</td><td>20.066390991210938</td><td>9.810066223144531</td><td>38</td><td>51</td><td>2.98271402223471e-17</td><td>1220522.608367261</td><td>2.5648646931801178e-18</td><td>285.67218017578125</td><td>11.629128456115723</td><td>4272.458984375</td><td>20.348134994506836</td><td>10.122178077697754</td><td>37</td><td>47</td><td>1.1773096167068195e-17</td><td>1469732.8516061248</td><td>9.442153567234122e-19</td><td>382.87823486328125</td><td>12.468655586242676</td><td>3838.64306640625</td><td>20.106761932373047</td><td>9.32979965209961</td><td>0</td><td>0</td><td>2</td><td>0</td><td>0</td><td>0</td><td>1</td><td>0</td><td>0</td><td>0</td><td>0.9650327563285828</td><td>1.1991490125656128</td><td>0.24137306213378906</td><td>0.7923784255981445</td><td>0.28174400329589844</td><td>0.31211185455322266</td><td>-0.040370941162109375</td><td>0.4802665710449219</td><td>1.0000000200408773e+20</td><td>4.661162853240967</td><td>1.0000000200408773e+20</td><td>0.46287229657173157</td><td>0</td><td>7</td><td>1.0000000200408773e+20</td><td>6250.0</td><td>1.0000000200408773e+20</td><td>4.5</td><td>1.0000000200408773e+20</td><td>0.0</td><td>122.24423360480797</td><td>122.2578830073983</td><td>-73.76170443184</td><td>-73.76574486453904</td><td>7.2778000156218114</td><td>7.279795613566785</td><td>-15.009737981348465</td><td>-15.014950896770195</td><td>2376773024012888832</td><td>2376772955294340992</td><td>5.092106785447576</td><td>4.846179035822812</td><td>0.7496024316434154</td><td>0.04472820078284543</td><td>40.031827781717304</td><td>40.09018814865682</td><td>-62.93371171331428</td><td>-61.76863043329972</td><td>1.672403868674186</td><td>0.08300570783314369</td><td>0.9828289133257018</td><td>0.05756072507908053</td><td>1.0417087</td><td>1.0566816</td><td>0.005557850143535427</td><td>4100.799818950645</td><td>WDMS</td><td>356.82538241202934</td><td>4.983887721957035e-05</td><td>203.69540405273438</td><td>4.553895950317383</td><td>0.18975982069969177</td><td>3.2517700421765747</td><td>13.726947128341246</td><td>0.0036833043127184146</td><td>0.07889079733880057</td><td>0.07357899812882328</td><td>2376773024012888832</td><td>203.69540405273438</td><td>0.007110999882717513</td><td>9.913194675740226e-08</td><td>9171.405042695267</td><td>0.09371718636804718</td><td>1.872489493074343e-14</td><td>71732.67665286246</td><td>False</td><td>0.007729991595240388</td><td>7.512728813646703e-08</td><td>8686.43345496398</td><td>0.03179965749161506</td><td>8.124151231384384e-15</td><td>102891.92897791055</td><td>False</td><td>0.007622050726276732</td><td>3.5566783374241197e-09</td><td>8846.480709260275</td><td>0.0034553017255822232</td><td>2.6692993335615027e-17</td><td>2143025.037174688</td><td>False</td><td>0.007417667101873367</td><td>1.81972399029432e-08</td><td>8893.556710210269</td><td>0.03009393652660518</td><td>1.126228062587365e-15</td><td>407625.944452908</td><td>False</td><td>0.007411351426944604</td><td>8.59411016226483e-08</td><td>8909.569787298222</td><td>0.19111443844152048</td><td>2.316038679720286e-14</td><td>86237.56604245656</td><td>False</td><td>True</td><td>0.00745841214661052</td><td>2376773024012888832</td><td>676179611</td><td>94930126635901317</td><td>0.18539149</td><td>1</td><td>0</td><td>40</td><td>--</td><td>--</td><td>--</td><td>--</td><td>--</td><td>--</td><td>--</td><td>--</td><td>--</td></tr>\n",
       "<tr><td>1636042515805110273</td><td>1636042515805110273</td><td>4248619071266347648</td><td>4247868414062631552</td><td>1628250266</td><td>709923998</td><td>2016.0</td><td>2016.0</td><td>301.35106967868836</td><td>301.345289624303</td><td>0.19261378049850464</td><td>0.015350233763456345</td><td>5.137256051068365</td><td>5.124689379689445</td><td>0.13221600651741028</td><td>0.00929998978972435</td><td>7.075986159119268</td><td>6.995178359581493</td><td>0.25491470098495483</td><td>0.01955631747841835</td><td>27.758251190185547</td><td>357.6940612792969</td><td>30.54435157775879</td><td>30.54012107849121</td><td>-15.98577922658821</td><td>-15.69467654860739</td><td>0.26682108640670776</td><td>0.02177407406270504</td><td>-26.027145826797614</td><td>-26.198781198073238</td><td>0.17794889211654663</td><td>0.012061145156621933</td><td>0.2447819709777832</td><td>0.19464640319347382</td><td>-0.04687744379043579</td><td>-0.04875599965453148</td><td>-0.2517751157283783</td><td>-0.2869202494621277</td><td>0.10972510278224945</td><td>0.14393211901187897</td><td>0.023705942556262016</td><td>0.032368164509534836</td><td>0.07022092491388321</td><td>0.023058898746967316</td><td>0.4526684284210205</td><td>0.5298811197280884</td><td>-0.1702234148979187</td><td>-0.12623924016952515</td><td>-0.17814145982265472</td><td>-0.248358815908432</td><td>0.22763201594352722</td><td>0.07466927915811539</td><td>577</td><td>591</td><td>0</td><td>591</td><td>577</td><td>585</td><td>0</td><td>6</td><td>0.31941211223602295</td><td>-4.255290985107422</td><td>608.65576171875</td><td>1655.3863525390625</td><td>0.0</td><td>0.1203952208161354</td><td>0.0</td><td>22.08155059814453</td><td>31</td><td>95</td><td>False</td><td>False</td><td>1.6969130039215088</td><td>1.0000000200408773e+20</td><td>1.0000000200408773e+20</td><td>1.579534888267517</td><td>1.0000000200408773e+20</td><td>0.00255045248195529</td><td>1.0000000200408773e+20</td><td>0.08836611360311508</td><td>1.0000000200408773e+20</td><td>-0.03778063505887985</td><td>1.0000000200408773e+20</td><td>0.06139792129397392</td><td>1.0000000200408773e+20</td><td>-0.007338317111134529</td><td>1.0000000200408773e+20</td><td>-0.031163889914751053</td><td>68</td><td>67</td><td>20</td><td>20</td><td>0.38120219111442566</td><td>0.030590441077947617</td><td>71</td><td>71</td><td>19</td><td>71</td><td>0</td><td>0</td><td>0.0614367350935936</td><td>0.030854567885398865</td><td>79.03189086914062</td><td>79.18655395507812</td><td>0</td><td>0</td><td>0</td><td>0</td><td>1.0088739395141602</td><td>0.8770449161529541</td><td>0.5484378337860107</td><td>1.0000000200408773e+20</td><td>0.5416955351829529</td><td>1.0000000200408773e+20</td><td>0.41309475898742676</td><td>1.0000000200408773e+20</td><td>0.2586752474308014</td><td>1.0000000200408773e+20</td><td>-179.6389923095703</td><td>1.0000000200408773e+20</td><td>-7.373289585113525</td><td>1.0000000200408773e+20</td><td>-57.7316780090332</td><td>1.0000000200408773e+20</td><td>11.931796073913574</td><td>1.0000000200408773e+20</td><td>False</td><td>True</td><td>579</td><td>588</td><td>5.699525288671754e-17</td><td>1765919.5019056057</td><td>1.0409322580889826e-19</td><td>328.58587646484375</td><td>547.5404663085938</td><td>5374.30126953125</td><td>19.120485305786133</td><td>10.069939613342285</td><td>58</td><td>66</td><td>8.784605295568782e-17</td><td>990133.6902824149</td><td>2.426456686958545e-18</td><td>215.59588623046875</td><td>36.20343017578125</td><td>4592.54443359375</td><td>19.175357818603516</td><td>10.349308013916016</td><td>56</td><td>68</td><td>3.0600609941510156e-17</td><td>1122358.9430072275</td><td>1.2651544211248922e-18</td><td>184.04800415039062</td><td>24.187252044677734</td><td>6098.18603515625</td><td>19.069664001464844</td><td>9.622566223144531</td><td>0</td><td>0</td><td>4</td><td>0</td><td>0</td><td>0</td><td>6</td><td>0</td><td>0</td><td>0</td><td>1.1305816173553467</td><td>1.1962565183639526</td><td>0.10569381713867188</td><td>0.7267417907714844</td><td>0.05487251281738281</td><td>0.27936840057373047</td><td>0.05082130432128906</td><td>0.4473733901977539</td><td>1.0000000200408773e+20</td><td>33.24044418334961</td><td>1.0000000200408773e+20</td><td>0.5022798180580139</td><td>0</td><td>4</td><td>1.0000000200408773e+20</td><td>6000.0</td><td>1.0000000200408773e+20</td><td>3.5</td><td>1.0000000200408773e+20</td><td>0.0</td><td>46.25765090862335</td><td>46.24346484180107</td><td>-13.904832867644657</td><td>-13.906033357977435</td><td>304.8295007050595</td><td>304.82016430203106</td><td>24.865416831821058</td><td>24.85449435195482</td><td>4248619071266347648</td><td>4247868414057315712</td><td>7.062260493986527</td><td>7.113451000533841</td><td>0.36899447365429755</td><td>0.08109365816248869</td><td>-15.954474137695094</td><td>-15.785861228661972</td><td>-25.64148425945131</td><td>-26.104123507883095</td><td>0.609665579322217</td><td>0.10994220553425954</td><td>0.35304624025436937</td><td>0.08582465946848511</td><td>0.9753609</td><td>0.87128717</td><td>0.013822555683918743</td><td>7113.642841422071</td><td>WDMS</td><td>1545.3944974223039</td><td>0.0023472233288806513</td><td>142.31100463867188</td><td>34.05265426635742</td><td>0.2577316164970398</td><td>4.293933575311755</td><td>13.369420179501407</td><td>0.001675549584656671</td><td>0.02534100255339259</td><td>0.03793035928665863</td><td>4248619071266347648</td><td>142.31100463867188</td><td>0.006877442935809149</td><td>3.4835131925174564e-09</td><td>10448.002210783718</td><td>0.003954065597441144</td><td>9.86323386357167e-16</td><td>1974283.591226757</td><td>False</td><td>0.007087251057226722</td><td>5.393587505212108e-09</td><td>10376.10393196323</td><td>0.007893819139269039</td><td>1.0350841426031602e-15</td><td>1314014.2901877344</td><td>False</td><td>0.007024546868848453</td><td>2.869388734325502e-09</td><td>10457.995614687366</td><td>0.0036917656236117313</td><td>3.997890779192681e-16</td><td>2448098.713435456</td><td>False</td><td>0.007337602613039304</td><td>3.814026757443953e-09</td><td>10185.825197285616</td><td>0.004906737183201911</td><td>1.282987477283223e-15</td><td>1923846.6533351608</td><td>False</td><td>0.007415039077276852</td><td>6.200733739780681e-09</td><td>10183.569637909246</td><td>0.025756707309981048</td><td>7.835276228741079e-14</td><td>1195832.5237714723</td><td>False</td><td>True</td><td>0.007148376510440095</td><td>4248619071266347648</td><td>1073019182</td><td>114163013511255283</td><td>0.06176854</td><td>1</td><td>0</td><td>8</td><td>--</td><td>--</td><td>--</td><td>--</td><td>--</td><td>--</td><td>--</td><td>--</td><td>--</td></tr>\n",
       "</table></div>"
      ],
      "text/plain": [
       "<Table length=3>\n",
       "   wd_solution_id      ms_solution_id   ... mag_auto_z mag_auto_y\n",
       "                                        ...    mag        mag    \n",
       "       int64               int64        ...  float32    float32  \n",
       "------------------- ------------------- ... ---------- ----------\n",
       "1636042515805110273 1636042515805110273 ...         --         --\n",
       "1636042515805110273 1636042515805110273 ...         --         --\n",
       "1636042515805110273 1636042515805110273 ...         --         --"
      ]
     },
     "execution_count": 92,
     "metadata": {},
     "output_type": "execute_result"
    }
   ],
   "source": [
    "gold_coverage"
   ]
  },
  {
   "cell_type": "code",
   "execution_count": null,
   "metadata": {},
   "outputs": [],
   "source": []
  }
 ],
 "metadata": {
  "kernelspec": {
   "display_name": "core-composition",
   "language": "python",
   "name": "python3"
  },
  "language_info": {
   "codemirror_mode": {
    "name": "ipython",
    "version": 3
   },
   "file_extension": ".py",
   "mimetype": "text/x-python",
   "name": "python",
   "nbconvert_exporter": "python",
   "pygments_lexer": "ipython3",
   "version": "3.12.2"
  }
 },
 "nbformat": 4,
 "nbformat_minor": 2
}
