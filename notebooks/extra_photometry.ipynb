{
 "cells": [
  {
   "cell_type": "code",
   "execution_count": 1,
   "metadata": {},
   "outputs": [],
   "source": [
    "import sys\n",
    "sys.path.append('../')\n",
    "import corecomposition as cc\n",
    "\n",
    "import numpy as np\n",
    "import pyvo as vo\n",
    "import matplotlib.pyplot as plt\n",
    "\n",
    "from astropy.coordinates import SkyCoord\n",
    "import astropy.units as u\n",
    "from astropy.table import Table, join"
   ]
  },
  {
   "cell_type": "code",
   "execution_count": 2,
   "metadata": {},
   "outputs": [],
   "source": [
    "gold = Table.read('../data/processed/gold.csv')\n",
    "silver = Table.read('../data/processed/silver.csv')\n",
    "bronze = Table.read('../data/processed/bronze.csv')"
   ]
  },
  {
   "cell_type": "code",
   "execution_count": 3,
   "metadata": {},
   "outputs": [
    {
     "name": "stderr",
     "output_type": "stream",
     "text": [
      "WARNING: MergeConflictWarning: In merged column 'source_id' the 'description' attribute does not match (ID in right/second table (source_id) != Unique Gaia source identifier).  Using Unique Gaia source identifier for merged output [astropy.utils.metadata.merge]\n"
     ]
    }
   ],
   "source": [
    "photo = cc.photometry.fetch_photometry(bronze['wd_source_id'])\n",
    "bronze = join(bronze, photo, keys_left='wd_source_id', keys_right='source_id')\n"
   ]
  },
  {
   "cell_type": "code",
   "execution_count": 4,
   "metadata": {},
   "outputs": [
    {
     "data": {
      "text/html": [
       "<div><i>Table length=1</i>\n",
       "<table id=\"table140103828031680\" class=\"table-striped table-bordered table-condensed\">\n",
       "<thead><tr><th>source_id</th><th>PS1_g</th><th>PS1_r</th><th>PS1_i</th><th>PS1_z</th><th>PS1_y</th><th>e_PS1_g</th><th>e_PS1_r</th><th>e_PS1_i</th><th>e_PS1_z</th><th>e_PS1_y</th><th>source</th><th>qualityFlag</th></tr></thead>\n",
       "<thead><tr><th></th><th>mag</th><th>mag</th><th>mag</th><th>mag</th><th>mag</th><th>mag</th><th>mag</th><th>mag</th><th>mag</th><th>mag</th><th></th><th></th></tr></thead>\n",
       "<thead><tr><th>int64</th><th>float32</th><th>float32</th><th>float32</th><th>float32</th><th>float32</th><th>float32</th><th>float32</th><th>float32</th><th>float32</th><th>float32</th><th>str3</th><th>uint8</th></tr></thead>\n",
       "<tr><td>1307515077152381568</td><td>20.4947</td><td>20.3694</td><td>20.0103</td><td>19.7876</td><td>-999.0</td><td>0.026247</td><td>0.033681</td><td>0.044099</td><td>0.108458</td><td>-999.0</td><td>ps1</td><td>53</td></tr>\n",
       "</table></div>"
      ],
      "text/plain": [
       "<Table length=1>\n",
       "     source_id       PS1_g   PS1_r   PS1_i  ... e_PS1_y source qualityFlag\n",
       "                      mag     mag     mag   ...   mag                     \n",
       "       int64        float32 float32 float32 ... float32  str3     uint8   \n",
       "------------------- ------- ------- ------- ... ------- ------ -----------\n",
       "1307515077152381568 20.4947 20.3694 20.0103 ...  -999.0    ps1          53"
      ]
     },
     "execution_count": 4,
     "metadata": {},
     "output_type": "execute_result"
    }
   ],
   "source": [
    "photo[photo['source_id'] == 1307515077152381568]"
   ]
  },
  {
   "cell_type": "code",
   "execution_count": 5,
   "metadata": {},
   "outputs": [
    {
     "data": {
      "text/html": [
       "<div><i>Table length=1</i>\n",
       "<table id=\"table140103865702576\" class=\"table-striped table-bordered table-condensed\">\n",
       "<thead><tr><th>wd_solution_id</th><th>ms_solution_id</th><th>wd_source_id</th><th>ms_source_id</th><th>wd_random_index</th><th>ms_random_index</th><th>wd_ref_epoch</th><th>ms_ref_epoch</th><th>wd_ra</th><th>ms_ra</th><th>wd_ra_error</th><th>ms_ra_error</th><th>wd_dec</th><th>ms_dec</th><th>wd_dec_error</th><th>ms_dec_error</th><th>wd_parallax</th><th>ms_parallax</th><th>wd_parallax_error</th><th>ms_parallax_error</th><th>wd_parallax_over_error</th><th>ms_parallax_over_error</th><th>wd_pm</th><th>ms_pm</th><th>wd_pmra</th><th>ms_pmra</th><th>wd_pmra_error</th><th>ms_pmra_error</th><th>wd_pmdec</th><th>ms_pmdec</th><th>wd_pmdec_error</th><th>ms_pmdec_error</th><th>wd_ra_dec_corr</th><th>ms_ra_dec_corr</th><th>wd_ra_parallax_corr</th><th>ms_ra_parallax_corr</th><th>wd_ra_pmra_corr</th><th>ms_ra_pmra_corr</th><th>wd_ra_pmdec_corr</th><th>ms_ra_pmdec_corr</th><th>wd_dec_parallax_corr</th><th>ms_dec_parallax_corr</th><th>wd_dec_pmra_corr</th><th>ms_dec_pmra_corr</th><th>wd_dec_pmdec_corr</th><th>ms_dec_pmdec_corr</th><th>wd_parallax_pmra_corr</th><th>ms_parallax_pmra_corr</th><th>wd_parallax_pmdec_corr</th><th>ms_parallax_pmdec_corr</th><th>wd_pmra_pmdec_corr</th><th>ms_pmra_pmdec_corr</th><th>wd_astrometric_n_obs_al</th><th>ms_astrometric_n_obs_al</th><th>wd_astrometric_n_obs_ac</th><th>ms_astrometric_n_obs_ac</th><th>wd_astrometric_n_good_obs_al</th><th>ms_astrometric_n_good_obs_al</th><th>wd_astrometric_n_bad_obs_al</th><th>ms_astrometric_n_bad_obs_al</th><th>wd_astrometric_gof_al</th><th>ms_astrometric_gof_al</th><th>wd_astrometric_chi2_al</th><th>ms_astrometric_chi2_al</th><th>wd_astrometric_excess_noise</th><th>ms_astrometric_excess_noise</th><th>wd_astrometric_excess_noise_sig</th><th>ms_astrometric_excess_noise_sig</th><th>wd_astrometric_params_solved</th><th>ms_astrometric_params_solved</th><th>wd_astrometric_primary_flag</th><th>ms_astrometric_primary_flag</th><th>wd_nu_eff_used_in_astrometry</th><th>ms_nu_eff_used_in_astrometry</th><th>wd_pseudocolour</th><th>ms_pseudocolour</th><th>wd_pseudocolour_error</th><th>ms_pseudocolour_error</th><th>wd_ra_pseudocolour_corr</th><th>ms_ra_pseudocolour_corr</th><th>wd_dec_pseudocolour_corr</th><th>ms_dec_pseudocolour_corr</th><th>wd_parallax_pseudocolour_corr</th><th>ms_parallax_pseudocolour_corr</th><th>wd_pmra_pseudocolour_corr</th><th>ms_pmra_pseudocolour_corr</th><th>wd_pmdec_pseudocolour_corr</th><th>ms_pmdec_pseudocolour_corr</th><th>wd_astrometric_matched_transits</th><th>ms_astrometric_matched_transits</th><th>wd_visibility_periods_used</th><th>ms_visibility_periods_used</th><th>wd_astrometric_sigma5d_max</th><th>ms_astrometric_sigma5d_max</th><th>wd_matched_transits</th><th>ms_matched_transits</th><th>wd_new_matched_transits</th><th>ms_new_matched_transits</th><th>wd_matched_transits_removed</th><th>ms_matched_transits_removed</th><th>wd_ipd_gof_harmonic_amplitude</th><th>ms_ipd_gof_harmonic_amplitude</th><th>wd_ipd_gof_harmonic_phase</th><th>ms_ipd_gof_harmonic_phase</th><th>wd_ipd_frac_multi_peak</th><th>ms_ipd_frac_multi_peak</th><th>wd_ipd_frac_odd_win</th><th>ms_ipd_frac_odd_win</th><th>wd_ruwe</th><th>ms_ruwe</th><th>wd_scan_direction_strength_k1</th><th>ms_scan_direction_strength_k1</th><th>wd_scan_direction_strength_k2</th><th>ms_scan_direction_strength_k2</th><th>wd_scan_direction_strength_k3</th><th>ms_scan_direction_strength_k3</th><th>wd_scan_direction_strength_k4</th><th>ms_scan_direction_strength_k4</th><th>wd_scan_direction_mean_k1</th><th>ms_scan_direction_mean_k1</th><th>wd_scan_direction_mean_k2</th><th>ms_scan_direction_mean_k2</th><th>wd_scan_direction_mean_k3</th><th>ms_scan_direction_mean_k3</th><th>wd_scan_direction_mean_k4</th><th>ms_scan_direction_mean_k4</th><th>wd_duplicated_source</th><th>ms_duplicated_source</th><th>wd_phot_g_n_obs</th><th>ms_phot_g_n_obs</th><th>wd_phot_g_mean_flux</th><th>ms_phot_g_mean_flux</th><th>wd_phot_g_mean_flux_error</th><th>ms_phot_g_mean_flux_error</th><th>wd_phot_g_mean_flux_over_error</th><th>ms_phot_g_mean_flux_over_error</th><th>wd_phot_g_mean_mag</th><th>ms_phot_g_mean_mag</th><th>wd_phot_bp_n_obs</th><th>ms_phot_bp_n_obs</th><th>wd_phot_bp_mean_flux</th><th>ms_phot_bp_mean_flux</th><th>wd_phot_bp_mean_flux_error</th><th>ms_phot_bp_mean_flux_error</th><th>wd_phot_bp_mean_flux_over_error</th><th>ms_phot_bp_mean_flux_over_error</th><th>wd_phot_bp_mean_mag</th><th>ms_phot_bp_mean_mag</th><th>wd_phot_rp_n_obs</th><th>ms_phot_rp_n_obs</th><th>wd_phot_rp_mean_flux</th><th>ms_phot_rp_mean_flux</th><th>wd_phot_rp_mean_flux_error</th><th>ms_phot_rp_mean_flux_error</th><th>wd_phot_rp_mean_flux_over_error</th><th>ms_phot_rp_mean_flux_over_error</th><th>wd_phot_rp_mean_mag</th><th>ms_phot_rp_mean_mag</th><th>wd_phot_bp_n_contaminated_transits</th><th>ms_phot_bp_n_contaminated_transits</th><th>wd_phot_bp_n_blended_transits</th><th>ms_phot_bp_n_blended_transits</th><th>wd_phot_rp_n_contaminated_transits</th><th>ms_phot_rp_n_contaminated_transits</th><th>wd_phot_rp_n_blended_transits</th><th>ms_phot_rp_n_blended_transits</th><th>wd_phot_proc_mode</th><th>ms_phot_proc_mode</th><th>wd_phot_bp_rp_excess_factor</th><th>ms_phot_bp_rp_excess_factor</th><th>wd_bp_rp</th><th>ms_bp_rp</th><th>wd_bp_g</th><th>ms_bp_g</th><th>wd_g_rp</th><th>ms_g_rp</th><th>wd_dr2_radial_velocity</th><th>ms_dr2_radial_velocity</th><th>wd_dr2_radial_velocity_error</th><th>ms_dr2_radial_velocity_error</th><th>wd_dr2_rv_nb_transits</th><th>ms_dr2_rv_nb_transits</th><th>wd_dr2_rv_template_teff</th><th>ms_dr2_rv_template_teff</th><th>wd_dr2_rv_template_logg</th><th>ms_dr2_rv_template_logg</th><th>wd_dr2_rv_template_fe_h</th><th>ms_dr2_rv_template_fe_h</th><th>wd_l</th><th>ms_l</th><th>wd_b</th><th>ms_b</th><th>wd_ecl_lon</th><th>ms_ecl_lon</th><th>wd_ecl_lat</th><th>ms_ecl_lat</th><th>wd_dr2_source_id</th><th>ms_dr2_source_id</th><th>wd_dr2_parallax</th><th>ms_dr2_parallax</th><th>wd_dr2_parallax_error</th><th>ms_dr2_parallax_error</th><th>wd_dr2_pmra</th><th>ms_dr2_pmra</th><th>wd_dr2_pmdec</th><th>ms_dr2_pmdec</th><th>wd_dr2_pmra_error</th><th>ms_dr2_pmra_error</th><th>wd_dr2_pmdec_error</th><th>ms_dr2_pmdec_error</th><th>wd_dr2_ruwe</th><th>ms_dr2_ruwe</th><th>pairdistance</th><th>sep_AU</th><th>binary_type</th><th>Sigma18</th><th>R_chance_align</th><th>r_med_geo</th><th>ms_rv</th><th>ms_erv</th><th>ms_m_g</th><th>wd_m_g</th><th>wd_e_gmag</th><th>wd_e_bpmag</th><th>wd_e_rpmag</th><th>source_id_1</th><th>distance</th><th>Warwick_radius</th><th>Warwick_e_radius</th><th>Warwick_teff</th><th>Warwick_e_teff</th><th>Warwick_chi2</th><th>Warwick_roe</th><th>Warwick_failed</th><th>CO_Hrich_radius</th><th>CO_Hrich_e_radius</th><th>CO_Hrich_teff</th><th>CO_Hrich_e_teff</th><th>CO_Hrich_chi2</th><th>CO_Hrich_roe</th><th>CO_Hrich_failed</th><th>ONe_Hrich_radius</th><th>ONe_Hrich_e_radius</th><th>ONe_Hrich_teff</th><th>ONe_Hrich_e_teff</th><th>ONe_Hrich_chi2</th><th>ONe_Hrich_roe</th><th>ONe_Hrich_failed</th><th>CO_Hdef_radius</th><th>CO_Hdef_e_radius</th><th>CO_Hdef_teff</th><th>CO_Hdef_e_teff</th><th>CO_Hdef_chi2</th><th>CO_Hdef_roe</th><th>CO_Hdef_failed</th><th>ONe_Hdef_radius</th><th>ONe_Hdef_e_radius</th><th>ONe_Hdef_teff</th><th>ONe_Hdef_e_teff</th><th>ONe_Hdef_chi2</th><th>ONe_Hdef_roe</th><th>ONe_Hdef_failed</th><th>all_clear</th><th>mean_radius</th><th>source_id_2</th><th>PS1_g</th><th>PS1_r</th><th>PS1_i</th><th>PS1_z</th><th>PS1_y</th><th>e_PS1_g</th><th>e_PS1_r</th><th>e_PS1_i</th><th>e_PS1_z</th><th>e_PS1_y</th><th>source</th><th>qualityFlag</th></tr></thead>\n",
       "<thead><tr><th></th><th></th><th></th><th></th><th></th><th></th><th></th><th></th><th></th><th></th><th></th><th></th><th></th><th></th><th></th><th></th><th></th><th></th><th></th><th></th><th></th><th></th><th></th><th></th><th></th><th></th><th></th><th></th><th></th><th></th><th></th><th></th><th></th><th></th><th></th><th></th><th></th><th></th><th></th><th></th><th></th><th></th><th></th><th></th><th></th><th></th><th></th><th></th><th></th><th></th><th></th><th></th><th></th><th></th><th></th><th></th><th></th><th></th><th></th><th></th><th></th><th></th><th></th><th></th><th></th><th></th><th></th><th></th><th></th><th></th><th></th><th></th><th></th><th></th><th></th><th></th><th></th><th></th><th></th><th></th><th></th><th></th><th></th><th></th><th></th><th></th><th></th><th></th><th></th><th></th><th></th><th></th><th></th><th></th><th></th><th></th><th></th><th></th><th></th><th></th><th></th><th></th><th></th><th></th><th></th><th></th><th></th><th></th><th></th><th></th><th></th><th></th><th></th><th></th><th></th><th></th><th></th><th></th><th></th><th></th><th></th><th></th><th></th><th></th><th></th><th></th><th></th><th></th><th></th><th></th><th></th><th></th><th></th><th></th><th></th><th></th><th></th><th></th><th></th><th></th><th></th><th></th><th></th><th></th><th></th><th></th><th></th><th></th><th></th><th></th><th></th><th></th><th></th><th></th><th></th><th></th><th></th><th></th><th></th><th></th><th></th><th></th><th></th><th></th><th></th><th></th><th></th><th></th><th></th><th></th><th></th><th></th><th></th><th></th><th></th><th></th><th></th><th></th><th></th><th></th><th></th><th></th><th></th><th></th><th></th><th></th><th></th><th></th><th></th><th></th><th></th><th></th><th></th><th></th><th></th><th></th><th></th><th></th><th></th><th></th><th></th><th></th><th></th><th></th><th></th><th></th><th></th><th></th><th></th><th></th><th></th><th></th><th></th><th></th><th></th><th></th><th></th><th></th><th></th><th></th><th></th><th></th><th></th><th></th><th></th><th></th><th></th><th></th><th></th><th></th><th></th><th></th><th></th><th></th><th></th><th></th><th></th><th></th><th></th><th></th><th></th><th></th><th></th><th></th><th></th><th></th><th></th><th></th><th></th><th></th><th></th><th></th><th></th><th></th><th></th><th></th><th></th><th></th><th></th><th></th><th></th><th></th><th></th><th></th><th></th><th>mag</th><th>mag</th><th>mag</th><th>mag</th><th>mag</th><th>mag</th><th>mag</th><th>mag</th><th>mag</th><th>mag</th><th></th><th></th></tr></thead>\n",
       "<thead><tr><th>int64</th><th>int64</th><th>int64</th><th>int64</th><th>int64</th><th>int64</th><th>float64</th><th>float64</th><th>float64</th><th>float64</th><th>float64</th><th>float64</th><th>float64</th><th>float64</th><th>float64</th><th>float64</th><th>float64</th><th>float64</th><th>float64</th><th>float64</th><th>float64</th><th>float64</th><th>float64</th><th>float64</th><th>float64</th><th>float64</th><th>float64</th><th>float64</th><th>float64</th><th>float64</th><th>float64</th><th>float64</th><th>float64</th><th>float64</th><th>float64</th><th>float64</th><th>float64</th><th>float64</th><th>float64</th><th>float64</th><th>float64</th><th>float64</th><th>float64</th><th>float64</th><th>float64</th><th>float64</th><th>float64</th><th>float64</th><th>float64</th><th>float64</th><th>float64</th><th>float64</th><th>int64</th><th>int64</th><th>int64</th><th>int64</th><th>int64</th><th>int64</th><th>int64</th><th>int64</th><th>float64</th><th>float64</th><th>float64</th><th>float64</th><th>float64</th><th>float64</th><th>float64</th><th>float64</th><th>int64</th><th>int64</th><th>str5</th><th>str5</th><th>float64</th><th>float64</th><th>float64</th><th>float64</th><th>float64</th><th>float64</th><th>float64</th><th>float64</th><th>float64</th><th>float64</th><th>float64</th><th>float64</th><th>float64</th><th>float64</th><th>float64</th><th>float64</th><th>int64</th><th>int64</th><th>int64</th><th>int64</th><th>float64</th><th>float64</th><th>int64</th><th>int64</th><th>int64</th><th>int64</th><th>int64</th><th>int64</th><th>float64</th><th>float64</th><th>float64</th><th>float64</th><th>int64</th><th>int64</th><th>int64</th><th>int64</th><th>float64</th><th>float64</th><th>float64</th><th>float64</th><th>float64</th><th>float64</th><th>float64</th><th>float64</th><th>float64</th><th>float64</th><th>float64</th><th>float64</th><th>float64</th><th>float64</th><th>float64</th><th>float64</th><th>float64</th><th>float64</th><th>str5</th><th>str5</th><th>int64</th><th>int64</th><th>float64</th><th>float64</th><th>float64</th><th>float64</th><th>float64</th><th>float64</th><th>float64</th><th>float64</th><th>int64</th><th>int64</th><th>float64</th><th>float64</th><th>float64</th><th>float64</th><th>float64</th><th>float64</th><th>float64</th><th>float64</th><th>int64</th><th>int64</th><th>float64</th><th>float64</th><th>float64</th><th>float64</th><th>float64</th><th>float64</th><th>float64</th><th>float64</th><th>int64</th><th>int64</th><th>int64</th><th>int64</th><th>int64</th><th>int64</th><th>int64</th><th>int64</th><th>int64</th><th>int64</th><th>float64</th><th>float64</th><th>float64</th><th>float64</th><th>float64</th><th>float64</th><th>float64</th><th>float64</th><th>float64</th><th>float64</th><th>float64</th><th>float64</th><th>int64</th><th>int64</th><th>float64</th><th>float64</th><th>float64</th><th>float64</th><th>float64</th><th>float64</th><th>float64</th><th>float64</th><th>float64</th><th>float64</th><th>float64</th><th>float64</th><th>float64</th><th>float64</th><th>int64</th><th>int64</th><th>float64</th><th>float64</th><th>float64</th><th>float64</th><th>float64</th><th>float64</th><th>float64</th><th>float64</th><th>float64</th><th>float64</th><th>float64</th><th>float64</th><th>float64</th><th>float64</th><th>float64</th><th>float64</th><th>str4</th><th>float64</th><th>float64</th><th>float64</th><th>float64</th><th>float64</th><th>float64</th><th>float64</th><th>float64</th><th>float64</th><th>float64</th><th>int64</th><th>float64</th><th>float64</th><th>float64</th><th>float64</th><th>float64</th><th>float64</th><th>float64</th><th>str5</th><th>float64</th><th>float64</th><th>float64</th><th>float64</th><th>float64</th><th>float64</th><th>str5</th><th>float64</th><th>float64</th><th>float64</th><th>float64</th><th>float64</th><th>float64</th><th>str5</th><th>float64</th><th>float64</th><th>float64</th><th>float64</th><th>float64</th><th>float64</th><th>str5</th><th>float64</th><th>float64</th><th>float64</th><th>float64</th><th>float64</th><th>float64</th><th>str5</th><th>str4</th><th>float64</th><th>int64</th><th>float32</th><th>float32</th><th>float32</th><th>float32</th><th>float32</th><th>float32</th><th>float32</th><th>float32</th><th>float32</th><th>float32</th><th>str3</th><th>uint8</th></tr></thead>\n",
       "<tr><td>1636042515805110273</td><td>1636042515805110273</td><td>1307515077152381568</td><td>1307515077152380800</td><td>735469018</td><td>1475855389</td><td>2016.0</td><td>2016.0</td><td>251.46665286001422</td><td>251.46953831538028</td><td>0.38808390498161316</td><td>0.007206032518297434</td><td>27.378418514653674</td><td>27.37975585743468</td><td>0.4566114842891693</td><td>0.008656330406665802</td><td>6.024397302503825</td><td>5.211704811820851</td><td>0.6115309000015259</td><td>0.011431597173213959</td><td>9.851337432861328</td><td>455.9034729003906</td><td>41.70836639404297</td><td>41.44711685180664</td><td>-39.503511903791455</td><td>-38.87452832349807</td><td>0.5878555178642273</td><td>0.009773729369044304</td><td>13.381342827775265</td><td>14.37479047380786</td><td>0.5835381746292114</td><td>0.011053294874727726</td><td>0.16841717064380646</td><td>0.0337119922041893</td><td>0.02020930126309395</td><td>-0.05871753767132759</td><td>-0.029151350259780884</td><td>-0.16689129173755646</td><td>0.013338306918740273</td><td>0.016293540596961975</td><td>0.15527299046516418</td><td>0.13467802107334137</td><td>-0.01660115085542202</td><td>0.023763002827763557</td><td>-0.04605541378259659</td><td>-0.015733329579234123</td><td>-0.21159058809280396</td><td>-0.1522316187620163</td><td>0.04540431499481201</td><td>0.14470872282981873</td><td>0.13506270945072174</td><td>0.13523145020008087</td><td>395</td><td>457</td><td>0</td><td>457</td><td>395</td><td>454</td><td>0</td><td>3</td><td>0.41402047872543335</td><td>-0.06357930600643158</td><td>437.1689453125</td><td>762.3317260742188</td><td>1.032482624053955</td><td>0.06576318293809891</td><td>0.45222771167755127</td><td>7.451658725738525</td><td>31</td><td>31</td><td>False</td><td>True</td><td>1.5681788921356201</td><td>1.4916021823883057</td><td>1.0000000200408773e+20</td><td>1.0000000200408773e+20</td><td>1.0000000200408773e+20</td><td>1.0000000200408773e+20</td><td>1.0000000200408773e+20</td><td>1.0000000200408773e+20</td><td>1.0000000200408773e+20</td><td>1.0000000200408773e+20</td><td>1.0000000200408773e+20</td><td>1.0000000200408773e+20</td><td>1.0000000200408773e+20</td><td>1.0000000200408773e+20</td><td>1.0000000200408773e+20</td><td>1.0000000200408773e+20</td><td>46</td><td>52</td><td>24</td><td>26</td><td>0.8647767901420593</td><td>0.01569357141852379</td><td>54</td><td>59</td><td>16</td><td>22</td><td>1</td><td>0</td><td>0.04440903291106224</td><td>0.024575641378760338</td><td>20.780921936035156</td><td>32.00053405761719</td><td>0</td><td>0</td><td>0</td><td>0</td><td>1.0140020847320557</td><td>0.9971373081207275</td><td>0.1041857898235321</td><td>1.0000000200408773e+20</td><td>0.20933407545089722</td><td>1.0000000200408773e+20</td><td>0.10579686611890793</td><td>1.0000000200408773e+20</td><td>0.265512615442276</td><td>1.0000000200408773e+20</td><td>-91.71484375</td><td>1.0000000200408773e+20</td><td>-71.54501342773438</td><td>1.0000000200408773e+20</td><td>-1.2168725728988647</td><td>1.0000000200408773e+20</td><td>1.7779459953308105</td><td>1.0000000200408773e+20</td><td>False</td><td>False</td><td>441</td><td>511</td><td>1.6536459041600076e-17</td><td>263991.3687833897</td><td>8.410617202720943e-20</td><td>52.24270248413086</td><td>196.6140899658203</td><td>5053.17236328125</td><td>20.463973999023438</td><td>12.133392333984375</td><td>39</td><td>58</td><td>3.2189936298254127e-17</td><td>124056.06129883003</td><td>4.961881178323897e-18</td><td>68.99629211425781</td><td>6.487445831298828</td><td>1798.010498046875</td><td>20.265363693237305</td><td>12.604496955871582</td><td>41</td><td>55</td><td>1.2699252172809172e-17</td><td>197695.56165835168</td><td>1.3204235028995788e-18</td><td>82.4352035522461</td><td>9.617560386657715</td><td>2398.193359375</td><td>20.02454376220703</td><td>11.507903099060059</td><td>0</td><td>0</td><td>1</td><td>0</td><td>0</td><td>0</td><td>0</td><td>0</td><td>0</td><td>0</td><td>1.5017272233963013</td><td>1.2187960147857666</td><td>0.24081993103027344</td><td>1.0965938568115234</td><td>-0.1986103057861328</td><td>0.47110462188720703</td><td>0.43943023681640625</td><td>0.6254892349243164</td><td>1.0000000200408773e+20</td><td>-49.22264862060547</td><td>1.0000000200408773e+20</td><td>0.4476192593574524</td><td>0</td><td>18</td><td>1.0000000200408773e+20</td><td>5000.0</td><td>1.0000000200408773e+20</td><td>3.0</td><td>1.0000000200408773e+20</td><td>0.0</td><td>47.59647075799324</td><td>47.59892581347589</td><td>38.41553515253663</td><td>38.41337802421851</td><td>244.4163221920555</td><td>244.4197725181963</td><td>49.18476123344869</td><td>49.186568927851205</td><td>1307515077152381568</td><td>1307515077152380800</td><td>6.03009135542273</td><td>5.114569029831723</td><td>0.7428568751189992</td><td>0.023810406109173468</td><td>-40.92483280495509</td><td>-38.92314340950217</td><td>12.607166586009708</td><td>14.363216160699885</td><td>1.0254922963471371</td><td>0.03126193204168232</td><td>1.299869324281381</td><td>0.0418908127388811</td><td>0.99807847</td><td>0.9331038</td><td>0.002890249108873474</td><td>1996.4478357148694</td><td>WDMS</td><td>648.3972381563816</td><td>0.003936259434015926</td><td>191.31002807617188</td><td>-49.84876251220703</td><td>0.4282680153846741</td><td>5.718291381631652</td><td>14.363542025972142</td><td>0.004666151654288497</td><td>0.14141638942965304</td><td>0.0953912634065138</td><td>1307515077152381568</td><td>191.31002807617188</td><td>0.006932160739884962</td><td>2.4579818990830674e-09</td><td>9176.092697657412</td><td>0.0028185759954230828</td><td>6.3220360999858534e-18</td><td>2820265.1705738576</td><td>False</td><td>0.007536225886728291</td><td>2.9516571665134876e-09</td><td>8689.505394578673</td><td>0.002047303829476803</td><td>8.22683804705991e-18</td><td>2553218.568953968</td><td>False</td><td>0.007428604963074943</td><td>6.208054450307468e-08</td><td>8852.746574911218</td><td>0.09515901995769539</td><td>8.664298167999322e-16</td><td>119660.75720722818</td><td>False</td><td>0.007232041029300189</td><td>1.6743417748742947e-07</td><td>8898.00453728564</td><td>0.9438764635610962</td><td>3.0936977803228068e-15</td><td>43193.338049772734</td><td>False</td><td>0.007225744709958131</td><td>7.133579576244642e-08</td><td>8914.109460717315</td><td>0.25825334507475867</td><td>5.8669151906820045e-15</td><td>101291.98998522993</td><td>False</td><td>True</td><td>0.007270955465789304</td><td>1307515077152381568</td><td>20.4947</td><td>20.3694</td><td>20.0103</td><td>19.7876</td><td>-999.0</td><td>0.026247</td><td>0.033681</td><td>0.044099</td><td>0.108458</td><td>-999.0</td><td>ps1</td><td>53</td></tr>\n",
       "</table></div>"
      ],
      "text/plain": [
       "<Table length=1>\n",
       "   wd_solution_id      ms_solution_id   ... source qualityFlag\n",
       "                                        ...                   \n",
       "       int64               int64        ...  str3     uint8   \n",
       "------------------- ------------------- ... ------ -----------\n",
       "1636042515805110273 1636042515805110273 ...    ps1          53"
      ]
     },
     "execution_count": 5,
     "metadata": {},
     "output_type": "execute_result"
    }
   ],
   "source": [
    "bronze[bronze['wd_source_id'] == 1307515077152381568]"
   ]
  },
  {
   "cell_type": "code",
   "execution_count": 6,
   "metadata": {},
   "outputs": [],
   "source": [
    "source_ids = bronze['wd_source_id']\n",
    "coords = [SkyCoord(frame=\"galactic\", l=bronze['wd_l'][i]*u.deg, b=bronze['wd_b'][i]*u.deg, distance = bronze['distance'][i] * u.pc) for i in range(len(bronze))]\n",
    "astrometric_params = bronze['wd_astrometric_params_solved']\n",
    "photo = np.array([bronze['wd_phot_g_mean_mag'], bronze['wd_phot_bp_mean_mag'], bronze['wd_phot_rp_mean_mag']]).T\n",
    "e_photo = np.array([bronze['wd_e_gmag'], bronze['wd_e_bpmag'], bronze['wd_e_rpmag']]).T\n",
    "initial_params = np.array([bronze['CO_Hdef_teff'], bronze['CO_Hdef_radius']]).T"
   ]
  },
  {
   "cell_type": "code",
   "execution_count": 7,
   "metadata": {},
   "outputs": [
    {
     "data": {
      "text/plain": [
       "191.31002807617188"
      ]
     },
     "execution_count": 7,
     "metadata": {},
     "output_type": "execute_result"
    }
   ],
   "source": [
    "coords[0].distance.value"
   ]
  },
  {
   "cell_type": "code",
   "execution_count": 8,
   "metadata": {},
   "outputs": [
    {
     "data": {
      "text/plain": [
       "array([20.463974  , 20.26536369, 20.02454376])"
      ]
     },
     "execution_count": 8,
     "metadata": {},
     "output_type": "execute_result"
    }
   ],
   "source": [
    "photo[0]"
   ]
  },
  {
   "cell_type": "code",
   "execution_count": 9,
   "metadata": {},
   "outputs": [
    {
     "name": "stderr",
     "output_type": "stream",
     "text": [
      "Optimizing map for querying (this might take a couple of seconds)...\n"
     ]
    }
   ],
   "source": [
    "from dustmaps.edenhofer2023 import Edenhofer2023Query\n",
    "bsq = Edenhofer2023Query()"
   ]
  },
  {
   "cell_type": "code",
   "execution_count": null,
   "metadata": {},
   "outputs": [],
   "source": [
    "obj = cc.photometry.Photometry(source_ids, coords, astrometric_params, photo, e_photo, initial_params, bsq = bsq)"
   ]
  },
  {
   "cell_type": "code",
   "execution_count": null,
   "metadata": {},
   "outputs": [],
   "source": [
    "obj.source_ids"
   ]
  },
  {
   "cell_type": "code",
   "execution_count": null,
   "metadata": {},
   "outputs": [],
   "source": [
    "# 20.463974  \n",
    "obj.photometry[0]"
   ]
  },
  {
   "cell_type": "code",
   "execution_count": null,
   "metadata": {},
   "outputs": [],
   "source": [
    "chains = obj.run_mcmc(cc.interpolator.LaPlataUltramassive, core='CO', layer='Hdef')\n",
    "\n",
    "with open('../data/cleaned/radius_chains_CO_Hdef.pkl', 'wb') as f:\n",
    "    pickle.dump(chains, f)"
   ]
  },
  {
   "cell_type": "code",
   "execution_count": null,
   "metadata": {},
   "outputs": [],
   "source": [
    "chains = obj.run_mcmc(cc.interpolator.LaPlataUltramassive, core='CO', layer='Hrich')\n",
    "\n",
    "with open('../data/cleaned/radius_chains_CO_Hrich.pkl', 'wb') as f:\n",
    "    pickle.dump(chains, f)"
   ]
  },
  {
   "cell_type": "code",
   "execution_count": null,
   "metadata": {},
   "outputs": [],
   "source": [
    "chains = obj.run_mcmc(cc.interpolator.LaPlataUltramassive, core='ONe', layer='Hrich')\n",
    "\n",
    "with open('../data/cleaned/radius_chains_ONe_Hrich.pkl', 'wb') as f:\n",
    "    pickle.dump(chains, f)"
   ]
  },
  {
   "cell_type": "code",
   "execution_count": null,
   "metadata": {},
   "outputs": [],
   "source": [
    "chains = obj.run_mcmc(cc.interpolator.LaPlataUltramassive, core='ONe', layer='Hdef')\n",
    "\n",
    "with open('../data/cleaned/radius_chains_ONe_Hdef.pkl', 'wb') as f:\n",
    "    pickle.dump(chains, f)"
   ]
  },
  {
   "cell_type": "code",
   "execution_count": null,
   "metadata": {},
   "outputs": [],
   "source": [
    "import corner\n",
    "\n",
    "id = list(chains.keys())[10]\n",
    "\n",
    "labels = [r'$T_{eff}$ $[K]$', r'Radius $[R_\\odot]$']\n",
    "best_est = np.zeros((len(labels)))\n",
    "unc = []\n",
    "\n",
    "for i in range(len(labels)):\n",
    "    mcmc = np.percentile(chains[id][:, i],[16,50,84])\n",
    "    best_est[i] = mcmc[1]\n",
    "    unc.append(np.diff(mcmc))\n",
    "unc = np.array(unc)\n",
    "\n",
    "print(obj.photo[id][2])\n",
    "\n",
    "emcee_plot = corner.corner(chains[id], labels=labels, truths = best_est, quantiles = [0.16, 0.5, 0.84], show_titles = True, \n",
    "                           title_fmt = '.3f', title_kwargs={\"fontsize\": 12})\n",
    "\n",
    "plt.show()"
   ]
  },
  {
   "cell_type": "code",
   "execution_count": null,
   "metadata": {},
   "outputs": [],
   "source": [
    "gold_coverage = join(gold, table, keys_left='wd_source_id', keys_right='source_id')\n",
    "silver_coverage = join(silver, table, keys_left='wd_source_id', keys_right='source_id')\n",
    "bronze_coverage = table\n",
    "\n",
    "print(f'gold coverage = {len(gold_coverage)} / {len(gold)}')\n",
    "print(f'silver coverage = {len(silver_coverage)} / {len(silver)}')\n",
    "print(f'bronze coverage = {len(bronze_coverage)} / {len(bronze)}')"
   ]
  },
  {
   "cell_type": "code",
   "execution_count": null,
   "metadata": {},
   "outputs": [],
   "source": [
    "gold_coverage"
   ]
  },
  {
   "cell_type": "code",
   "execution_count": null,
   "metadata": {},
   "outputs": [],
   "source": []
  }
 ],
 "metadata": {
  "kernelspec": {
   "display_name": "core-composition",
   "language": "python",
   "name": "python3"
  },
  "language_info": {
   "codemirror_mode": {
    "name": "ipython",
    "version": 3
   },
   "file_extension": ".py",
   "mimetype": "text/x-python",
   "name": "python",
   "nbconvert_exporter": "python",
   "pygments_lexer": "ipython3",
   "version": "3.12.2"
  }
 },
 "nbformat": 4,
 "nbformat_minor": 2
}
