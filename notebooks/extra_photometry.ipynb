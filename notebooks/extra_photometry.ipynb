{
 "cells": [
  {
   "cell_type": "code",
   "execution_count": 13,
   "metadata": {},
   "outputs": [],
   "source": [
    "import sys\n",
    "sys.path.append('../')\n",
    "import corecomposition as cc\n",
    "\n",
    "import numpy as np\n",
    "import pyvo as vo\n",
    "import pickle\n",
    "import matplotlib.pyplot as plt\n",
    "\n",
    "from astropy.coordinates import SkyCoord\n",
    "import astropy.units as u\n",
    "from astropy.table import Table, join"
   ]
  },
  {
   "cell_type": "code",
   "execution_count": 14,
   "metadata": {},
   "outputs": [],
   "source": [
    "gold = Table.read('../data/processed/gold.csv')\n",
    "silver = Table.read('../data/processed/silver.csv')\n",
    "bronze = Table.read('../data/processed/bronze.csv')"
   ]
  },
  {
   "cell_type": "code",
   "execution_count": 15,
   "metadata": {},
   "outputs": [
    {
     "name": "stderr",
     "output_type": "stream",
     "text": [
      "WARNING: MergeConflictWarning: In merged column 'source_id' the 'description' attribute does not match (ID in right/second table (source_id) != Unique Gaia source identifier).  Using Unique Gaia source identifier for merged output [astropy.utils.metadata.merge]\n"
     ]
    }
   ],
   "source": [
    "photo = cc.photometry.fetch_photometry(bronze['wd_source_id'])\n",
    "bronze = join(bronze, photo, keys_left='wd_source_id', keys_right='source_id')\n"
   ]
  },
  {
   "cell_type": "code",
   "execution_count": 16,
   "metadata": {},
   "outputs": [],
   "source": [
    "source_ids = bronze['wd_source_id']\n",
    "coords = [SkyCoord(frame=\"galactic\", l=bronze['wd_l'][i]*u.deg, b=bronze['wd_b'][i]*u.deg, distance = bronze['distance'][i] * u.pc) for i in range(len(bronze))]\n",
    "astrometric_params = bronze['wd_astrometric_params_solved']\n",
    "photo = np.array([bronze['wd_phot_g_mean_mag'], bronze['wd_phot_bp_mean_mag'], bronze['wd_phot_rp_mean_mag']]).T\n",
    "e_photo = np.array([bronze['wd_e_gmag'], bronze['wd_e_bpmag'], bronze['wd_e_rpmag']]).T\n",
    "initial_params = np.array([bronze['CO_Hdef_teff'], bronze['CO_Hdef_radius']]).T"
   ]
  },
  {
   "cell_type": "code",
   "execution_count": 17,
   "metadata": {},
   "outputs": [
    {
     "name": "stderr",
     "output_type": "stream",
     "text": [
      "Optimizing map for querying (this might take a couple of seconds)...\n"
     ]
    }
   ],
   "source": [
    "from dustmaps.edenhofer2023 import Edenhofer2023Query\n",
    "bsq = Edenhofer2023Query()"
   ]
  },
  {
   "cell_type": "code",
   "execution_count": null,
   "metadata": {},
   "outputs": [
    {
     "name": "stderr",
     "output_type": "stream",
     "text": [
      "WARNING: MergeConflictWarning: In merged column 'source_id' the 'description' attribute does not match (ID in right/second table (source_id) != Unique Gaia source identifier).  Using Unique Gaia source identifier for merged output [astropy.utils.metadata.merge]\n",
      "100%|██████████| 26/26 [00:01<00:00, 17.30it/s]\n"
     ]
    }
   ],
   "source": [
    "obj = cc.photometry.Photometry(source_ids, coords, astrometric_params, photo, e_photo, initial_params, bsq = bsq)"
   ]
  },
  {
   "cell_type": "code",
   "execution_count": null,
   "metadata": {},
   "outputs": [
    {
     "data": {
      "text/plain": [
       "array([20.46395524, 20.26533889, 20.02453061, 20.49467261, 20.36938103,\n",
       "       20.01028564, 19.78758849])"
      ]
     },
     "execution_count": 7,
     "metadata": {},
     "output_type": "execute_result"
    }
   ],
   "source": [
    "# 20.463974  \n",
    "obj.photometry[0]"
   ]
  },
  {
   "cell_type": "code",
   "execution_count": null,
   "metadata": {},
   "outputs": [
    {
     "name": "stderr",
     "output_type": "stream",
     "text": [
      "  0%|          | 0/26 [00:00<?, ?it/s]The chain is shorter than 50 times the integrated autocorrelation time for 2 parameter(s). Use this estimate with caution and run a longer chain!\n",
      "N/50 = 50;\n",
      "tau: [74.7728849  73.43914296]\n"
     ]
    },
    {
     "name": "stdout",
     "output_type": "stream",
     "text": [
      "Auto-Correlation Time = 74.7728849025037, additional steps = 1388\n"
     ]
    },
    {
     "name": "stderr",
     "output_type": "stream",
     "text": [
      "100%|██████████| 1388/1388 [01:15<00:00, 18.28it/s]\n",
      "  4%|▍         | 1/26 [03:22<1:24:29, 202.78s/it]The chain is shorter than 50 times the integrated autocorrelation time for 2 parameter(s). Use this estimate with caution and run a longer chain!\n",
      "N/50 = 50;\n",
      "tau: [100.21123251 110.93346468]\n"
     ]
    },
    {
     "name": "stdout",
     "output_type": "stream",
     "text": [
      "Auto-Correlation Time = 110.93346467916929, additional steps = 3268\n"
     ]
    },
    {
     "name": "stderr",
     "output_type": "stream",
     "text": [
      "100%|██████████| 3268/3268 [02:24<00:00, 22.58it/s]\n",
      "  8%|▊         | 2/26 [07:24<1:30:19, 225.81s/it]The chain is shorter than 50 times the integrated autocorrelation time for 2 parameter(s). Use this estimate with caution and run a longer chain!\n",
      "N/50 = 50;\n",
      "tau: [72.59506445 72.17514445]\n"
     ]
    },
    {
     "name": "stdout",
     "output_type": "stream",
     "text": [
      "Auto-Correlation Time = 72.59506445141685, additional steps = 1274\n"
     ]
    },
    {
     "name": "stderr",
     "output_type": "stream",
     "text": [
      "100%|██████████| 1274/1274 [00:51<00:00, 24.93it/s]\n",
      " 12%|█▏        | 3/26 [09:42<1:11:08, 185.58s/it]The chain is shorter than 50 times the integrated autocorrelation time for 2 parameter(s). Use this estimate with caution and run a longer chain!\n",
      "N/50 = 50;\n",
      "tau: [115.14462766 124.02540486]\n"
     ]
    },
    {
     "name": "stdout",
     "output_type": "stream",
     "text": [
      "Auto-Correlation Time = 124.02540485912353, additional steps = 3949\n"
     ]
    },
    {
     "name": "stderr",
     "output_type": "stream",
     "text": [
      "100%|██████████| 3949/3949 [02:49<00:00, 23.31it/s]\n",
      " 15%|█▌        | 4/26 [14:03<1:19:02, 215.55s/it]The chain is shorter than 50 times the integrated autocorrelation time for 2 parameter(s). Use this estimate with caution and run a longer chain!\n",
      "N/50 = 50;\n",
      "tau: [79.47022708 86.95268431]\n"
     ]
    },
    {
     "name": "stdout",
     "output_type": "stream",
     "text": [
      "Auto-Correlation Time = 86.95268430526662, additional steps = 2021\n"
     ]
    },
    {
     "name": "stderr",
     "output_type": "stream",
     "text": [
      "100%|██████████| 2021/2021 [01:51<00:00, 18.06it/s]\n",
      " 19%|█▉        | 5/26 [17:55<1:17:29, 221.42s/it]The chain is shorter than 50 times the integrated autocorrelation time for 2 parameter(s). Use this estimate with caution and run a longer chain!\n",
      "N/50 = 50;\n",
      "tau: [327.21000474 325.94406908]\n"
     ]
    },
    {
     "name": "stdout",
     "output_type": "stream",
     "text": [
      "Auto-Correlation Time = 327.21000473665526, additional steps = 14514\n"
     ]
    },
    {
     "name": "stderr",
     "output_type": "stream",
     "text": [
      "100%|██████████| 14514/14514 [07:43<00:00, 31.35it/s]\n",
      " 23%|██▎       | 6/26 [26:42<1:48:24, 325.22s/it]The chain is shorter than 50 times the integrated autocorrelation time for 2 parameter(s). Use this estimate with caution and run a longer chain!\n",
      "N/50 = 50;\n",
      "tau: [57.49617363 56.6362455 ]\n"
     ]
    },
    {
     "name": "stdout",
     "output_type": "stream",
     "text": [
      "Auto-Correlation Time = 57.496173626581665, additional steps = 489\n"
     ]
    },
    {
     "name": "stderr",
     "output_type": "stream",
     "text": [
      "100%|██████████| 489/489 [00:23<00:00, 21.03it/s]\n",
      " 27%|██▋       | 7/26 [29:02<1:23:50, 264.77s/it]The chain is shorter than 50 times the integrated autocorrelation time for 2 parameter(s). Use this estimate with caution and run a longer chain!\n",
      "N/50 = 50;\n",
      "tau: [76.40418019 75.51310017]\n"
     ]
    },
    {
     "name": "stdout",
     "output_type": "stream",
     "text": [
      "Auto-Correlation Time = 76.4041801948612, additional steps = 1473\n"
     ]
    },
    {
     "name": "stderr",
     "output_type": "stream",
     "text": [
      "100%|██████████| 1473/1473 [01:19<00:00, 18.64it/s]\n",
      " 35%|███▍      | 9/26 [34:15<57:57, 204.58s/it]  "
     ]
    },
    {
     "name": "stdout",
     "output_type": "stream",
     "text": [
      "Auto-Correlation Time = 35.974755161438765, additional steps = -630\n"
     ]
    },
    {
     "name": "stderr",
     "output_type": "stream",
     "text": [
      "The chain is shorter than 50 times the integrated autocorrelation time for 2 parameter(s). Use this estimate with caution and run a longer chain!\n",
      "N/50 = 50;\n",
      "tau: [ 95.97844555 100.38147084]\n"
     ]
    },
    {
     "name": "stdout",
     "output_type": "stream",
     "text": [
      "Auto-Correlation Time = 100.3814708381289, additional steps = 2719\n"
     ]
    },
    {
     "name": "stderr",
     "output_type": "stream",
     "text": [
      "100%|██████████| 2719/2719 [02:38<00:00, 17.15it/s]\n",
      " 38%|███▊      | 10/26 [38:42<59:42, 223.90s/it]The chain is shorter than 50 times the integrated autocorrelation time for 2 parameter(s). Use this estimate with caution and run a longer chain!\n",
      "N/50 = 50;\n",
      "tau: [78.64361886 81.62072069]\n"
     ]
    },
    {
     "name": "stdout",
     "output_type": "stream",
     "text": [
      "Auto-Correlation Time = 81.62072069412682, additional steps = 1744\n"
     ]
    },
    {
     "name": "stderr",
     "output_type": "stream",
     "text": [
      "100%|██████████| 1744/1744 [01:18<00:00, 22.20it/s]\n",
      " 42%|████▏     | 11/26 [41:39<52:21, 209.43s/it]The chain is shorter than 50 times the integrated autocorrelation time for 2 parameter(s). Use this estimate with caution and run a longer chain!\n",
      "N/50 = 50;\n",
      "tau: [155.04712895 183.41889233]\n"
     ]
    },
    {
     "name": "stdout",
     "output_type": "stream",
     "text": [
      "Auto-Correlation Time = 183.41889233309428, additional steps = 7037\n"
     ]
    },
    {
     "name": "stderr",
     "output_type": "stream",
     "text": [
      "100%|██████████| 7037/7037 [04:38<00:00, 25.28it/s]\n",
      " 46%|████▌     | 12/26 [47:37<59:26, 254.72s/it]The chain is shorter than 50 times the integrated autocorrelation time for 2 parameter(s). Use this estimate with caution and run a longer chain!\n",
      "N/50 = 50;\n",
      "tau: [109.97647642 112.76292117]\n"
     ]
    },
    {
     "name": "stdout",
     "output_type": "stream",
     "text": [
      "Auto-Correlation Time = 112.76292116835684, additional steps = 3363\n"
     ]
    },
    {
     "name": "stderr",
     "output_type": "stream",
     "text": [
      "100%|██████████| 3363/3363 [02:54<00:00, 19.32it/s]\n",
      " 50%|█████     | 13/26 [52:17<56:51, 262.40s/it]The chain is shorter than 50 times the integrated autocorrelation time for 2 parameter(s). Use this estimate with caution and run a longer chain!\n",
      "N/50 = 50;\n",
      "tau: [182.85900349 186.9534793 ]\n"
     ]
    },
    {
     "name": "stdout",
     "output_type": "stream",
     "text": [
      "Auto-Correlation Time = 186.95347930342322, additional steps = 7221\n"
     ]
    },
    {
     "name": "stderr",
     "output_type": "stream",
     "text": [
      "100%|██████████| 7221/7221 [04:44<00:00, 25.39it/s]\n",
      " 54%|█████▍    | 14/26 [58:34<59:23, 296.98s/it]The chain is shorter than 50 times the integrated autocorrelation time for 2 parameter(s). Use this estimate with caution and run a longer chain!\n",
      "N/50 = 50;\n",
      "tau: [123.86063402 131.36627419]\n"
     ]
    },
    {
     "name": "stdout",
     "output_type": "stream",
     "text": [
      "Auto-Correlation Time = 131.3662741916402, additional steps = 4331\n"
     ]
    },
    {
     "name": "stderr",
     "output_type": "stream",
     "text": [
      "100%|██████████| 4331/4331 [02:46<00:00, 26.04it/s]\n",
      " 58%|█████▊    | 15/26 [1:02:49<52:05, 284.17s/it]The chain is shorter than 50 times the integrated autocorrelation time for 2 parameter(s). Use this estimate with caution and run a longer chain!\n",
      "N/50 = 50;\n",
      "tau: [104.07350223 127.4525503 ]\n"
     ]
    },
    {
     "name": "stdout",
     "output_type": "stream",
     "text": [
      "Auto-Correlation Time = 127.45255029876992, additional steps = 4127\n"
     ]
    },
    {
     "name": "stderr",
     "output_type": "stream",
     "text": [
      "100%|██████████| 4127/4127 [01:42<00:00, 40.34it/s]\n",
      " 62%|██████▏   | 16/26 [1:05:19<40:37, 243.77s/it]The chain is shorter than 50 times the integrated autocorrelation time for 2 parameter(s). Use this estimate with caution and run a longer chain!\n",
      "N/50 = 50;\n",
      "tau: [ 87.07523594 106.64994944]\n"
     ]
    },
    {
     "name": "stdout",
     "output_type": "stream",
     "text": [
      "Auto-Correlation Time = 106.64994943910347, additional steps = 3045\n"
     ]
    },
    {
     "name": "stderr",
     "output_type": "stream",
     "text": [
      "100%|██████████| 3045/3045 [01:57<00:00, 26.00it/s]\n",
      " 65%|██████▌   | 17/26 [1:08:41<34:40, 231.21s/it]The chain is shorter than 50 times the integrated autocorrelation time for 2 parameter(s). Use this estimate with caution and run a longer chain!\n",
      "N/50 = 50;\n",
      "tau: [152.56680365 157.09956618]\n"
     ]
    },
    {
     "name": "stdout",
     "output_type": "stream",
     "text": [
      "Auto-Correlation Time = 157.0995661810973, additional steps = 5669\n"
     ]
    },
    {
     "name": "stderr",
     "output_type": "stream",
     "text": [
      "100%|██████████| 5669/5669 [03:13<00:00, 29.31it/s]\n",
      " 69%|██████▉   | 18/26 [1:13:08<32:17, 242.16s/it]The chain is shorter than 50 times the integrated autocorrelation time for 2 parameter(s). Use this estimate with caution and run a longer chain!\n",
      "N/50 = 50;\n",
      "tau: [52.44393143 52.15308742]\n"
     ]
    },
    {
     "name": "stdout",
     "output_type": "stream",
     "text": [
      "Auto-Correlation Time = 52.44393143219084, additional steps = 227\n"
     ]
    },
    {
     "name": "stderr",
     "output_type": "stream",
     "text": [
      "100%|██████████| 227/227 [00:06<00:00, 36.64it/s]\n",
      " 77%|███████▋  | 20/26 [1:15:20<15:13, 152.21s/it]"
     ]
    },
    {
     "name": "stdout",
     "output_type": "stream",
     "text": [
      "Auto-Correlation Time = 35.62969953179612, additional steps = -648\n"
     ]
    },
    {
     "name": "stderr",
     "output_type": "stream",
     "text": [
      " 81%|████████  | 21/26 [1:16:31<10:38, 127.79s/it]"
     ]
    },
    {
     "name": "stdout",
     "output_type": "stream",
     "text": [
      "Auto-Correlation Time = 41.79016442552987, additional steps = -327\n"
     ]
    },
    {
     "name": "stderr",
     "output_type": "stream",
     "text": [
      "The chain is shorter than 50 times the integrated autocorrelation time for 2 parameter(s). Use this estimate with caution and run a longer chain!\n",
      "N/50 = 50;\n",
      "tau: [275.7530432  276.86671164]\n"
     ]
    },
    {
     "name": "stdout",
     "output_type": "stream",
     "text": [
      "Auto-Correlation Time = 276.8667116421401, additional steps = 11897\n"
     ]
    },
    {
     "name": "stderr",
     "output_type": "stream",
     "text": [
      "100%|██████████| 11897/11897 [03:51<00:00, 51.38it/s]\n",
      " 85%|████████▍ | 22/26 [1:21:08<11:29, 172.45s/it]The chain is shorter than 50 times the integrated autocorrelation time for 2 parameter(s). Use this estimate with caution and run a longer chain!\n",
      "N/50 = 50;\n",
      "tau: [100.36901641 109.02078867]\n"
     ]
    },
    {
     "name": "stdout",
     "output_type": "stream",
     "text": [
      "Auto-Correlation Time = 109.02078867203392, additional steps = 3169\n"
     ]
    },
    {
     "name": "stderr",
     "output_type": "stream",
     "text": [
      "100%|██████████| 3169/3169 [02:01<00:00, 26.02it/s]\n",
      " 88%|████████▊ | 23/26 [1:24:34<09:08, 182.76s/it]The chain is shorter than 50 times the integrated autocorrelation time for 2 parameter(s). Use this estimate with caution and run a longer chain!\n",
      "N/50 = 50;\n",
      "tau: [63.91602454 66.58826455]\n"
     ]
    },
    {
     "name": "stdout",
     "output_type": "stream",
     "text": [
      "Auto-Correlation Time = 66.58826455346885, additional steps = 962\n"
     ]
    },
    {
     "name": "stderr",
     "output_type": "stream",
     "text": [
      "100%|██████████| 962/962 [00:29<00:00, 32.07it/s]\n",
      " 92%|█████████▏| 24/26 [1:26:13<05:14, 157.37s/it]The chain is shorter than 50 times the integrated autocorrelation time for 2 parameter(s). Use this estimate with caution and run a longer chain!\n",
      "N/50 = 50;\n",
      "tau: [77.5277487  84.82277323]\n"
     ]
    },
    {
     "name": "stdout",
     "output_type": "stream",
     "text": [
      "Auto-Correlation Time = 84.82277323332026, additional steps = 1910\n"
     ]
    },
    {
     "name": "stderr",
     "output_type": "stream",
     "text": [
      "100%|██████████| 1910/1910 [01:12<00:00, 26.25it/s]\n",
      " 96%|█████████▌| 25/26 [1:28:50<02:37, 157.42s/it]The chain is shorter than 50 times the integrated autocorrelation time for 2 parameter(s). Use this estimate with caution and run a longer chain!\n",
      "N/50 = 50;\n",
      "tau: [305.01575789 331.89529871]\n"
     ]
    },
    {
     "name": "stdout",
     "output_type": "stream",
     "text": [
      "Auto-Correlation Time = 331.8952987073777, additional steps = 14758\n"
     ]
    },
    {
     "name": "stderr",
     "output_type": "stream",
     "text": [
      "100%|██████████| 14758/14758 [05:18<00:00, 46.37it/s]\n",
      "100%|██████████| 26/26 [1:34:54<00:00, 219.03s/it]\n"
     ]
    },
    {
     "ename": "NameError",
     "evalue": "name 'pickle' is not defined",
     "output_type": "error",
     "traceback": [
      "\u001b[0;31m---------------------------------------------------------------------------\u001b[0m",
      "\u001b[0;31mNameError\u001b[0m                                 Traceback (most recent call last)",
      "Cell \u001b[0;32mIn[8], line 4\u001b[0m\n\u001b[1;32m      1\u001b[0m co_hdef_chains \u001b[38;5;241m=\u001b[39m obj\u001b[38;5;241m.\u001b[39mrun_mcmc(cc\u001b[38;5;241m.\u001b[39minterpolator\u001b[38;5;241m.\u001b[39mLaPlataUltramassive, core\u001b[38;5;241m=\u001b[39m\u001b[38;5;124m'\u001b[39m\u001b[38;5;124mCO\u001b[39m\u001b[38;5;124m'\u001b[39m, layer\u001b[38;5;241m=\u001b[39m\u001b[38;5;124m'\u001b[39m\u001b[38;5;124mHdef\u001b[39m\u001b[38;5;124m'\u001b[39m)\n\u001b[1;32m      3\u001b[0m \u001b[38;5;28;01mwith\u001b[39;00m \u001b[38;5;28mopen\u001b[39m(\u001b[38;5;124m'\u001b[39m\u001b[38;5;124m../data/cleaned/radius_chains_CO_Hdef.pkl\u001b[39m\u001b[38;5;124m'\u001b[39m, \u001b[38;5;124m'\u001b[39m\u001b[38;5;124mwb\u001b[39m\u001b[38;5;124m'\u001b[39m) \u001b[38;5;28;01mas\u001b[39;00m f:\n\u001b[0;32m----> 4\u001b[0m     pickle\u001b[38;5;241m.\u001b[39mdump(co_hdef_chains, f)\n",
      "\u001b[0;31mNameError\u001b[0m: name 'pickle' is not defined"
     ]
    }
   ],
   "source": [
    "co_hdef_chains = obj.run_mcmc(cc.interpolator.LaPlataUltramassive, core='CO', layer='Hdef')\n",
    "\n",
    "with open('../data/cleaned/radius_chains_CO_Hdef.pkl', 'wb') as f:\n",
    "    pickle.dump(co_hdef_chains, f)"
   ]
  },
  {
   "cell_type": "code",
   "execution_count": null,
   "metadata": {},
   "outputs": [
    {
     "data": {
      "text/plain": [
       "{1307515077152381568: array([[7.31814029e+03, 8.41257861e-03],\n",
       "        [7.23590642e+03, 8.58676962e-03],\n",
       "        [7.32269414e+03, 8.40855253e-03],\n",
       "        ...,\n",
       "        [7.39001494e+03, 8.28550440e-03],\n",
       "        [7.39783064e+03, 8.28663291e-03],\n",
       "        [7.26366313e+03, 8.49083610e-03]]),\n",
       " 1424062412046712576: array([[9.24143023e+03, 9.63322568e-03],\n",
       "        [9.02693052e+03, 9.82993195e-03],\n",
       "        [9.33030984e+03, 9.41895203e-03],\n",
       "        ...,\n",
       "        [9.12302234e+03, 9.75486842e-03],\n",
       "        [9.33162115e+03, 9.43665326e-03],\n",
       "        [9.10683343e+03, 9.74186038e-03]]),\n",
       " 1699104219238181248: array([[1.44143378e+04, 4.50735721e-03],\n",
       "        [1.55356319e+04, 4.17222921e-03],\n",
       "        [1.43824743e+04, 4.52688319e-03],\n",
       "        ...,\n",
       "        [1.37676250e+04, 4.72137325e-03],\n",
       "        [1.45391481e+04, 4.46462930e-03],\n",
       "        [1.54198824e+04, 4.22028266e-03]]),\n",
       " 1792836069385045760: array([[1.21976644e+04, 5.07546693e-03],\n",
       "        [1.08120899e+04, 5.87135671e-03],\n",
       "        [1.19195904e+04, 5.21486736e-03],\n",
       "        ...,\n",
       "        [1.18921208e+04, 5.21586555e-03],\n",
       "        [1.17930938e+04, 5.25297321e-03],\n",
       "        [1.22167891e+04, 5.07637088e-03]]),\n",
       " 1895697134508504704: array([[5.38883476e+03, 1.03628377e-02],\n",
       "        [5.33747546e+03, 1.05045241e-02],\n",
       "        [5.36057569e+03, 1.04156888e-02],\n",
       "        ...,\n",
       "        [5.28144082e+03, 1.07296949e-02],\n",
       "        [5.29932923e+03, 1.06316428e-02],\n",
       "        [5.31036066e+03, 1.06373337e-02]]),\n",
       " 2084572311384460672: array([[1.32527272e+04, 9.41594646e-03],\n",
       "        [1.34698423e+04, 9.25516977e-03],\n",
       "        [1.77324760e+04, 7.02688538e-03],\n",
       "        ...,\n",
       "        [1.24461063e+04, 1.00213763e-02],\n",
       "        [1.02026263e+04, 1.24194738e-02],\n",
       "        [1.18395392e+04, 1.05390379e-02]]),\n",
       " 2153552814748001792: array([[8.13914415e+03, 8.97693218e-03],\n",
       "        [8.14318659e+03, 8.97846276e-03],\n",
       "        [8.29759420e+03, 8.75660593e-03],\n",
       "        ...,\n",
       "        [8.15968863e+03, 8.97990915e-03],\n",
       "        [8.41220720e+03, 8.61325670e-03],\n",
       "        [8.13822864e+03, 8.98410571e-03]]),\n",
       " 2376773024012888832: array([[7.29554384e+03, 1.07866434e-02],\n",
       "        [7.42792682e+03, 1.05323922e-02],\n",
       "        [7.46321805e+03, 1.04480015e-02],\n",
       "        ...,\n",
       "        [7.13975086e+03, 1.11634212e-02],\n",
       "        [7.37638486e+03, 1.06209307e-02],\n",
       "        [7.25708698e+03, 1.08619079e-02]]),\n",
       " 2603365323772560768: array([[6.97538388e+03, 8.26407507e-03],\n",
       "        [6.98425199e+03, 8.23932330e-03],\n",
       "        [7.18094073e+03, 7.94912686e-03],\n",
       "        ...,\n",
       "        [6.96665798e+03, 8.29879232e-03],\n",
       "        [6.92311215e+03, 8.37859362e-03],\n",
       "        [7.04408432e+03, 8.18020877e-03]]),\n",
       " 2809172631816775168: array([[5.23921700e+03, 1.28389917e-02],\n",
       "        [5.29213761e+03, 1.25419752e-02],\n",
       "        [5.30448320e+03, 1.25075882e-02],\n",
       "        ...,\n",
       "        [5.31584046e+03, 1.24203764e-02],\n",
       "        [5.19100951e+03, 1.30260580e-02],\n",
       "        [5.20965984e+03, 1.28768220e-02]]),\n",
       " 2908617170714127104: array([[8.81346981e+03, 1.03231064e-02],\n",
       "        [8.77873327e+03, 1.04047056e-02],\n",
       "        [8.78219222e+03, 1.03819863e-02],\n",
       "        ...,\n",
       "        [8.68668361e+03, 1.05347349e-02],\n",
       "        [8.83240941e+03, 1.02952708e-02],\n",
       "        [8.76160568e+03, 1.04185409e-02]]),\n",
       " 3267693925768589696: array([[4.50179848e+03, 2.76764123e-02],\n",
       "        [4.50097866e+03, 2.77143412e-02],\n",
       "        [4.52752513e+03, 2.72370946e-02],\n",
       "        ...,\n",
       "        [4.50129696e+03, 2.75432152e-02],\n",
       "        [4.50921226e+03, 2.76677556e-02],\n",
       "        [4.51800811e+03, 2.74298711e-02]]),\n",
       " 3305291519719761280: array([[5.95576755e+03, 1.38000696e-02],\n",
       "        [6.05172320e+03, 1.34109392e-02],\n",
       "        [5.74192536e+03, 1.47717300e-02],\n",
       "        ...,\n",
       "        [5.99544057e+03, 1.36485541e-02],\n",
       "        [5.97957616e+03, 1.37485776e-02],\n",
       "        [6.01555276e+03, 1.36064201e-02]]),\n",
       " 3639268180952016768: array([[6.91631687e+03, 8.84643171e-03],\n",
       "        [6.66857430e+03, 9.35659816e-03],\n",
       "        [7.15619582e+03, 8.37297889e-03],\n",
       "        ...,\n",
       "        [6.61045692e+03, 9.51916745e-03],\n",
       "        [6.75245936e+03, 9.23107180e-03],\n",
       "        [7.17104830e+03, 8.36351830e-03]]),\n",
       " 3754176938580696064: array([[5.09974115e+03, 1.57221763e-02],\n",
       "        [5.26790272e+03, 1.48224846e-02],\n",
       "        [5.17850151e+03, 1.52728456e-02],\n",
       "        ...,\n",
       "        [5.19620028e+03, 1.51327939e-02],\n",
       "        [5.30006981e+03, 1.45988069e-02],\n",
       "        [5.14325752e+03, 1.53413435e-02]]),\n",
       " 3932749274881864320: array([[4.50134639e+03, 1.95266127e-02],\n",
       "        [4.50612562e+03, 1.95327574e-02],\n",
       "        [4.50157759e+03, 1.95242956e-02],\n",
       "        ...,\n",
       "        [4.52042941e+03, 1.93526502e-02],\n",
       "        [4.50193619e+03, 1.95368208e-02],\n",
       "        [4.50338428e+03, 1.95655072e-02]]),\n",
       " 4033508722314651392: array([[5.04968417e+03, 1.43683004e-02],\n",
       "        [5.25648178e+03, 1.32972154e-02],\n",
       "        [5.27007124e+03, 1.32836080e-02],\n",
       "        ...,\n",
       "        [5.32182542e+03, 1.30480774e-02],\n",
       "        [5.38498802e+03, 1.27060496e-02],\n",
       "        [5.12468007e+03, 1.40237235e-02]]),\n",
       " 4248619071266347648: array([[9.09503560e+03, 8.62156635e-03],\n",
       "        [9.03372459e+03, 8.66128764e-03],\n",
       "        [9.06138004e+03, 8.63153243e-03],\n",
       "        ...,\n",
       "        [9.04196717e+03, 8.64273282e-03],\n",
       "        [9.03979915e+03, 8.65721324e-03],\n",
       "        [9.03194328e+03, 8.66446973e-03]]),\n",
       " 4595031204703995136: array([[1.33598112e+04, 6.30747444e-03],\n",
       "        [1.41377824e+04, 5.94695185e-03],\n",
       "        [1.34886337e+04, 6.22083876e-03],\n",
       "        ...,\n",
       "        [1.48302158e+04, 5.67705200e-03],\n",
       "        [1.36486939e+04, 6.15830045e-03],\n",
       "        [1.36858792e+04, 6.15761047e-03]]),\n",
       " 4750614226039509888: array([[1.44437338e+04, 7.22408461e-03],\n",
       "        [1.44544490e+04, 7.22070929e-03],\n",
       "        [1.45657339e+04, 7.16399191e-03],\n",
       "        ...,\n",
       "        [1.44436188e+04, 7.21998820e-03],\n",
       "        [1.44040838e+04, 7.24040765e-03],\n",
       "        [1.44091141e+04, 7.24371889e-03]]),\n",
       " 5105550838777074048: array([[7.84826566e+03, 8.37085050e-03],\n",
       "        [7.78804994e+03, 8.50583381e-03],\n",
       "        [7.87321606e+03, 8.35515941e-03],\n",
       "        ...,\n",
       "        [7.79986272e+03, 8.45434230e-03],\n",
       "        [7.86734968e+03, 8.34800170e-03],\n",
       "        [7.76927538e+03, 8.52854791e-03]]),\n",
       " 6178573689547383168: array([[2.48993736e+04, 7.60186037e-04],\n",
       "        [1.97640766e+04, 8.89856138e-04],\n",
       "        [1.07274703e+04, 1.68633070e-03],\n",
       "        ...,\n",
       "        [1.72006076e+04, 1.01595394e-03],\n",
       "        [2.38248104e+04, 7.70477656e-04],\n",
       "        [2.78690709e+04, 7.27168036e-04]]),\n",
       " 6620463598819012352: array([[4.56173308e+03, 1.34424712e-02],\n",
       "        [4.62336247e+03, 1.30194122e-02],\n",
       "        [4.71750275e+03, 1.23789573e-02],\n",
       "        ...,\n",
       "        [4.67696841e+03, 1.28381090e-02],\n",
       "        [4.53100849e+03, 1.36647577e-02],\n",
       "        [4.50052646e+03, 1.38028577e-02]]),\n",
       " 6832187963045348864: array([[6.22925144e+03, 1.16495799e-02],\n",
       "        [6.34117497e+03, 1.12474884e-02],\n",
       "        [6.26324214e+03, 1.15544081e-02],\n",
       "        ...,\n",
       "        [1.23516841e+04, 4.69603846e-03],\n",
       "        [6.34657135e+03, 1.13415218e-02],\n",
       "        [6.14969541e+03, 1.19265916e-02]]),\n",
       " 6845104475892604672: array([[4.66972105e+03, 1.22715183e-02],\n",
       "        [4.70936055e+03, 1.20938031e-02],\n",
       "        [4.77781297e+03, 1.16101996e-02],\n",
       "        ...,\n",
       "        [4.60246281e+03, 1.26271404e-02],\n",
       "        [4.74235437e+03, 1.18016159e-02],\n",
       "        [4.59648892e+03, 1.25997412e-02]]),\n",
       " 6878408889256318720: array([[1.32222180e+04, 1.24011803e-02],\n",
       "        [2.35952035e+04, 7.27538299e-03],\n",
       "        [9.38246080e+03, 1.81702326e-02],\n",
       "        ...,\n",
       "        [8.79625806e+03, 1.96750348e-02],\n",
       "        [9.14328528e+03, 1.88710854e-02],\n",
       "        [9.64386081e+03, 1.75620170e-02]])}"
      ]
     },
     "execution_count": 9,
     "metadata": {},
     "output_type": "execute_result"
    }
   ],
   "source": [
    "with open('../data/cleaned/radius_chains_CO_Hdef.pkl', 'wb') as f:\n",
    "    pickle.dump(co_hdef_chains, f)"
   ]
  },
  {
   "cell_type": "code",
   "execution_count": null,
   "metadata": {},
   "outputs": [],
   "source": []
  },
  {
   "cell_type": "code",
   "execution_count": null,
   "metadata": {},
   "outputs": [
    {
     "name": "stderr",
     "output_type": "stream",
     "text": [
      "  0%|          | 0/26 [00:00<?, ?it/s]"
     ]
    },
    {
     "name": "stdout",
     "output_type": "stream",
     "text": [
      "emcee: Exception while calling your likelihood function:\n",
      "  params: [9.68703316e+03 5.57340180e-03]\n",
      "  args: []\n",
      "  kwargs: {}\n",
      "  exception:\n"
     ]
    },
    {
     "name": "stderr",
     "output_type": "stream",
     "text": [
      "Traceback (most recent call last):\n",
      "  File \"/home/arsen/miniconda3/envs/core-composition/lib/python3.12/site-packages/emcee/ensemble.py\", line 640, in __call__\n",
      "    return self.f(x, *self.args, **self.kwargs)\n",
      "           ^^^^^^^^^^^^^^^^^^^^^^^^^^^^^^^^^^^^\n",
      "  File \"/mnt/d/arsen/research/proj/core-composition/notebooks/../corecomposition/interpolator/fit.py\", line 166, in log_prob\n",
      "    ll = log_likelihood(params)\n",
      "         ^^^^^^^^^^^^^^^^^^^^^^\n",
      "  File \"/mnt/d/arsen/research/proj/core-composition/notebooks/../corecomposition/interpolator/fit.py\", line 153, in log_likelihood\n",
      "    flux_model =  self.get_model_flux(params) # compute model fluxes\n",
      "                  ^^^^^^^^^^^^^^^^^^^^^^^^^^^\n",
      "  File \"/mnt/d/arsen/research/proj/core-composition/notebooks/../corecomposition/interpolator/fit.py\", line 138, in get_model_flux\n",
      "    fl= 4 * np.pi * self.interpolator(params[0], 9) # flux in physical units\n",
      "                    ^^^^^^^^^^^^^^^^^^^^^^^^^^^^^^^\n",
      "  File \"/mnt/d/arsen/research/proj/core-composition/notebooks/../corecomposition/interpolator/interpolator.py\", line 325, in __call__\n",
      "    return self.interp(teff, logg)\n",
      "       ^^^^^^^^^^^^^^^^^^^^^^^\n",
      "  File \"/mnt/d/arsen/research/proj/core-composition/notebooks/../corecomposition/interpolator/interpolator.py\", line 373, in __call__\n",
      "    return np.array([interp(teff, logg) for interp in self.interpolator])\n",
      "                     ^^^^^^^^^^^^^^^^^^\n",
      "  File \"/mnt/d/arsen/research/proj/core-composition/notebooks/../corecomposition/interpolator/interpolator.py\", line 338, in __call__\n",
      "    return self.eval(teff, logg)\n",
      "           ^^^^^^^^^^^^^^^^^^^^^\n",
      "  File \"/mnt/d/arsen/research/proj/core-composition/notebooks/../corecomposition/interpolator/interpolator.py\", line 360, in <lambda>\n",
      "    photometry = lambda teff, logg: float(band_func(teff, logg))\n",
      "                                          ^^^^^^^^^^^^^^^^^^^^^\n",
      "  File \"interpnd.pyx\", line 162, in scipy.interpolate.interpnd.NDInterpolatorBase.__call__\n",
      "  File \"interpnd.pyx\", line 142, in scipy.interpolate.interpnd.NDInterpolatorBase._preprocess_xi\n",
      "  File \"interpnd.pyx\", line 183, in scipy.interpolate.interpnd._ndim_coords_from_arrays\n",
      "  File \"/home/arsen/miniconda3/envs/core-composition/lib/python3.12/site-packages/numpy/lib/stride_tricks.py\", line 540, in broadcast_arrays\n",
      "    shape = _broadcast_shape(*args)\n",
      "            ^^^^^^^^^^^^^^^^^^^^^^^\n",
      "  File \"/home/arsen/miniconda3/envs/core-composition/lib/python3.12/site-packages/numpy/lib/stride_tricks.py\", line 422, in _broadcast_shape\n",
      "    b = np.broadcast(*args[:32])\n",
      "        ^^^^^^^^^^^^^^^^^^^^^^^^\n",
      "KeyboardInterrupt\n",
      "Traceback (most recent call last):\n",
      "  File \"/mnt/d/arsen/research/proj/core-composition/notebooks/../corecomposition/interpolator/fit.py\", line 190, in run_mcmc\n",
      "    sampler.run_mcmc(init_pos, nsteps, progress = False) # run x steps of mcmc\n",
      "    ^^^^^^^^^^^^^^^^^^^^^^^^^^^^^^^^^^^^^^^^^^^^^^^^^^^^\n",
      "  File \"/home/arsen/miniconda3/envs/core-composition/lib/python3.12/site-packages/emcee/ensemble.py\", line 450, in run_mcmc\n",
      "    for results in self.sample(initial_state, iterations=nsteps, **kwargs):\n",
      "  File \"/home/arsen/miniconda3/envs/core-composition/lib/python3.12/site-packages/emcee/ensemble.py\", line 409, in sample\n",
      "    state, accepted = move.propose(model, state)\n",
      "                      ^^^^^^^^^^^^^^^^^^^^^^^^^^\n",
      "  File \"/home/arsen/miniconda3/envs/core-composition/lib/python3.12/site-packages/emcee/moves/red_blue.py\", line 93, in propose\n",
      "    new_log_probs, new_blobs = model.compute_log_prob_fn(q)\n",
      "                               ^^^^^^^^^^^^^^^^^^^^^^^^^^^^\n",
      "  File \"/home/arsen/miniconda3/envs/core-composition/lib/python3.12/site-packages/emcee/ensemble.py\", line 496, in compute_log_prob\n",
      "    results = list(map_func(self.log_prob_fn, p))\n",
      "              ^^^^^^^^^^^^^^^^^^^^^^^^^^^^^^^^^^^\n",
      "  File \"/home/arsen/miniconda3/envs/core-composition/lib/python3.12/site-packages/emcee/ensemble.py\", line 640, in __call__\n",
      "    return self.f(x, *self.args, **self.kwargs)\n",
      "           ^^^^^^^^^^^^^^^^^^^^^^^^^^^^^^^^^^^^\n",
      "  File \"/mnt/d/arsen/research/proj/core-composition/notebooks/../corecomposition/interpolator/fit.py\", line 166, in log_prob\n",
      "    ll = log_likelihood(params)\n",
      "         ^^^^^^^^^^^^^^^^^^^^^^\n",
      "  File \"/mnt/d/arsen/research/proj/core-composition/notebooks/../corecomposition/interpolator/fit.py\", line 153, in log_likelihood\n",
      "    flux_model =  self.get_model_flux(params) # compute model fluxes\n",
      "                  ^^^^^^^^^^^^^^^^^^^^^^^^^^^\n",
      "  File \"/mnt/d/arsen/research/proj/core-composition/notebooks/../corecomposition/interpolator/fit.py\", line 138, in get_model_flux\n",
      "    fl= 4 * np.pi * self.interpolator(params[0], 9) # flux in physical units\n",
      "                    ^^^^^^^^^^^^^^^^^^^^^^^^^^^^^^^\n",
      "  File \"/mnt/d/arsen/research/proj/core-composition/notebooks/../corecomposition/interpolator/interpolator.py\", line 325, in __call__\n",
      "    return self.interp(teff, logg)\n",
      "       ^^^^^^^^^^^^^^^^^^^^^^^\n",
      "  File \"/mnt/d/arsen/research/proj/core-composition/notebooks/../corecomposition/interpolator/interpolator.py\", line 373, in __call__\n",
      "    return np.array([interp(teff, logg) for interp in self.interpolator])\n",
      "                     ^^^^^^^^^^^^^^^^^^\n",
      "  File \"/mnt/d/arsen/research/proj/core-composition/notebooks/../corecomposition/interpolator/interpolator.py\", line 338, in __call__\n",
      "    return self.eval(teff, logg)\n",
      "           ^^^^^^^^^^^^^^^^^^^^^\n",
      "  File \"/mnt/d/arsen/research/proj/core-composition/notebooks/../corecomposition/interpolator/interpolator.py\", line 360, in <lambda>\n",
      "    photometry = lambda teff, logg: float(band_func(teff, logg))\n",
      "                                          ^^^^^^^^^^^^^^^^^^^^^\n",
      "  File \"interpnd.pyx\", line 162, in scipy.interpolate.interpnd.NDInterpolatorBase.__call__\n",
      "  File \"interpnd.pyx\", line 142, in scipy.interpolate.interpnd.NDInterpolatorBase._preprocess_xi\n",
      "  File \"interpnd.pyx\", line 183, in scipy.interpolate.interpnd._ndim_coords_from_arrays\n",
      "  File \"/home/arsen/miniconda3/envs/core-composition/lib/python3.12/site-packages/numpy/lib/stride_tricks.py\", line 540, in broadcast_arrays\n",
      "    shape = _broadcast_shape(*args)\n",
      "            ^^^^^^^^^^^^^^^^^^^^^^^\n",
      "  File \"/home/arsen/miniconda3/envs/core-composition/lib/python3.12/site-packages/numpy/lib/stride_tricks.py\", line 422, in _broadcast_shape\n",
      "    b = np.broadcast(*args[:32])\n",
      "        ^^^^^^^^^^^^^^^^^^^^^^^^\n",
      "KeyboardInterrupt\n",
      "\n",
      "During handling of the above exception, another exception occurred:\n",
      "\n",
      "Traceback (most recent call last):\n",
      "  File \"/home/arsen/miniconda3/envs/core-composition/lib/python3.12/site-packages/emcee/ensemble.py\", line 640, in __call__\n",
      "    return self.f(x, *self.args, **self.kwargs)\n",
      "           ^^^^^^^^^^^^^^^^^^^^^^^^^^^^^^^^^^^^\n",
      "  File \"/mnt/d/arsen/research/proj/core-composition/notebooks/../corecomposition/interpolator/fit.py\", line 166, in log_prob\n",
      "    ll = log_likelihood(params)\n",
      "         ^^^^^^^^^^^^^^^^^^^^^^\n",
      "  File \"/mnt/d/arsen/research/proj/core-composition/notebooks/../corecomposition/interpolator/fit.py\", line 153, in log_likelihood\n",
      "    flux_model =  self.get_model_flux(params) # compute model fluxes\n",
      "                  ^^^^^^^^^^^^^^^^^^^^^^^^^^^\n",
      "  File \"/mnt/d/arsen/research/proj/core-composition/notebooks/../corecomposition/interpolator/fit.py\", line 138, in get_model_flux\n",
      "    fl= 4 * np.pi * self.interpolator(params[0], 9) # flux in physical units\n",
      "                    ^^^^^^^^^^^^^^^^^^^^^^^^^^^^^^^\n",
      "  File \"/mnt/d/arsen/research/proj/core-composition/notebooks/../corecomposition/interpolator/interpolator.py\", line 325, in __call__\n",
      "    return self.interp(teff, logg)\n",
      "       ^^^^^^^^^^^^^^^^^^^^^^^\n",
      "  File \"/mnt/d/arsen/research/proj/core-composition/notebooks/../corecomposition/interpolator/interpolator.py\", line 373, in __call__\n",
      "    return np.array([interp(teff, logg) for interp in self.interpolator])\n",
      "                     ^^^^^^^^^^^^^^^^^^\n",
      "  File \"/mnt/d/arsen/research/proj/core-composition/notebooks/../corecomposition/interpolator/interpolator.py\", line 338, in __call__\n",
      "    return self.eval(teff, logg)\n",
      "           ^^^^^^^^^^^^^^^^^^^^^\n",
      "  File \"/mnt/d/arsen/research/proj/core-composition/notebooks/../corecomposition/interpolator/interpolator.py\", line 360, in <lambda>\n",
      "    photometry = lambda teff, logg: float(band_func(teff, logg))\n",
      "                                          ^^^^^^^^^^^^^^^^^^^^^\n",
      "KeyboardInterrupt\n",
      "  0%|          | 0/26 [00:25<?, ?it/s]"
     ]
    },
    {
     "name": "stdout",
     "output_type": "stream",
     "text": [
      "emcee: Exception while calling your likelihood function:\n",
      "  params: [5.64057530e+03 1.26460382e-02]\n",
      "  args: []\n",
      "  kwargs: {}\n",
      "  exception:\n"
     ]
    },
    {
     "name": "stderr",
     "output_type": "stream",
     "text": [
      "\n"
     ]
    },
    {
     "ename": "KeyboardInterrupt",
     "evalue": "",
     "output_type": "error",
     "traceback": [
      "\u001b[0;31m---------------------------------------------------------------------------\u001b[0m",
      "\u001b[0;31mKeyboardInterrupt\u001b[0m                         Traceback (most recent call last)",
      "File \u001b[0;32m/mnt/d/arsen/research/proj/core-composition/notebooks/../corecomposition/interpolator/fit.py:190\u001b[0m, in \u001b[0;36mMCMCEngine.run_mcmc\u001b[0;34m(self, mags, e_mags, distance, initial_guess)\u001b[0m\n\u001b[1;32m    189\u001b[0m     sampler \u001b[38;5;241m=\u001b[39m emcee\u001b[38;5;241m.\u001b[39mEnsembleSampler(nwalkers, ndim, \u001b[38;5;28mself\u001b[39m\u001b[38;5;241m.\u001b[39mlog_prob)\u001b[38;5;66;03m#, moves = [emcee.moves.StretchMove(a=1.75)])\u001b[39;00m\n\u001b[0;32m--> 190\u001b[0m     sampler\u001b[38;5;241m.\u001b[39mrun_mcmc(init_pos, nsteps, progress \u001b[38;5;241m=\u001b[39m \u001b[38;5;28;01mFalse\u001b[39;00m) \u001b[38;5;66;03m# run x steps of mcmc\u001b[39;00m\n\u001b[1;32m    191\u001b[0m \u001b[38;5;28;01mexcept\u001b[39;00m:\n",
      "File \u001b[0;32m~/miniconda3/envs/core-composition/lib/python3.12/site-packages/emcee/ensemble.py:450\u001b[0m, in \u001b[0;36mEnsembleSampler.run_mcmc\u001b[0;34m(self, initial_state, nsteps, **kwargs)\u001b[0m\n\u001b[1;32m    449\u001b[0m results \u001b[38;5;241m=\u001b[39m \u001b[38;5;28;01mNone\u001b[39;00m\n\u001b[0;32m--> 450\u001b[0m \u001b[38;5;28;01mfor\u001b[39;00m results \u001b[38;5;129;01min\u001b[39;00m \u001b[38;5;28mself\u001b[39m\u001b[38;5;241m.\u001b[39msample(initial_state, iterations\u001b[38;5;241m=\u001b[39mnsteps, \u001b[38;5;241m*\u001b[39m\u001b[38;5;241m*\u001b[39mkwargs):\n\u001b[1;32m    451\u001b[0m     \u001b[38;5;28;01mpass\u001b[39;00m\n",
      "File \u001b[0;32m~/miniconda3/envs/core-composition/lib/python3.12/site-packages/emcee/ensemble.py:409\u001b[0m, in \u001b[0;36mEnsembleSampler.sample\u001b[0;34m(self, initial_state, log_prob0, rstate0, blobs0, iterations, tune, skip_initial_state_check, thin_by, thin, store, progress, progress_kwargs)\u001b[0m\n\u001b[1;32m    408\u001b[0m \u001b[38;5;66;03m# Propose\u001b[39;00m\n\u001b[0;32m--> 409\u001b[0m state, accepted \u001b[38;5;241m=\u001b[39m move\u001b[38;5;241m.\u001b[39mpropose(model, state)\n\u001b[1;32m    410\u001b[0m state\u001b[38;5;241m.\u001b[39mrandom_state \u001b[38;5;241m=\u001b[39m \u001b[38;5;28mself\u001b[39m\u001b[38;5;241m.\u001b[39mrandom_state\n",
      "File \u001b[0;32m~/miniconda3/envs/core-composition/lib/python3.12/site-packages/emcee/moves/red_blue.py:93\u001b[0m, in \u001b[0;36mRedBlueMove.propose\u001b[0;34m(self, model, state)\u001b[0m\n\u001b[1;32m     92\u001b[0m \u001b[38;5;66;03m# Compute the lnprobs of the proposed position.\u001b[39;00m\n\u001b[0;32m---> 93\u001b[0m new_log_probs, new_blobs \u001b[38;5;241m=\u001b[39m model\u001b[38;5;241m.\u001b[39mcompute_log_prob_fn(q)\n\u001b[1;32m     95\u001b[0m \u001b[38;5;66;03m# Loop over the walkers and update them accordingly.\u001b[39;00m\n",
      "File \u001b[0;32m~/miniconda3/envs/core-composition/lib/python3.12/site-packages/emcee/ensemble.py:496\u001b[0m, in \u001b[0;36mEnsembleSampler.compute_log_prob\u001b[0;34m(self, coords)\u001b[0m\n\u001b[1;32m    495\u001b[0m         map_func \u001b[38;5;241m=\u001b[39m \u001b[38;5;28mmap\u001b[39m\n\u001b[0;32m--> 496\u001b[0m     results \u001b[38;5;241m=\u001b[39m \u001b[38;5;28mlist\u001b[39m(map_func(\u001b[38;5;28mself\u001b[39m\u001b[38;5;241m.\u001b[39mlog_prob_fn, p))\n\u001b[1;32m    498\u001b[0m \u001b[38;5;28;01mtry\u001b[39;00m:\n\u001b[1;32m    499\u001b[0m     \u001b[38;5;66;03m# perhaps log_prob_fn returns blobs?\u001b[39;00m\n\u001b[1;32m    500\u001b[0m \n\u001b[0;32m   (...)\u001b[0m\n\u001b[1;32m    504\u001b[0m     \u001b[38;5;66;03m# l is a length-1 array, np.array([1.234]). In that case blob\u001b[39;00m\n\u001b[1;32m    505\u001b[0m     \u001b[38;5;66;03m# will become an empty list.\u001b[39;00m\n",
      "File \u001b[0;32m~/miniconda3/envs/core-composition/lib/python3.12/site-packages/emcee/ensemble.py:640\u001b[0m, in \u001b[0;36m_FunctionWrapper.__call__\u001b[0;34m(self, x)\u001b[0m\n\u001b[1;32m    639\u001b[0m \u001b[38;5;28;01mtry\u001b[39;00m:\n\u001b[0;32m--> 640\u001b[0m     \u001b[38;5;28;01mreturn\u001b[39;00m \u001b[38;5;28mself\u001b[39m\u001b[38;5;241m.\u001b[39mf(x, \u001b[38;5;241m*\u001b[39m\u001b[38;5;28mself\u001b[39m\u001b[38;5;241m.\u001b[39margs, \u001b[38;5;241m*\u001b[39m\u001b[38;5;241m*\u001b[39m\u001b[38;5;28mself\u001b[39m\u001b[38;5;241m.\u001b[39mkwargs)\n\u001b[1;32m    641\u001b[0m \u001b[38;5;28;01mexcept\u001b[39;00m:  \u001b[38;5;66;03m# pragma: no cover\u001b[39;00m\n",
      "File \u001b[0;32m/mnt/d/arsen/research/proj/core-composition/notebooks/../corecomposition/interpolator/fit.py:166\u001b[0m, in \u001b[0;36mMCMCEngine.log_prob\u001b[0;34m(self, params)\u001b[0m\n\u001b[1;32m    165\u001b[0m lp \u001b[38;5;241m=\u001b[39m log_prior(params)\n\u001b[0;32m--> 166\u001b[0m ll \u001b[38;5;241m=\u001b[39m log_likelihood(params)\n\u001b[1;32m    167\u001b[0m \u001b[38;5;28;01mif\u001b[39;00m \u001b[38;5;129;01mnot\u001b[39;00m np\u001b[38;5;241m.\u001b[39misfinite(lp) \u001b[38;5;129;01mor\u001b[39;00m \u001b[38;5;129;01mnot\u001b[39;00m np\u001b[38;5;241m.\u001b[39misfinite(ll):\n",
      "File \u001b[0;32m/mnt/d/arsen/research/proj/core-composition/notebooks/../corecomposition/interpolator/fit.py:153\u001b[0m, in \u001b[0;36mMCMCEngine.log_prob.<locals>.log_likelihood\u001b[0;34m(params)\u001b[0m\n\u001b[1;32m    152\u001b[0m \u001b[38;5;28;01mdef\u001b[39;00m \u001b[38;5;21mlog_likelihood\u001b[39m(params):\n\u001b[0;32m--> 153\u001b[0m     flux_model \u001b[38;5;241m=\u001b[39m  \u001b[38;5;28mself\u001b[39m\u001b[38;5;241m.\u001b[39mget_model_flux(params) \u001b[38;5;66;03m# compute model fluxes\u001b[39;00m\n\u001b[1;32m    154\u001b[0m     \u001b[38;5;28;01mreturn\u001b[39;00m np\u001b[38;5;241m.\u001b[39msum(\u001b[38;5;241m-\u001b[39m\u001b[38;5;241m0.5\u001b[39m\u001b[38;5;241m*\u001b[39mnp\u001b[38;5;241m.\u001b[39msquare(((\u001b[38;5;28mself\u001b[39m\u001b[38;5;241m.\u001b[39mfluxes \u001b[38;5;241m-\u001b[39m flux_model) \u001b[38;5;241m/\u001b[39m \u001b[38;5;28mself\u001b[39m\u001b[38;5;241m.\u001b[39me_fluxes)) \u001b[38;5;241m-\u001b[39m np\u001b[38;5;241m.\u001b[39mlog(np\u001b[38;5;241m.\u001b[39msqrt(\u001b[38;5;241m2\u001b[39m\u001b[38;5;241m*\u001b[39mnp\u001b[38;5;241m.\u001b[39mpi) \u001b[38;5;241m*\u001b[39m \u001b[38;5;28mself\u001b[39m\u001b[38;5;241m.\u001b[39me_fluxes))\n",
      "File \u001b[0;32m/mnt/d/arsen/research/proj/core-composition/notebooks/../corecomposition/interpolator/fit.py:138\u001b[0m, in \u001b[0;36mMCMCEngine.get_model_flux\u001b[0;34m(self, params)\u001b[0m\n\u001b[1;32m    136\u001b[0m \u001b[38;5;28;01mdef\u001b[39;00m \u001b[38;5;21mget_model_flux\u001b[39m(\u001b[38;5;28mself\u001b[39m, params):\n\u001b[1;32m    137\u001b[0m     \u001b[38;5;66;03m#get model photometric flux for a WD with a given radius, located a given distance away        \u001b[39;00m\n\u001b[0;32m--> 138\u001b[0m     fl\u001b[38;5;241m=\u001b[39m \u001b[38;5;241m4\u001b[39m \u001b[38;5;241m*\u001b[39m np\u001b[38;5;241m.\u001b[39mpi \u001b[38;5;241m*\u001b[39m \u001b[38;5;28mself\u001b[39m\u001b[38;5;241m.\u001b[39minterpolator(params[\u001b[38;5;241m0\u001b[39m], \u001b[38;5;241m9\u001b[39m) \u001b[38;5;66;03m# flux in physical units\u001b[39;00m\n\u001b[1;32m    139\u001b[0m     \u001b[38;5;66;03m#convert to SI units\u001b[39;00m\n",
      "File \u001b[0;32m/mnt/d/arsen/research/proj/core-composition/notebooks/../corecomposition/interpolator/interpolator.py:325\u001b[0m, in \u001b[0;36mLaPlataUltramassive.__call__\u001b[0;34m(self, teff, logg)\u001b[0m\n\u001b[1;32m    324\u001b[0m \u001b[38;5;28;01mdef\u001b[39;00m \u001b[38;5;21m__call__\u001b[39m(\u001b[38;5;28mself\u001b[39m, teff, logg):\n\u001b[0;32m--> 325\u001b[0m     \u001b[38;5;28;01mreturn\u001b[39;00m \u001b[38;5;28mself\u001b[39m\u001b[38;5;241m.\u001b[39minterp(teff, logg)\n",
      "File \u001b[0;32m/mnt/d/arsen/research/proj/core-composition/notebooks/../corecomposition/interpolator/interpolator.py:373\u001b[0m, in \u001b[0;36mMultiBandInterpolator.__call__\u001b[0;34m(self, teff, logg)\u001b[0m\n\u001b[1;32m    372\u001b[0m \u001b[38;5;28;01mdef\u001b[39;00m \u001b[38;5;21m__call__\u001b[39m(\u001b[38;5;28mself\u001b[39m, teff, logg):\n\u001b[0;32m--> 373\u001b[0m     \u001b[38;5;28;01mreturn\u001b[39;00m np\u001b[38;5;241m.\u001b[39marray([interp(teff, logg) \u001b[38;5;28;01mfor\u001b[39;00m interp \u001b[38;5;129;01min\u001b[39;00m \u001b[38;5;28mself\u001b[39m\u001b[38;5;241m.\u001b[39minterpolator])\n",
      "File \u001b[0;32m/mnt/d/arsen/research/proj/core-composition/notebooks/../corecomposition/interpolator/interpolator.py:338\u001b[0m, in \u001b[0;36mSingleBandInterpolator.__call__\u001b[0;34m(self, teff, logg)\u001b[0m\n\u001b[1;32m    337\u001b[0m \u001b[38;5;28;01mdef\u001b[39;00m \u001b[38;5;21m__call__\u001b[39m(\u001b[38;5;28mself\u001b[39m, teff, logg):\n\u001b[0;32m--> 338\u001b[0m     \u001b[38;5;28;01mreturn\u001b[39;00m \u001b[38;5;28mself\u001b[39m\u001b[38;5;241m.\u001b[39meval(teff, logg)\n",
      "File \u001b[0;32m/mnt/d/arsen/research/proj/core-composition/notebooks/../corecomposition/interpolator/interpolator.py:360\u001b[0m, in \u001b[0;36mSingleBandInterpolator.build_interpolator.<locals>.<lambda>\u001b[0;34m(teff, logg)\u001b[0m\n\u001b[1;32m    358\u001b[0m band_func \u001b[38;5;241m=\u001b[39m interp(\u001b[38;5;28mself\u001b[39m\u001b[38;5;241m.\u001b[39mtable[\u001b[38;5;124m'\u001b[39m\u001b[38;5;124mteff\u001b[39m\u001b[38;5;124m'\u001b[39m], \u001b[38;5;28mself\u001b[39m\u001b[38;5;241m.\u001b[39mtable[\u001b[38;5;124m'\u001b[39m\u001b[38;5;124mlogg\u001b[39m\u001b[38;5;124m'\u001b[39m], \u001b[38;5;28mself\u001b[39m\u001b[38;5;241m.\u001b[39mtable[\u001b[38;5;28mself\u001b[39m\u001b[38;5;241m.\u001b[39mband])\n\u001b[0;32m--> 360\u001b[0m photometry \u001b[38;5;241m=\u001b[39m \u001b[38;5;28;01mlambda\u001b[39;00m teff, logg: \u001b[38;5;28mfloat\u001b[39m(band_func(teff, logg))\n\u001b[1;32m    361\u001b[0m \u001b[38;5;28;01mreturn\u001b[39;00m photometry\n",
      "File \u001b[0;32minterpnd.pyx:162\u001b[0m, in \u001b[0;36mscipy.interpolate.interpnd.NDInterpolatorBase.__call__\u001b[0;34m()\u001b[0m\n",
      "File \u001b[0;32minterpnd.pyx:142\u001b[0m, in \u001b[0;36mscipy.interpolate.interpnd.NDInterpolatorBase._preprocess_xi\u001b[0;34m()\u001b[0m\n",
      "File \u001b[0;32minterpnd.pyx:183\u001b[0m, in \u001b[0;36mscipy.interpolate.interpnd._ndim_coords_from_arrays\u001b[0;34m()\u001b[0m\n",
      "File \u001b[0;32m~/miniconda3/envs/core-composition/lib/python3.12/site-packages/numpy/lib/stride_tricks.py:540\u001b[0m, in \u001b[0;36mbroadcast_arrays\u001b[0;34m(subok, *args)\u001b[0m\n\u001b[1;32m    538\u001b[0m args \u001b[38;5;241m=\u001b[39m [np\u001b[38;5;241m.\u001b[39marray(_m, copy\u001b[38;5;241m=\u001b[39m\u001b[38;5;28;01mFalse\u001b[39;00m, subok\u001b[38;5;241m=\u001b[39msubok) \u001b[38;5;28;01mfor\u001b[39;00m _m \u001b[38;5;129;01min\u001b[39;00m args]\n\u001b[0;32m--> 540\u001b[0m shape \u001b[38;5;241m=\u001b[39m _broadcast_shape(\u001b[38;5;241m*\u001b[39margs)\n\u001b[1;32m    542\u001b[0m \u001b[38;5;28;01mif\u001b[39;00m \u001b[38;5;28mall\u001b[39m(array\u001b[38;5;241m.\u001b[39mshape \u001b[38;5;241m==\u001b[39m shape \u001b[38;5;28;01mfor\u001b[39;00m array \u001b[38;5;129;01min\u001b[39;00m args):\n\u001b[1;32m    543\u001b[0m     \u001b[38;5;66;03m# Common case where nothing needs to be broadcasted.\u001b[39;00m\n",
      "File \u001b[0;32m~/miniconda3/envs/core-composition/lib/python3.12/site-packages/numpy/lib/stride_tricks.py:422\u001b[0m, in \u001b[0;36m_broadcast_shape\u001b[0;34m(*args)\u001b[0m\n\u001b[1;32m    420\u001b[0m \u001b[38;5;66;03m# use the old-iterator because np.nditer does not handle size 0 arrays\u001b[39;00m\n\u001b[1;32m    421\u001b[0m \u001b[38;5;66;03m# consistently\u001b[39;00m\n\u001b[0;32m--> 422\u001b[0m b \u001b[38;5;241m=\u001b[39m np\u001b[38;5;241m.\u001b[39mbroadcast(\u001b[38;5;241m*\u001b[39margs[:\u001b[38;5;241m32\u001b[39m])\n\u001b[1;32m    423\u001b[0m \u001b[38;5;66;03m# unfortunately, it cannot handle 32 or more arguments directly\u001b[39;00m\n",
      "\u001b[0;31mKeyboardInterrupt\u001b[0m: ",
      "\nDuring handling of the above exception, another exception occurred:\n",
      "\u001b[0;31mKeyboardInterrupt\u001b[0m                         Traceback (most recent call last)",
      "Cell \u001b[0;32mIn[23], line 1\u001b[0m\n\u001b[0;32m----> 1\u001b[0m co_hrich_chains \u001b[38;5;241m=\u001b[39m obj\u001b[38;5;241m.\u001b[39mrun_mcmc(cc\u001b[38;5;241m.\u001b[39minterpolator\u001b[38;5;241m.\u001b[39mLaPlataUltramassive, core\u001b[38;5;241m=\u001b[39m\u001b[38;5;124m'\u001b[39m\u001b[38;5;124mCO\u001b[39m\u001b[38;5;124m'\u001b[39m, layer\u001b[38;5;241m=\u001b[39m\u001b[38;5;124m'\u001b[39m\u001b[38;5;124mHrich\u001b[39m\u001b[38;5;124m'\u001b[39m)\n\u001b[1;32m      3\u001b[0m \u001b[38;5;28;01mwith\u001b[39;00m \u001b[38;5;28mopen\u001b[39m(\u001b[38;5;124m'\u001b[39m\u001b[38;5;124m../data/cleaned/radius_chains_CO_Hrich.pkl\u001b[39m\u001b[38;5;124m'\u001b[39m, \u001b[38;5;124m'\u001b[39m\u001b[38;5;124mwb\u001b[39m\u001b[38;5;124m'\u001b[39m) \u001b[38;5;28;01mas\u001b[39;00m f:\n\u001b[1;32m      4\u001b[0m     pickle\u001b[38;5;241m.\u001b[39mdump(co_hrich_chains, f)\n",
      "File \u001b[0;32m/mnt/d/arsen/research/proj/core-composition/notebooks/../corecomposition/photometry.py:218\u001b[0m, in \u001b[0;36mrun_mcmc\u001b[0;34m(self, interpolator, **kwargs)\u001b[0m\n\u001b[1;32m    215\u001b[0m     engine \u001b[38;5;241m=\u001b[39m MCMCEngine(interp)\n\u001b[1;32m    217\u001b[0m     chain \u001b[38;5;241m=\u001b[39m engine\u001b[38;5;241m.\u001b[39mrun_mcmc(\u001b[38;5;28mself\u001b[39m\u001b[38;5;241m.\u001b[39mphotometry[ii], \u001b[38;5;28mself\u001b[39m\u001b[38;5;241m.\u001b[39me_photometry[ii], \u001b[38;5;28mself\u001b[39m\u001b[38;5;241m.\u001b[39mgeometry[ii]\u001b[38;5;241m.\u001b[39mdistance\u001b[38;5;241m.\u001b[39mvalue, \u001b[38;5;28mself\u001b[39m\u001b[38;5;241m.\u001b[39minitial_guess[ii])\n\u001b[0;32m--> 218\u001b[0m     chains[\u001b[38;5;28mid\u001b[39m] \u001b[38;5;241m=\u001b[39m chain\n\u001b[1;32m    219\u001b[0m \u001b[38;5;28;01mreturn\u001b[39;00m chains\n",
      "File \u001b[0;32m/mnt/d/arsen/research/proj/core-composition/notebooks/../corecomposition/interpolator/fit.py:195\u001b[0m, in \u001b[0;36mMCMCEngine.run_mcmc\u001b[0;34m(self, mags, e_mags, distance, initial_guess)\u001b[0m\n\u001b[1;32m    193\u001b[0m     nwalkers, ndim \u001b[38;5;241m=\u001b[39m init_pos\u001b[38;5;241m.\u001b[39mshape\n\u001b[1;32m    194\u001b[0m     sampler \u001b[38;5;241m=\u001b[39m emcee\u001b[38;5;241m.\u001b[39mEnsembleSampler(nwalkers, ndim, \u001b[38;5;28mself\u001b[39m\u001b[38;5;241m.\u001b[39mlog_prob)\u001b[38;5;66;03m#, moves = [emcee.moves.StretchMove(a=1.75)])\u001b[39;00m\n\u001b[0;32m--> 195\u001b[0m     sampler\u001b[38;5;241m.\u001b[39mrun_mcmc(init_pos, nsteps, progress \u001b[38;5;241m=\u001b[39m \u001b[38;5;28;01mFalse\u001b[39;00m) \u001b[38;5;66;03m# run x steps of mcmc\u001b[39;00m\n\u001b[1;32m    197\u001b[0m auto_corr_time \u001b[38;5;241m=\u001b[39m np\u001b[38;5;241m.\u001b[39mmax(sampler\u001b[38;5;241m.\u001b[39mget_autocorr_time(quiet \u001b[38;5;241m=\u001b[39m \u001b[38;5;28;01mTrue\u001b[39;00m)) \u001b[38;5;66;03m# get amount of steps for burn-in so we know how many steps we should run\u001b[39;00m\n\u001b[1;32m    198\u001b[0m \u001b[38;5;28mprint\u001b[39m(\u001b[38;5;124m\"\u001b[39m\u001b[38;5;124mAuto-Correlation Time = \u001b[39m\u001b[38;5;132;01m{}\u001b[39;00m\u001b[38;5;124m, additional steps = \u001b[39m\u001b[38;5;132;01m{}\u001b[39;00m\u001b[38;5;124m\"\u001b[39m\u001b[38;5;241m.\u001b[39mformat(auto_corr_time, \u001b[38;5;28mint\u001b[39m(\u001b[38;5;241m52\u001b[39m\u001b[38;5;241m*\u001b[39mauto_corr_time) \u001b[38;5;241m-\u001b[39m nsteps))\n",
      "File \u001b[0;32m~/miniconda3/envs/core-composition/lib/python3.12/site-packages/emcee/ensemble.py:450\u001b[0m, in \u001b[0;36mEnsembleSampler.run_mcmc\u001b[0;34m(self, initial_state, nsteps, **kwargs)\u001b[0m\n\u001b[1;32m    447\u001b[0m     initial_state \u001b[38;5;241m=\u001b[39m \u001b[38;5;28mself\u001b[39m\u001b[38;5;241m.\u001b[39m_previous_state\n\u001b[1;32m    449\u001b[0m results \u001b[38;5;241m=\u001b[39m \u001b[38;5;28;01mNone\u001b[39;00m\n\u001b[0;32m--> 450\u001b[0m \u001b[38;5;28;01mfor\u001b[39;00m results \u001b[38;5;129;01min\u001b[39;00m \u001b[38;5;28mself\u001b[39m\u001b[38;5;241m.\u001b[39msample(initial_state, iterations\u001b[38;5;241m=\u001b[39mnsteps, \u001b[38;5;241m*\u001b[39m\u001b[38;5;241m*\u001b[39mkwargs):\n\u001b[1;32m    451\u001b[0m     \u001b[38;5;28;01mpass\u001b[39;00m\n\u001b[1;32m    453\u001b[0m \u001b[38;5;66;03m# Store so that the ``initial_state=None`` case will work\u001b[39;00m\n",
      "File \u001b[0;32m~/miniconda3/envs/core-composition/lib/python3.12/site-packages/emcee/ensemble.py:409\u001b[0m, in \u001b[0;36mEnsembleSampler.sample\u001b[0;34m(self, initial_state, log_prob0, rstate0, blobs0, iterations, tune, skip_initial_state_check, thin_by, thin, store, progress, progress_kwargs)\u001b[0m\n\u001b[1;32m    406\u001b[0m move \u001b[38;5;241m=\u001b[39m \u001b[38;5;28mself\u001b[39m\u001b[38;5;241m.\u001b[39m_random\u001b[38;5;241m.\u001b[39mchoice(\u001b[38;5;28mself\u001b[39m\u001b[38;5;241m.\u001b[39m_moves, p\u001b[38;5;241m=\u001b[39m\u001b[38;5;28mself\u001b[39m\u001b[38;5;241m.\u001b[39m_weights)\n\u001b[1;32m    408\u001b[0m \u001b[38;5;66;03m# Propose\u001b[39;00m\n\u001b[0;32m--> 409\u001b[0m state, accepted \u001b[38;5;241m=\u001b[39m move\u001b[38;5;241m.\u001b[39mpropose(model, state)\n\u001b[1;32m    410\u001b[0m state\u001b[38;5;241m.\u001b[39mrandom_state \u001b[38;5;241m=\u001b[39m \u001b[38;5;28mself\u001b[39m\u001b[38;5;241m.\u001b[39mrandom_state\n\u001b[1;32m    412\u001b[0m \u001b[38;5;28;01mif\u001b[39;00m tune:\n",
      "File \u001b[0;32m~/miniconda3/envs/core-composition/lib/python3.12/site-packages/emcee/moves/red_blue.py:93\u001b[0m, in \u001b[0;36mRedBlueMove.propose\u001b[0;34m(self, model, state)\u001b[0m\n\u001b[1;32m     90\u001b[0m q, factors \u001b[38;5;241m=\u001b[39m \u001b[38;5;28mself\u001b[39m\u001b[38;5;241m.\u001b[39mget_proposal(s, c, model\u001b[38;5;241m.\u001b[39mrandom)\n\u001b[1;32m     92\u001b[0m \u001b[38;5;66;03m# Compute the lnprobs of the proposed position.\u001b[39;00m\n\u001b[0;32m---> 93\u001b[0m new_log_probs, new_blobs \u001b[38;5;241m=\u001b[39m model\u001b[38;5;241m.\u001b[39mcompute_log_prob_fn(q)\n\u001b[1;32m     95\u001b[0m \u001b[38;5;66;03m# Loop over the walkers and update them accordingly.\u001b[39;00m\n\u001b[1;32m     96\u001b[0m \u001b[38;5;28;01mfor\u001b[39;00m i, (j, f, nlp) \u001b[38;5;129;01min\u001b[39;00m \u001b[38;5;28menumerate\u001b[39m(\n\u001b[1;32m     97\u001b[0m     \u001b[38;5;28mzip\u001b[39m(all_inds[S1], factors, new_log_probs)\n\u001b[1;32m     98\u001b[0m ):\n",
      "File \u001b[0;32m~/miniconda3/envs/core-composition/lib/python3.12/site-packages/emcee/ensemble.py:496\u001b[0m, in \u001b[0;36mEnsembleSampler.compute_log_prob\u001b[0;34m(self, coords)\u001b[0m\n\u001b[1;32m    494\u001b[0m     \u001b[38;5;28;01melse\u001b[39;00m:\n\u001b[1;32m    495\u001b[0m         map_func \u001b[38;5;241m=\u001b[39m \u001b[38;5;28mmap\u001b[39m\n\u001b[0;32m--> 496\u001b[0m     results \u001b[38;5;241m=\u001b[39m \u001b[38;5;28mlist\u001b[39m(map_func(\u001b[38;5;28mself\u001b[39m\u001b[38;5;241m.\u001b[39mlog_prob_fn, p))\n\u001b[1;32m    498\u001b[0m \u001b[38;5;28;01mtry\u001b[39;00m:\n\u001b[1;32m    499\u001b[0m     \u001b[38;5;66;03m# perhaps log_prob_fn returns blobs?\u001b[39;00m\n\u001b[1;32m    500\u001b[0m \n\u001b[0;32m   (...)\u001b[0m\n\u001b[1;32m    504\u001b[0m     \u001b[38;5;66;03m# l is a length-1 array, np.array([1.234]). In that case blob\u001b[39;00m\n\u001b[1;32m    505\u001b[0m     \u001b[38;5;66;03m# will become an empty list.\u001b[39;00m\n\u001b[1;32m    506\u001b[0m     blob \u001b[38;5;241m=\u001b[39m [l[\u001b[38;5;241m1\u001b[39m:] \u001b[38;5;28;01mfor\u001b[39;00m l \u001b[38;5;129;01min\u001b[39;00m results \u001b[38;5;28;01mif\u001b[39;00m \u001b[38;5;28mlen\u001b[39m(l) \u001b[38;5;241m>\u001b[39m \u001b[38;5;241m1\u001b[39m]\n",
      "File \u001b[0;32m~/miniconda3/envs/core-composition/lib/python3.12/site-packages/emcee/ensemble.py:640\u001b[0m, in \u001b[0;36m_FunctionWrapper.__call__\u001b[0;34m(self, x)\u001b[0m\n\u001b[1;32m    638\u001b[0m \u001b[38;5;28;01mdef\u001b[39;00m \u001b[38;5;21m__call__\u001b[39m(\u001b[38;5;28mself\u001b[39m, x):\n\u001b[1;32m    639\u001b[0m     \u001b[38;5;28;01mtry\u001b[39;00m:\n\u001b[0;32m--> 640\u001b[0m         \u001b[38;5;28;01mreturn\u001b[39;00m \u001b[38;5;28mself\u001b[39m\u001b[38;5;241m.\u001b[39mf(x, \u001b[38;5;241m*\u001b[39m\u001b[38;5;28mself\u001b[39m\u001b[38;5;241m.\u001b[39margs, \u001b[38;5;241m*\u001b[39m\u001b[38;5;241m*\u001b[39m\u001b[38;5;28mself\u001b[39m\u001b[38;5;241m.\u001b[39mkwargs)\n\u001b[1;32m    641\u001b[0m     \u001b[38;5;28;01mexcept\u001b[39;00m:  \u001b[38;5;66;03m# pragma: no cover\u001b[39;00m\n\u001b[1;32m    642\u001b[0m         \u001b[38;5;28;01mimport\u001b[39;00m \u001b[38;5;21;01mtraceback\u001b[39;00m\n",
      "File \u001b[0;32m/mnt/d/arsen/research/proj/core-composition/notebooks/../corecomposition/interpolator/fit.py:166\u001b[0m, in \u001b[0;36mMCMCEngine.log_prob\u001b[0;34m(self, params)\u001b[0m\n\u001b[1;32m    163\u001b[0m         \u001b[38;5;28;01mreturn\u001b[39;00m \u001b[38;5;241m-\u001b[39mnp\u001b[38;5;241m.\u001b[39minf\n\u001b[1;32m    165\u001b[0m lp \u001b[38;5;241m=\u001b[39m log_prior(params)\n\u001b[0;32m--> 166\u001b[0m ll \u001b[38;5;241m=\u001b[39m log_likelihood(params)\n\u001b[1;32m    167\u001b[0m \u001b[38;5;28;01mif\u001b[39;00m \u001b[38;5;129;01mnot\u001b[39;00m np\u001b[38;5;241m.\u001b[39misfinite(lp) \u001b[38;5;129;01mor\u001b[39;00m \u001b[38;5;129;01mnot\u001b[39;00m np\u001b[38;5;241m.\u001b[39misfinite(ll):\n\u001b[1;32m    168\u001b[0m     \u001b[38;5;28;01mreturn\u001b[39;00m \u001b[38;5;241m-\u001b[39mnp\u001b[38;5;241m.\u001b[39minf\n",
      "File \u001b[0;32m/mnt/d/arsen/research/proj/core-composition/notebooks/../corecomposition/interpolator/fit.py:153\u001b[0m, in \u001b[0;36mMCMCEngine.log_prob.<locals>.log_likelihood\u001b[0;34m(params)\u001b[0m\n\u001b[1;32m    152\u001b[0m \u001b[38;5;28;01mdef\u001b[39;00m \u001b[38;5;21mlog_likelihood\u001b[39m(params):\n\u001b[0;32m--> 153\u001b[0m     flux_model \u001b[38;5;241m=\u001b[39m  \u001b[38;5;28mself\u001b[39m\u001b[38;5;241m.\u001b[39mget_model_flux(params) \u001b[38;5;66;03m# compute model fluxes\u001b[39;00m\n\u001b[1;32m    154\u001b[0m     \u001b[38;5;28;01mreturn\u001b[39;00m np\u001b[38;5;241m.\u001b[39msum(\u001b[38;5;241m-\u001b[39m\u001b[38;5;241m0.5\u001b[39m\u001b[38;5;241m*\u001b[39mnp\u001b[38;5;241m.\u001b[39msquare(((\u001b[38;5;28mself\u001b[39m\u001b[38;5;241m.\u001b[39mfluxes \u001b[38;5;241m-\u001b[39m flux_model) \u001b[38;5;241m/\u001b[39m \u001b[38;5;28mself\u001b[39m\u001b[38;5;241m.\u001b[39me_fluxes)) \u001b[38;5;241m-\u001b[39m np\u001b[38;5;241m.\u001b[39mlog(np\u001b[38;5;241m.\u001b[39msqrt(\u001b[38;5;241m2\u001b[39m\u001b[38;5;241m*\u001b[39mnp\u001b[38;5;241m.\u001b[39mpi) \u001b[38;5;241m*\u001b[39m \u001b[38;5;28mself\u001b[39m\u001b[38;5;241m.\u001b[39me_fluxes))\n",
      "File \u001b[0;32m/mnt/d/arsen/research/proj/core-composition/notebooks/../corecomposition/interpolator/fit.py:138\u001b[0m, in \u001b[0;36mMCMCEngine.get_model_flux\u001b[0;34m(self, params)\u001b[0m\n\u001b[1;32m    136\u001b[0m \u001b[38;5;28;01mdef\u001b[39;00m \u001b[38;5;21mget_model_flux\u001b[39m(\u001b[38;5;28mself\u001b[39m, params):\n\u001b[1;32m    137\u001b[0m     \u001b[38;5;66;03m#get model photometric flux for a WD with a given radius, located a given distance away        \u001b[39;00m\n\u001b[0;32m--> 138\u001b[0m     fl\u001b[38;5;241m=\u001b[39m \u001b[38;5;241m4\u001b[39m \u001b[38;5;241m*\u001b[39m np\u001b[38;5;241m.\u001b[39mpi \u001b[38;5;241m*\u001b[39m \u001b[38;5;28mself\u001b[39m\u001b[38;5;241m.\u001b[39minterpolator(params[\u001b[38;5;241m0\u001b[39m], \u001b[38;5;241m9\u001b[39m) \u001b[38;5;66;03m# flux in physical units\u001b[39;00m\n\u001b[1;32m    139\u001b[0m     \u001b[38;5;66;03m#convert to SI units\u001b[39;00m\n\u001b[1;32m    140\u001b[0m     radius \u001b[38;5;241m=\u001b[39m params[\u001b[38;5;241m1\u001b[39m] \u001b[38;5;241m*\u001b[39m radius_sun \u001b[38;5;66;03m# Rsun to meter\u001b[39;00m\n",
      "File \u001b[0;32m/mnt/d/arsen/research/proj/core-composition/notebooks/../corecomposition/interpolator/interpolator.py:325\u001b[0m, in \u001b[0;36mLaPlataUltramassive.__call__\u001b[0;34m(self, teff, logg)\u001b[0m\n\u001b[1;32m    324\u001b[0m \u001b[38;5;28;01mdef\u001b[39;00m \u001b[38;5;21m__call__\u001b[39m(\u001b[38;5;28mself\u001b[39m, teff, logg):\n\u001b[0;32m--> 325\u001b[0m     \u001b[38;5;28;01mreturn\u001b[39;00m \u001b[38;5;28mself\u001b[39m\u001b[38;5;241m.\u001b[39minterp(teff, logg)\n",
      "File \u001b[0;32m/mnt/d/arsen/research/proj/core-composition/notebooks/../corecomposition/interpolator/interpolator.py:373\u001b[0m, in \u001b[0;36mMultiBandInterpolator.__call__\u001b[0;34m(self, teff, logg)\u001b[0m\n\u001b[1;32m    372\u001b[0m \u001b[38;5;28;01mdef\u001b[39;00m \u001b[38;5;21m__call__\u001b[39m(\u001b[38;5;28mself\u001b[39m, teff, logg):\n\u001b[0;32m--> 373\u001b[0m     \u001b[38;5;28;01mreturn\u001b[39;00m np\u001b[38;5;241m.\u001b[39marray([interp(teff, logg) \u001b[38;5;28;01mfor\u001b[39;00m interp \u001b[38;5;129;01min\u001b[39;00m \u001b[38;5;28mself\u001b[39m\u001b[38;5;241m.\u001b[39minterpolator])\n",
      "File \u001b[0;32m/mnt/d/arsen/research/proj/core-composition/notebooks/../corecomposition/interpolator/interpolator.py:338\u001b[0m, in \u001b[0;36mSingleBandInterpolator.__call__\u001b[0;34m(self, teff, logg)\u001b[0m\n\u001b[1;32m    337\u001b[0m \u001b[38;5;28;01mdef\u001b[39;00m \u001b[38;5;21m__call__\u001b[39m(\u001b[38;5;28mself\u001b[39m, teff, logg):\n\u001b[0;32m--> 338\u001b[0m     \u001b[38;5;28;01mreturn\u001b[39;00m \u001b[38;5;28mself\u001b[39m\u001b[38;5;241m.\u001b[39meval(teff, logg)\n",
      "File \u001b[0;32m/mnt/d/arsen/research/proj/core-composition/notebooks/../corecomposition/interpolator/interpolator.py:360\u001b[0m, in \u001b[0;36mSingleBandInterpolator.build_interpolator.<locals>.<lambda>\u001b[0;34m(teff, logg)\u001b[0m\n\u001b[1;32m    355\u001b[0m grid_x, grid_y \u001b[38;5;241m=\u001b[39m np\u001b[38;5;241m.\u001b[39mmgrid[logteff_logg_grid[\u001b[38;5;241m0\u001b[39m]:logteff_logg_grid[\u001b[38;5;241m1\u001b[39m]:logteff_logg_grid[\u001b[38;5;241m2\u001b[39m],\n\u001b[1;32m    356\u001b[0m                             logteff_logg_grid[\u001b[38;5;241m3\u001b[39m]:logteff_logg_grid[\u001b[38;5;241m4\u001b[39m]:logteff_logg_grid[\u001b[38;5;241m5\u001b[39m]]\n\u001b[1;32m    358\u001b[0m band_func \u001b[38;5;241m=\u001b[39m interp(\u001b[38;5;28mself\u001b[39m\u001b[38;5;241m.\u001b[39mtable[\u001b[38;5;124m'\u001b[39m\u001b[38;5;124mteff\u001b[39m\u001b[38;5;124m'\u001b[39m], \u001b[38;5;28mself\u001b[39m\u001b[38;5;241m.\u001b[39mtable[\u001b[38;5;124m'\u001b[39m\u001b[38;5;124mlogg\u001b[39m\u001b[38;5;124m'\u001b[39m], \u001b[38;5;28mself\u001b[39m\u001b[38;5;241m.\u001b[39mtable[\u001b[38;5;28mself\u001b[39m\u001b[38;5;241m.\u001b[39mband])\n\u001b[0;32m--> 360\u001b[0m photometry \u001b[38;5;241m=\u001b[39m \u001b[38;5;28;01mlambda\u001b[39;00m teff, logg: \u001b[38;5;28mfloat\u001b[39m(band_func(teff, logg))\n\u001b[1;32m    361\u001b[0m \u001b[38;5;28;01mreturn\u001b[39;00m photometry\n",
      "\u001b[0;31mKeyboardInterrupt\u001b[0m: "
     ]
    }
   ],
   "source": [
    "co_hrich_chains = obj.run_mcmc(cc.interpolator.LaPlataUltramassive, core='CO', layer='Hrich')\n",
    "\n",
    "with open('../data/cleaned/radius_chains_CO_Hrich.pkl', 'wb') as f:\n",
    "    pickle.dump(co_hrich_chains, f)"
   ]
  },
  {
   "cell_type": "code",
   "execution_count": null,
   "metadata": {},
   "outputs": [],
   "source": [
    "one_hrich_chains = obj.run_mcmc(cc.interpolator.LaPlataUltramassive, core='ONe', layer='Hrich')\n",
    "\n",
    "with open('../data/cleaned/radius_chains_ONe_Hrich.pkl', 'wb') as f:\n",
    "    pickle.dump(one_hrich_chains, f)"
   ]
  },
  {
   "cell_type": "code",
   "execution_count": null,
   "metadata": {},
   "outputs": [],
   "source": [
    "one_hdef_chains = obj.run_mcmc(cc.interpolator.LaPlataUltramassive, core='ONe', layer='Hdef')\n",
    "\n",
    "with open('../data/cleaned/radius_chains_ONe_Hdef.pkl', 'wb') as f:\n",
    "    pickle.dump(one_hdef_chains, f)"
   ]
  },
  {
   "cell_type": "code",
   "execution_count": null,
   "metadata": {},
   "outputs": [
    {
     "data": {
      "image/png": "[encoded data removed]",
      "text/plain": [
       "<Figure size 550x550 with 4 Axes>"
      ]
     },
     "metadata": {},
     "output_type": "display_data"
    }
   ],
   "source": [
    "import corner\n",
    "\n",
    "id = list(co_hdef_chains.keys())[10]\n",
    "\n",
    "labels = [r'$T_{eff}$ $[K]$', r'Radius $[R_\\odot]$']\n",
    "best_est = np.zeros((len(labels)))\n",
    "unc = []\n",
    "\n",
    "for i in range(len(labels)):\n",
    "    mcmc = np.percentile(co_hdef_chains[id][:, i],[16,50,84])\n",
    "    best_est[i] = mcmc[1]\n",
    "    unc.append(np.diff(mcmc))\n",
    "unc = np.array(unc)\n",
    "\n",
    "emcee_plot = corner.corner(co_hdef_chains[id], labels=labels, truths = best_est, quantiles = [0.16, 0.5, 0.84], show_titles = True, \n",
    "                           title_fmt = '.3f', title_kwargs={\"fontsize\": 12})\n",
    "\n",
    "plt.show()"
   ]
  },
  {
   "cell_type": "code",
   "execution_count": null,
   "metadata": {},
   "outputs": [],
   "source": [
    "gold_coverage = join(gold, table, keys_left='wd_source_id', keys_right='source_id')\n",
    "silver_coverage = join(silver, table, keys_left='wd_source_id', keys_right='source_id')\n",
    "bronze_coverage = table\n",
    "\n",
    "print(f'gold coverage = {len(gold_coverage)} / {len(gold)}')\n",
    "print(f'silver coverage = {len(silver_coverage)} / {len(silver)}')\n",
    "print(f'bronze coverage = {len(bronze_coverage)} / {len(bronze)}')"
   ]
  },
  {
   "cell_type": "code",
   "execution_count": null,
   "metadata": {},
   "outputs": [],
   "source": []
  }
 ],
 "metadata": {
  "kernelspec": {
   "display_name": "core-composition",
   "language": "python",
   "name": "python3"
  },
  "language_info": {
   "codemirror_mode": {
    "name": "ipython",
    "version": 3
   },
   "file_extension": ".py",
   "mimetype": "text/x-python",
   "name": "python",
   "nbconvert_exporter": "python",
   "pygments_lexer": "ipython3",
   "version": "3.12.2"
  }
 },
 "nbformat": 4,
 "nbformat_minor": 2
}
