{
 "cells": [
  {
   "cell_type": "markdown",
   "metadata": {},
   "source": [
    "## Build The Catalog\n",
    "\n",
    "The point of this notebook is to take the El-Badry+ catalog (located at `data/raw/elbadry.csv`) and one of the configuration files at `data/raw/*.ini` which contains all the information for astrometric and photometric cuts and output a catalog of potentially high-mass white dwarfs. I also check one of the radii computed during the target selection process using MCMC (but without doing any dereddening). A more detailed look at the MCMC calculations is presented in `02_mcmc_photometry.ipynb`. \n",
    "\n",
    "The main files used in the target selection process are:\n",
    "* `corecomposition/build.py`\n",
    "* `corecomposition/elbadry.py`\n",
    "* `corecomposition/radius.py`\n",
    "\n",
    "These files aren't super well-coded, but they mostly work. Going back and re-factoring them is on my list of things to do."
   ]
  },
  {
   "cell_type": "code",
   "execution_count": 1,
   "metadata": {},
   "outputs": [],
   "source": [
    "### General\n",
    "import matplotlib.pyplot as plt\n",
    "import configparser\n",
    "import numpy as np\n",
    "from astropy.table import Table\n",
    "\n",
    "### Catalog Build Tools\n",
    "import sys\n",
    "sys.path.append('../')\n",
    "from corecomposition import selection, photometry\n",
    "from corecomposition import interpolator\n",
    "\n",
    "# MCMC Functions \n",
    "import corner\n",
    "from tqdm import tqdm\n",
    "\n",
    "### Constants\n",
    "G = 6.674e-11\n",
    "mass_sun = 1.9884e30\n",
    "radius_sun = 6.957e8\n",
    "c = 2.99e8"
   ]
  },
  {
   "cell_type": "markdown",
   "metadata": {},
   "source": [
    "The criteria for the gold, silver, and bronze samples are specified in `README.md`. It may be a good idea to change these ultimately.\n",
    "\n",
    "Gold Sample Threshold\n",
    "```\n",
    "- max main sequence e_rv < 2.5\n",
    "- wd and ms ruwe < 1.2\n",
    "- wd and ms bp_rp_excess < 1.2\n",
    "- average wd radius < 0.0075\n",
    "```\n",
    "no. targets: 5\n",
    "\n",
    "Silver Sample Threshold\n",
    "```\n",
    "- max main sequence e_rv < 2.5\n",
    "- wd and ms ruwe < 1.2\n",
    "- wd and ms bp_rp_excess < 1.25\n",
    "- average wd radius < 0.0075\n",
    "```\n",
    "no. targets: 14\n",
    "\n",
    "Bronze Sample Threshold\n",
    "```\n",
    "- max main sequence e_rv < 2.5\n",
    "- wd and ms ruwe --- NONE\n",
    "- wd and ms bp_rp_excess --- NONE\n",
    "- average wd radius < 0.0075\n",
    "```\n",
    "no. targets: 42"
   ]
  },
  {
   "cell_type": "code",
   "execution_count": 2,
   "metadata": {},
   "outputs": [
    {
     "data": {
      "text/plain": [
       "['../data/raw/gold.ini']"
      ]
     },
     "execution_count": 2,
     "metadata": {},
     "output_type": "execute_result"
    }
   ],
   "source": [
    "catpath = '../data/raw/elbadry.csv' # path to the El-Badry catalog\n",
    "confpath = '../data/raw/gold.ini' # path to the config file to use\n",
    "outpath = '../data/processed/gold.csv' # output path\n",
    "\n",
    "# read El-Badry and the config file\n",
    "basecat = Table.read(catpath)\n",
    "config = configparser.ConfigParser()\n",
    "config.read(confpath)"
   ]
  },
  {
   "cell_type": "markdown",
   "metadata": {},
   "source": [
    "The `build()` function lives in the file `corecomposition/build.py`. I pass the config file and the El-Badry catalog and it returns, most importantly, `targets`, which contains the targets that the model thinks are high-quality high-mass white dwarfs. The target selection first applies a couple of astrometric cuts to remove probable unresolved binaries and other stuff that would confound our measurements. The strength of the astrometric cuts applied depends very much on which sample is being used. For instance the bronze sample I think might have quite bad astrometric cuts.\n",
    "\n",
    "Once the astrometric cuts are applied, I use least-squares fitting on the Gaia BP and RP bands using five different models. These are the models convolved down from the Fontaine model spectra as well as all four La Plata ultramassive models. Once this is done, some automated sanity checks are performed on the data to see if the fits succeeded. If those fits are obviously wrong, the data is removed from the sample. (Note: I think that just Gaia BP and RP are not enough. It may be better to remove this step entirely and select probable high-mass WDs using their position on the CMD.)\n",
    "\n",
    "Finally, white dwarfs that the model thinks have a sufficiently small radius are returned. The actual cutoffs for each parameter can be found in the config files at `data/raw/*.ini`."
   ]
  },
  {
   "cell_type": "code",
   "execution_count": 3,
   "metadata": {},
   "outputs": [
    {
     "name": "stderr",
     "output_type": "stream",
     "text": [
      "  0%|          | 0/9 [00:00<?, ?it/s]"
     ]
    },
    {
     "name": "stderr",
     "output_type": "stream",
     "text": [
      "100%|██████████| 9/9 [00:11<00:00,  1.26s/it]\n",
      "100%|██████████| 9/9 [00:09<00:00,  1.07s/it]\n",
      "WARNING: MergeConflictWarning: Cannot merge meta key 'ucd' types <class 'str'> and <class 'str'>, choosing ucd='meta.id' [astropy.utils.metadata.merge]\n",
      "WARNING: MergeConflictWarning: In merged column 'ms_source_id' the 'description' attribute does not match (Unique source identifier. Note that this *cannot* be matched against the DR1 or DR2 source_ids. != Unique source identifier (unique within a particular Data Release)).  Using Unique source identifier (unique within a particular Data Release) for merged output [astropy.utils.metadata.merge]\n"
     ]
    },
    {
     "name": "stdout",
     "output_type": "stream",
     "text": [
      "Found 380 WD+MS Wide Binaries\n",
      "Found 9 High-Mass WD+MS Binaries\n"
     ]
    }
   ],
   "source": [
    "targets = selection.build_catalog(config['catalog'], basecat)\n",
    "targets.write(outpath, overwrite = True)"
   ]
  },
  {
   "cell_type": "markdown",
   "metadata": {},
   "source": [
    "## Check The Radii Using MCMC\n",
    "\n",
    "Finally I'm going to do a quick sanity check to check this with MCMC. I'll only use the G, BP, and RP photometric bands with this MCMC fit. In the next notebook, the basic steps that I do here are put into the file `corecomposition/photometry.py`, specifically in the `Photometry()` class. I'll create the same models that were used in the initial fits. It's easy to swap out the interpolators used in the MCMC fit later in the file.\n",
    "\n",
    "The MCMC code almost exactly the same as what Tyler used in his code."
   ]
  },
  {
   "cell_type": "code",
   "execution_count": 19,
   "metadata": {},
   "outputs": [],
   "source": [
    "# which photometric bands to interpolate onto?\n",
    "bands = ['Gaia_G', 'Gaia_BP', 'Gaia_RP']\n",
    "\n",
    "# create interpolators from the following models with the following parameters\n",
    "co_hrich_model = interpolator.LaPlataUltramassive(bands, core = 'CO', layer = 'Hrich')\n",
    "co_hdef_model = interpolator.LaPlataUltramassive(bands, core = 'CO', layer = 'Hdef')\n",
    "one_hrich_model = interpolator.LaPlataUltramassive(bands, core = 'ONe', layer = 'Hrich')\n",
    "one_hdef_model = interpolator.LaPlataUltramassive(bands, core = 'ONe', layer = 'Hdef')\n",
    "base_model = interpolator.LaPlataBase(bands, layer='Hrich')"
   ]
  },
  {
   "cell_type": "code",
   "execution_count": 20,
   "metadata": {},
   "outputs": [],
   "source": [
    "# save the relevant columns into their own arrays\n",
    "astrometric_params_solved = targets['wd_astrometric_params_solved']\n",
    "bp_mag = targets['wd_phot_bp_mean_mag']\n",
    "rp_mag = targets['wd_phot_rp_mean_mag']\n",
    "g_mag = targets['wd_phot_g_mean_mag']\n",
    "g_flux = targets['wd_phot_g_mean_flux']\n",
    "\n",
    "# use Tyler's code to correct the g-band magnitude\n",
    "g_corr = interpolator.utils.correct_gband(bp_mag, rp_mag, astrometric_params_solved, g_mag)\n",
    "targets['wd_corrected_gmag'] = g_corr"
   ]
  },
  {
   "cell_type": "code",
   "execution_count": 21,
   "metadata": {},
   "outputs": [
    {
     "name": "stdout",
     "output_type": "stream",
     "text": [
      "[19.95184517 20.03573227 19.84587097]\n"
     ]
    }
   ],
   "source": [
    "import pyphot\n",
    "lib = pyphot.get_library()\n",
    "\n",
    "def gaia_to_ab(photo):\n",
    "    bands = ['Gaia_G', 'Gaia_BP', 'Gaia_RP']\n",
    "    flux = np.array([10**(-0.4*(photo[i] + lib[band].Vega_zero_mag)) for i, band in enumerate(bands)])\n",
    "    ab_mag = np.array([-2.5 * np.log10(flux[i]) - lib[band].AB_zero_mag for i, band in enumerate(bands)])\n",
    "    return ab_mag\n",
    "\n",
    "i = -2 # choose the second target\n",
    "\n",
    "# this is all the information needed to run the MCMC fit\n",
    "obs_mag = np.array([targets[i]['wd_corrected_gmag'], targets[i]['wd_phot_bp_mean_mag'], targets[i]['wd_phot_rp_mean_mag']])\n",
    "obs_mag = gaia_to_ab(obs_mag)\n",
    "\n",
    "e_obs_mag = np.array([targets[i]['wd_e_gmag'], targets[i]['wd_e_bpmag'], targets[i]['wd_e_rpmag']])\n",
    "distance = targets['r_med_geo'][i]\n",
    "initial_guess = [10000, 0.001]"
   ]
  },
  {
   "cell_type": "markdown",
   "metadata": {},
   "source": [
    "With the information needed to run the fit (magnitudes, uncertainties, Bailer-Jones distances, and the initial guess), we can run the MCMC fit. The code that actually does the fit lives at `corecomposition/interpolator/fit.py` in the class `MCMCEngine()`. I pass the interpolator into the `MCMCEngine()` class, then I use the `run_mcmc()` function to actually run Tyler's MCMC code. After that, we can see the resulting corner plot."
   ]
  },
  {
   "cell_type": "code",
   "execution_count": 23,
   "metadata": {},
   "outputs": [
    {
     "name": "stderr",
     "output_type": "stream",
     "text": [
      "WARNING:emcee.autocorr:The chain is shorter than 50 times the integrated autocorrelation time for 2 parameter(s). Use this estimate with caution and run a longer chain!\n",
      "N/50 = 50;\n",
      "tau: [291.92749161 311.13412934]\n"
     ]
    },
    {
     "name": "stdout",
     "output_type": "stream",
     "text": [
      "Auto-Correlation Time = 311.13412934172703, additional steps = 13678\n"
     ]
    },
    {
     "name": "stderr",
     "output_type": "stream",
     "text": [
      "100%|██████████| 13678/13678 [03:24<00:00, 66.93it/s]\n"
     ]
    }
   ],
   "source": [
    "# run the MCMC fit using one of the interpolators\n",
    "engine = interpolator.MCMCEngine(co_hdef_model)\n",
    "flat_chain = engine.run_mcmc(obs_mag, e_obs_mag, distance, initial_guess)"
   ]
  },
  {
   "cell_type": "code",
   "execution_count": 24,
   "metadata": {},
   "outputs": [
    {
     "data": {
      "image/png": "[encoded data removed]",
      "text/plain": [
       "<Figure size 550x550 with 4 Axes>"
      ]
     },
     "metadata": {},
     "output_type": "display_data"
    }
   ],
   "source": [
    "labels = [r'$T_{eff}$ $[K]$', r'Radius $[R_\\odot]$']\n",
    "best_est = np.zeros((len(labels)))\n",
    "unc = []\n",
    "\n",
    "for i in range(len(labels)):\n",
    "    mcmc = np.percentile(flat_chain[:, i],[16,50,84])\n",
    "    best_est[i] = mcmc[1]\n",
    "    unc.append(np.diff(mcmc))\n",
    "unc = np.array(unc)\n",
    "\n",
    "emcee_plot = corner.corner(flat_chain, labels=labels, truths = best_est, quantiles = [0.16, 0.5, 0.84], show_titles = True, \n",
    "                           title_fmt = '.3f', title_kwargs={\"fontsize\": 12})"
   ]
  },
  {
   "cell_type": "code",
   "execution_count": 14,
   "metadata": {},
   "outputs": [
    {
     "data": {
      "text/html": [
       "<div><i>Table length=9</i>\n",
       "<table id=\"table140653461359360\" class=\"table-striped table-bordered table-condensed\">\n",
       "<thead><tr><th>wd_source_id</th><th>cmd_radius</th></tr></thead>\n",
       "<thead><tr><th>int64</th><th>float64</th></tr></thead>\n",
       "<tr><td>321259125631010688</td><td>0.00607263759050093</td></tr>\n",
       "<tr><td>2153552814748001792</td><td>0.006786168093090157</td></tr>\n",
       "<tr><td>2376773024012888832</td><td>0.0073973859146476235</td></tr>\n",
       "<tr><td>3970162318385391488</td><td>0.006827360016277533</td></tr>\n",
       "<tr><td>4248619071266347648</td><td>0.00695344430453521</td></tr>\n",
       "<tr><td>4762592584885748608</td><td>0.006021104812980846</td></tr>\n",
       "<tr><td>5309155039065680512</td><td>0.0066949591006259844</td></tr>\n",
       "<tr><td>5750618956285716480</td><td>0.0072459406314183674</td></tr>\n",
       "<tr><td>5924037812888396544</td><td>0.003943364705014442</td></tr>\n",
       "</table></div>"
      ],
      "text/plain": [
       "<Table length=9>\n",
       "    wd_source_id          cmd_radius     \n",
       "       int64               float64       \n",
       "------------------- ---------------------\n",
       " 321259125631010688   0.00607263759050093\n",
       "2153552814748001792  0.006786168093090157\n",
       "2376773024012888832 0.0073973859146476235\n",
       "3970162318385391488  0.006827360016277533\n",
       "4248619071266347648   0.00695344430453521\n",
       "4762592584885748608  0.006021104812980846\n",
       "5309155039065680512 0.0066949591006259844\n",
       "5750618956285716480 0.0072459406314183674\n",
       "5924037812888396544  0.003943364705014442"
      ]
     },
     "execution_count": 14,
     "metadata": {},
     "output_type": "execute_result"
    }
   ],
   "source": [
    "targets[['wd_source_id', 'cmd_radius']]"
   ]
  },
  {
   "cell_type": "code",
   "execution_count": null,
   "metadata": {},
   "outputs": [],
   "source": []
  }
 ],
 "metadata": {
  "kernelspec": {
   "display_name": "core-composition",
   "language": "python",
   "name": "python3"
  },
  "language_info": {
   "codemirror_mode": {
    "name": "ipython",
    "version": 3
   },
   "file_extension": ".py",
   "mimetype": "text/x-python",
   "name": "python",
   "nbconvert_exporter": "python",
   "pygments_lexer": "ipython3",
   "version": "3.12.2"
  }
 },
 "nbformat": 4,
 "nbformat_minor": 2
}
