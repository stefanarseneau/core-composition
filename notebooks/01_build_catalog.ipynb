{
 "cells": [
  {
   "cell_type": "markdown",
   "metadata": {},
   "source": [
    "## Build The Catalog\n",
    "\n",
    "The point of this notebook is to take the El-Badry+ catalog (located at `data/raw/elbadry.csv`) and one of the configuration files at `data/raw/*.ini` which contains all the information for astrometric and photometric cuts and output a catalog of potentially high-mass white dwarfs. I also check one of the radii computed during the target selection process using MCMC (but without doing any dereddening). A more detailed look at the MCMC calculations is presented in `02_mcmc_photometry.ipynb`. \n",
    "\n",
    "The main files used in the target selection process are:\n",
    "* `corecomposition/build.py`\n",
    "* `corecomposition/elbadry.py`\n",
    "* `corecomposition/radius.py`\n",
    "\n",
    "These files aren't super well-coded, but they mostly work. Going back and re-factoring them is on my list of things to do."
   ]
  },
  {
   "cell_type": "code",
   "execution_count": 1,
   "metadata": {},
   "outputs": [],
   "source": [
    "### General\n",
    "import matplotlib.pyplot as plt\n",
    "import configparser\n",
    "import numpy as np\n",
    "from astropy.table import Table\n",
    "\n",
    "### Catalog Build Tools\n",
    "import sys\n",
    "sys.path.append('../')\n",
    "from corecomposition import selection, photometry\n",
    "from corecomposition import interpolator\n",
    "\n",
    "# MCMC Functions \n",
    "import corner\n",
    "from tqdm import tqdm\n",
    "\n",
    "### Constants\n",
    "G = 6.674e-11\n",
    "mass_sun = 1.9884e30\n",
    "radius_sun = 6.957e8\n",
    "c = 2.99e8"
   ]
  },
  {
   "cell_type": "markdown",
   "metadata": {},
   "source": [
    "The criteria for the gold, silver, and bronze samples are specified in `README.md`. It may be a good idea to change these ultimately.\n",
    "\n",
    "Gold Sample Threshold\n",
    "```\n",
    "- max main sequence e_rv < 2.5\n",
    "- wd and ms ruwe < 1.2\n",
    "- wd and ms bp_rp_excess < 1.2\n",
    "- average wd radius < 0.0075\n",
    "```\n",
    "no. targets: 5\n",
    "\n",
    "Silver Sample Threshold\n",
    "```\n",
    "- max main sequence e_rv < 2.5\n",
    "- wd and ms ruwe < 1.2\n",
    "- wd and ms bp_rp_excess < 1.25\n",
    "- average wd radius < 0.0075\n",
    "```\n",
    "no. targets: 14\n",
    "\n",
    "Bronze Sample Threshold\n",
    "```\n",
    "- max main sequence e_rv < 2.5\n",
    "- wd and ms ruwe --- NONE\n",
    "- wd and ms bp_rp_excess --- NONE\n",
    "- average wd radius < 0.0075\n",
    "```\n",
    "no. targets: 42"
   ]
  },
  {
   "cell_type": "code",
   "execution_count": 2,
   "metadata": {},
   "outputs": [
    {
     "name": "stderr",
     "output_type": "stream",
     "text": [
      "Optimizing map for querying (this might take a couple of seconds)...\n"
     ]
    }
   ],
   "source": [
    "# dustmap for dereddening\n",
    "from dustmaps.edenhofer2023 import Edenhofer2023Query\n",
    "bsq = Edenhofer2023Query()"
   ]
  },
  {
   "cell_type": "code",
   "execution_count": 12,
   "metadata": {},
   "outputs": [
    {
     "data": {
      "text/plain": [
       "['../data/raw/gold.ini']"
      ]
     },
     "execution_count": 12,
     "metadata": {},
     "output_type": "execute_result"
    }
   ],
   "source": [
    "catpath = '../data/raw/elbadry.csv' # path to the El-Badry catalog\n",
    "confpath = '../data/raw/gold.ini' # path to the config file to use\n",
    "outpath = '../data/processed/gold.csv' # output path\n",
    "\n",
    "# read El-Badry and the config file\n",
    "basecat = Table.read(catpath)\n",
    "config = configparser.ConfigParser()\n",
    "config.read(confpath)"
   ]
  },
  {
   "cell_type": "markdown",
   "metadata": {},
   "source": [
    "The `build()` function lives in the file `corecomposition/build.py`. I pass the config file and the El-Badry catalog and it returns, most importantly, `targets`, which contains the targets that the model thinks are high-quality high-mass white dwarfs. The target selection first applies a couple of astrometric cuts to remove probable unresolved binaries and other stuff that would confound our measurements. The strength of the astrometric cuts applied depends very much on which sample is being used. For instance the bronze sample I think might have quite bad astrometric cuts.\n",
    "\n",
    "Once the astrometric cuts are applied, I use least-squares fitting on the Gaia BP and RP bands using five different models. These are the models convolved down from the Fontaine model spectra as well as all four La Plata ultramassive models. Once this is done, some automated sanity checks are performed on the data to see if the fits succeeded. If those fits are obviously wrong, the data is removed from the sample. (Note: I think that just Gaia BP and RP are not enough. It may be better to remove this step entirely and select probable high-mass WDs using their position on the CMD.)\n",
    "\n",
    "Finally, white dwarfs that the model thinks have a sufficiently small radius are returned. The actual cutoffs for each parameter can be found in the config files at `data/raw/*.ini`."
   ]
  },
  {
   "cell_type": "code",
   "execution_count": 13,
   "metadata": {},
   "outputs": [
    {
     "name": "stderr",
     "output_type": "stream",
     "text": [
      "  0%|          | 0/9 [00:00<?, ?it/s]"
     ]
    },
    {
     "name": "stderr",
     "output_type": "stream",
     "text": [
      "100%|██████████| 9/9 [00:10<00:00,  1.21s/it]\n",
      "100%|██████████| 9/9 [00:10<00:00,  1.11s/it]\n",
      "WARNING: MergeConflictWarning: Cannot merge meta key 'ucd' types <class 'str'> and <class 'str'>, choosing ucd='meta.id' [astropy.utils.metadata.merge]\n",
      "WARNING: MergeConflictWarning: In merged column 'ms_source_id' the 'description' attribute does not match (Unique source identifier. Note that this *cannot* be matched against the DR1 or DR2 source_ids. != Unique source identifier (unique within a particular Data Release)).  Using Unique source identifier (unique within a particular Data Release) for merged output [astropy.utils.metadata.merge]\n",
      "100%|██████████| 5110/5110 [01:30<00:00, 56.70it/s]\n"
     ]
    },
    {
     "name": "stdout",
     "output_type": "stream",
     "text": [
      "Found 380 WD+MS Wide Binaries\n",
      "Found 7 High-Mass WD+MS Binaries\n"
     ]
    }
   ],
   "source": [
    "targets = selection.build_catalog(config['catalog'], basecat, bsq = bsq)\n",
    "targets.write(outpath, overwrite = True)"
   ]
  },
  {
   "cell_type": "code",
   "execution_count": 14,
   "metadata": {},
   "outputs": [
    {
     "data": {
      "text/plain": [
       "(0.004478989490034967, 0.007481759418545218)"
      ]
     },
     "execution_count": 14,
     "metadata": {},
     "output_type": "execute_result"
    }
   ],
   "source": [
    "min(targets['cmd_radius']), max(targets['cmd_radius'])"
   ]
  },
  {
   "cell_type": "code",
   "execution_count": null,
   "metadata": {},
   "outputs": [],
   "source": []
  },
  {
   "cell_type": "markdown",
   "metadata": {},
   "source": [
    "## Check The Radii Using MCMC\n",
    "\n",
    "Finally I'm going to do a quick sanity check to check this with MCMC. I'll only use the G, BP, and RP photometric bands with this MCMC fit. In the next notebook, the basic steps that I do here are put into the file `corecomposition/photometry.py`, specifically in the `Photometry()` class. I'll create the same models that were used in the initial fits. It's easy to swap out the interpolators used in the MCMC fit later in the file.\n",
    "\n",
    "The MCMC code almost exactly the same as what Tyler used in his code."
   ]
  },
  {
   "cell_type": "code",
   "execution_count": 16,
   "metadata": {},
   "outputs": [],
   "source": [
    "# which photometric bands to interpolate onto?\n",
    "bands = ['Gaia_G', 'Gaia_BP', 'Gaia_RP']\n",
    "\n",
    "# create interpolators from the following models with the following parameters\n",
    "co_hrich_model = interpolator.LaPlataUltramassive(bands, core = 'CO', layer = 'Hrich')\n",
    "co_hdef_model = interpolator.LaPlataUltramassive(bands, core = 'CO', layer = 'Hdef')\n",
    "one_hrich_model = interpolator.LaPlataUltramassive(bands, core = 'ONe', layer = 'Hrich')\n",
    "one_hdef_model = interpolator.LaPlataUltramassive(bands, core = 'ONe', layer = 'Hdef')\n",
    "base_model = interpolator.LaPlataBase(bands, layer='Hrich')"
   ]
  },
  {
   "cell_type": "code",
   "execution_count": 17,
   "metadata": {},
   "outputs": [],
   "source": [
    "# save the relevant columns into their own arrays\n",
    "astrometric_params_solved = targets['wd_astrometric_params_solved']\n",
    "bp_mag = targets['wd_phot_bp_mean_mag']\n",
    "rp_mag = targets['wd_phot_rp_mean_mag']\n",
    "g_mag = targets['wd_phot_g_mean_mag']\n",
    "g_flux = targets['wd_phot_g_mean_flux']\n",
    "\n",
    "# use Tyler's code to correct the g-band magnitude\n",
    "g_corr = interpolator.utils.correct_gband(bp_mag, rp_mag, astrometric_params_solved, g_mag)\n",
    "targets['wd_corrected_gmag'] = g_corr"
   ]
  },
  {
   "cell_type": "code",
   "execution_count": 25,
   "metadata": {},
   "outputs": [],
   "source": [
    "import pyphot\n",
    "lib = pyphot.get_library()\n",
    "\n",
    "def gaia_to_ab(photo):\n",
    "    bands = ['Gaia_G', 'Gaia_BP', 'Gaia_RP']\n",
    "    flux = np.array([10**(-0.4*(photo[i] + lib[band].Vega_zero_mag)) for i, band in enumerate(bands)])\n",
    "    ab_mag = np.array([-2.5 * np.log10(flux[i]) - lib[band].AB_zero_mag for i, band in enumerate(bands)])\n",
    "    return ab_mag\n",
    "\n",
    "i = 0 # choose a target\n",
    "\n",
    "# this is all the information needed to run the MCMC fit\n",
    "obs_mag = np.array([targets[i]['wd_corrected_gmag'], targets[i]['wd_phot_bp_mean_mag'], targets[i]['wd_phot_rp_mean_mag']])\n",
    "e_obs_mag = np.array([targets[i]['wd_e_gmag'], targets[i]['wd_e_bpmag'], targets[i]['wd_e_rpmag']])\n",
    "distance = targets['r_med_geo'][i]\n",
    "initial_guess = [10000, 0.001]"
   ]
  },
  {
   "cell_type": "markdown",
   "metadata": {},
   "source": [
    "With the information needed to run the fit (magnitudes, uncertainties, Bailer-Jones distances, and the initial guess), we can run the MCMC fit. The code that actually does the fit lives at `corecomposition/interpolator/fit.py` in the class `MCMCEngine()`. I pass the interpolator into the `MCMCEngine()` class, then I use the `run_mcmc()` function to actually run Tyler's MCMC code. After that, we can see the resulting corner plot."
   ]
  },
  {
   "cell_type": "code",
   "execution_count": 26,
   "metadata": {},
   "outputs": [
    {
     "name": "stdout",
     "output_type": "stream",
     "text": [
      "[5.02960991e-17 7.59144394e-17 2.48640767e-17]\n"
     ]
    },
    {
     "name": "stderr",
     "output_type": "stream",
     "text": [
      "The chain is shorter than 50 times the integrated autocorrelation time for 2 parameter(s). Use this estimate with caution and run a longer chain!\n",
      "N/50 = 50;\n",
      "tau: [254.39378783 275.14741958]\n"
     ]
    },
    {
     "name": "stdout",
     "output_type": "stream",
     "text": [
      "Auto-Correlation Time = 275.1474195809252, additional steps = 11807\n"
     ]
    },
    {
     "name": "stderr",
     "output_type": "stream",
     "text": [
      "100%|██████████| 11807/11807 [03:11<00:00, 61.62it/s]\n"
     ]
    }
   ],
   "source": [
    "# run the MCMC fit using one of the interpolators\n",
    "engine = interpolator.MCMCEngine(co_hdef_model)\n",
    "flat_chain = engine.run_mcmc(obs_mag, e_obs_mag, distance, initial_guess)"
   ]
  },
  {
   "cell_type": "code",
   "execution_count": 27,
   "metadata": {},
   "outputs": [
    {
     "data": {
      "image/png": "[encoded data removed]",
      "text/plain": [
       "<Figure size 550x550 with 4 Axes>"
      ]
     },
     "metadata": {},
     "output_type": "display_data"
    }
   ],
   "source": [
    "labels = [r'$T_{eff}$ $[K]$', r'Radius $[R_\\odot]$']\n",
    "best_est = np.zeros((len(labels)))\n",
    "unc = []\n",
    "\n",
    "for i in range(len(labels)):\n",
    "    mcmc = np.percentile(flat_chain[:, i],[16,50,84])\n",
    "    best_est[i] = mcmc[1]\n",
    "    unc.append(np.diff(mcmc))\n",
    "unc = np.array(unc)\n",
    "\n",
    "emcee_plot = corner.corner(flat_chain, labels=labels, truths = best_est, quantiles = [0.16, 0.5, 0.84], show_titles = True, \n",
    "                           title_fmt = '.3f', title_kwargs={\"fontsize\": 12})"
   ]
  },
  {
   "cell_type": "code",
   "execution_count": 28,
   "metadata": {},
   "outputs": [
    {
     "data": {
      "text/html": [
       "<div><i>Table length=7</i>\n",
       "<table id=\"table140170314574512\" class=\"table-striped table-bordered table-condensed\">\n",
       "<thead><tr><th>wd_source_id</th><th>cmd_radius</th></tr></thead>\n",
       "<thead><tr><th>int64</th><th>float64</th></tr></thead>\n",
       "<tr><td>321259125631010688</td><td>0.007481759418545218</td></tr>\n",
       "<tr><td>2153552814748001792</td><td>0.0067775427053977004</td></tr>\n",
       "<tr><td>3249027001465705088</td><td>0.007198684270318171</td></tr>\n",
       "<tr><td>4248619071266347648</td><td>0.007001884607420573</td></tr>\n",
       "<tr><td>4762592584885748608</td><td>0.0059727301554456215</td></tr>\n",
       "<tr><td>5309155039065680512</td><td>0.006532989105105616</td></tr>\n",
       "<tr><td>5924037812888396544</td><td>0.004478989490034967</td></tr>\n",
       "</table></div>"
      ],
      "text/plain": [
       "<Table length=7>\n",
       "    wd_source_id          cmd_radius     \n",
       "       int64               float64       \n",
       "------------------- ---------------------\n",
       " 321259125631010688  0.007481759418545218\n",
       "2153552814748001792 0.0067775427053977004\n",
       "3249027001465705088  0.007198684270318171\n",
       "4248619071266347648  0.007001884607420573\n",
       "4762592584885748608 0.0059727301554456215\n",
       "5309155039065680512  0.006532989105105616\n",
       "5924037812888396544  0.004478989490034967"
      ]
     },
     "execution_count": 28,
     "metadata": {},
     "output_type": "execute_result"
    }
   ],
   "source": [
    "targets[['wd_source_id', 'cmd_radius']]"
   ]
  },
  {
   "cell_type": "code",
   "execution_count": null,
   "metadata": {},
   "outputs": [],
   "source": []
  }
 ],
 "metadata": {
  "kernelspec": {
   "display_name": "core-composition",
   "language": "python",
   "name": "python3"
  },
  "language_info": {
   "codemirror_mode": {
    "name": "ipython",
    "version": 3
   },
   "file_extension": ".py",
   "mimetype": "text/x-python",
   "name": "python",
   "nbconvert_exporter": "python",
   "pygments_lexer": "ipython3",
   "version": "3.12.2"
  }
 },
 "nbformat": 4,
 "nbformat_minor": 2
}
