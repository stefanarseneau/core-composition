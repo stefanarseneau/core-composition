{
 "cells": [
  {
   "cell_type": "code",
   "execution_count": 1,
   "metadata": {},
   "outputs": [],
   "source": [
    "import matplotlib.pyplot as plt\n",
    "%matplotlib inline"
   ]
  },
  {
   "cell_type": "code",
   "execution_count": 2,
   "metadata": {},
   "outputs": [
    {
     "name": "stdout",
     "output_type": "stream",
     "text": [
      "/home/arsen/miniconda3/envs/core-composition/lib/python3.12/site-packages/corv/models/warwick_da\n",
      "We could not find the pickled WD models\n",
      "We could not find the pickled WD models. If you need to use these models, please re-import corv with the proper path.\n",
      "/Users/vedantchandra/0_research/01_sdss5/006_build_corv/data/comm_cat/\n",
      "star and exposure catalogs not found! check paths and run make_catalogs() if you want to use sdss functionality. otherwise ignore.\n",
      "Building Catalog\n",
      "==============================\n"
     ]
    },
    {
     "name": "stderr",
     "output_type": "stream",
     "text": [
      " 89%|████████▉ | 8/9 [00:10<00:01,  1.24s/it]"
     ]
    }
   ],
   "source": [
    "%run -i -m corecomposition elbadry.csv config.ini targets.csv -v"
   ]
  },
  {
   "cell_type": "code",
   "execution_count": 3,
   "metadata": {},
   "outputs": [],
   "source": [
    "from astropy.table import Table\n",
    "catalog = Table.read('out.csv')"
   ]
  },
  {
   "cell_type": "code",
   "execution_count": 4,
   "metadata": {},
   "outputs": [
    {
     "data": {
      "text/html": [
       "<div><i>Table length=2</i>\n",
       "<table id=\"table140251054048752\" class=\"table-striped table-bordered table-condensed\">\n",
       "<thead><tr><th>wd_ra</th><th>wd_dec</th><th>gravz</th></tr></thead>\n",
       "<thead><tr><th>float64</th><th>float64</th><th>float64</th></tr></thead>\n",
       "<tr><td>92.21438403314589</td><td>-0.9974533046455966</td><td>164.5769784855582</td></tr>\n",
       "<tr><td>254.26699435580207</td><td>-54.637604456071216</td><td>63.8022909741735</td></tr>\n",
       "</table></div>"
      ],
      "text/plain": [
       "<Table length=2>\n",
       "      wd_ra               wd_dec             gravz      \n",
       "     float64             float64            float64     \n",
       "------------------ ------------------- -----------------\n",
       " 92.21438403314589 -0.9974533046455966 164.5769784855582\n",
       "254.26699435580207 -54.637604456071216  63.8022909741735"
      ]
     },
     "execution_count": 4,
     "metadata": {},
     "output_type": "execute_result"
    }
   ],
   "source": [
    "catalog[['wd_ra', 'wd_dec', 'gravz']]"
   ]
  },
  {
   "cell_type": "code",
   "execution_count": null,
   "metadata": {},
   "outputs": [],
   "source": []
  }
 ],
 "metadata": {
  "kernelspec": {
   "display_name": "core-composition",
   "language": "python",
   "name": "python3"
  },
  "language_info": {
   "codemirror_mode": {
    "name": "ipython",
    "version": 3
   },
   "file_extension": ".py",
   "mimetype": "text/x-python",
   "name": "python",
   "nbconvert_exporter": "python",
   "pygments_lexer": "ipython3",
   "version": "3.12.2"
  }
 },
 "nbformat": 4,
 "nbformat_minor": 2
}
