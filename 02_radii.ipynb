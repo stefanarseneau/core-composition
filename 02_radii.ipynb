{
 "cells": [
  {
   "cell_type": "code",
   "execution_count": 1,
   "metadata": {},
   "outputs": [
    {
     "name": "stdout",
     "output_type": "stream",
     "text": [
      "Important: Gaia archive will be intermittently unavailable due to scheduled maintenance (deployment of a new version) on Friday 22nd from 9.00h to 11.00h\n"
     ]
    }
   ],
   "source": [
    "# Install a pip package in the current Jupyter kernel\n",
    "import sys\n",
    "import os\n",
    "sys.path.append('../')\n",
    "sys.path.append('../corv/src')\n",
    "\n",
    "\n",
    "### General\n",
    "import numpy as np\n",
    "import matplotlib.pyplot as plt\n",
    "import matplotlib.colors as colors\n",
    "\n",
    "import astropy\n",
    "from astropy.coordinates import SkyCoord\n",
    "from astropy.io import fits\n",
    "import astropy.units as u\n",
    "from astropy.table import Table, Column, MaskedColumn, join\n",
    "\n",
    "from tqdm import tqdm\n",
    "import pandas as pd\n",
    "from scipy.optimize import curve_fit\n",
    "import scipy.stats as stats\n",
    "\n",
    "### Tools\n",
    "import WD_models\n",
    "from bisect import bisect_left\n",
    "import lmfit\n",
    "import glob\n",
    "\n",
    "from astroquery.sdss import SDSS\n",
    "from astroquery.gaia import Gaia"
   ]
  },
  {
   "cell_type": "code",
   "execution_count": 2,
   "metadata": {},
   "outputs": [],
   "source": [
    "c = 2.998e10\n",
    "k = 1.38e-16\n",
    "h = 6.626e-27\n",
    "halpha = 6564.61\n",
    "hbeta = 4862.68\n",
    "hgamma = 4341.68\n",
    "hdelta = 4102.89\n",
    "speed_light = 299792458 #m/s\n",
    "radius_sun = 6.957e8\n",
    "mass_sun = 1.9884e30\n",
    "newton_G = 6.674e-11\n",
    "pc_to_m = 3.086775e16"
   ]
  },
  {
   "cell_type": "code",
   "execution_count": 3,
   "metadata": {},
   "outputs": [],
   "source": [
    "from __future__ import print_function\n",
    "from astropy.coordinates import SkyCoord\n",
    "import astropy.units as u"
   ]
  },
  {
   "cell_type": "code",
   "execution_count": 4,
   "metadata": {},
   "outputs": [
    {
     "name": "stderr",
     "output_type": "stream",
     "text": [
      "WARNING: UnitsWarning: 'log(cm.s**-2)' did not parse as fits unit: 'log' is not a recognized function If this is meant to be a custom unit, define it with 'u.def_unit'. To have it recognized inside a file reader or other code, enable it with 'u.add_enabled_units'. For details, see https://docs.astropy.org/en/latest/units/combining_and_defining.html [astropy.units.core]\n"
     ]
    }
   ],
   "source": [
    "from astropy.table import Table, vstack, unique\n",
    "\n",
    "catalog = Table.read('data/00_base_catalog.fits')\n",
    "\n",
    "def strip(catalog):  \n",
    "    drop_cols = []\n",
    "    keep_cols = ['wd_source_id', 'ms_source_id', 'wd_l', 'wd_b', 'ms_parallax', 'ms_parallax_over_error', 'wd_ra', 'wd_dec', \n",
    "                 'wd_bp_rp', 'uses_sdss5']\n",
    "        \n",
    "    for key in catalog.keys():\n",
    "        if key not in keep_cols:\n",
    "            drop_cols.append(key)\n",
    "            \n",
    "    catalog.remove_columns(drop_cols)\n",
    "    \n",
    "    return catalog\n",
    "\n",
    "catalog  = strip(catalog)"
   ]
  },
  {
   "cell_type": "code",
   "execution_count": 5,
   "metadata": {},
   "outputs": [
    {
     "name": "stdout",
     "output_type": "stream",
     "text": [
      "365\n"
     ]
    }
   ],
   "source": [
    "print(len(catalog))"
   ]
  },
  {
   "cell_type": "code",
   "execution_count": 6,
   "metadata": {},
   "outputs": [
    {
     "name": "stderr",
     "output_type": "stream",
     "text": [
      "100%|██████████| 1/1 [00:00<00:00,  1.67it/s]\n"
     ]
    }
   ],
   "source": [
    "from astropy.table import Table, vstack, hstack\n",
    "\n",
    "only_rvs = True\n",
    "\n",
    "stardats = []\n",
    "iters = (len(catalog)+1000) // 1000\n",
    "\n",
    "# MS Gaia Sources\n",
    "\n",
    "for i in tqdm(range(iters)):\n",
    "        ADQL_CODE1 = \"\"\"SELECT dist.source_id, dist.r_med_geo\n",
    "        FROM gaiadr3.gaia_source as gaia\n",
    "        JOIN external.gaiaedr3_distance as dist\n",
    "        ON gaia.source_id = dist.source_id      \n",
    "        WHERE gaia.source_id in {}\"\"\".format(tuple(catalog['ms_source_id'][1000*i:1000*i+1000]))\n",
    "        stardats.append(Gaia.launch_job(ADQL_CODE1,dump_to_file=False).get_results())\n",
    "        \n",
    "gaia_d1 = vstack(stardats)\n",
    "gaia_d1.rename_column('source_id', 'ms_source_id')\n",
    "catalog = join(catalog, gaia_d1, keys = 'ms_source_id')"
   ]
  },
  {
   "cell_type": "code",
   "execution_count": 7,
   "metadata": {},
   "outputs": [],
   "source": [
    "catalog.remove_column('ms_source_id')"
   ]
  },
  {
   "cell_type": "code",
   "execution_count": 8,
   "metadata": {},
   "outputs": [
    {
     "name": "stderr",
     "output_type": "stream",
     "text": [
      "100%|██████████| 1/1 [00:00<00:00,  1.46it/s]\n"
     ]
    }
   ],
   "source": [
    "stardats = []\n",
    "iters = (len(catalog)+1000) // 1000\n",
    "\n",
    "# This query is for making sure the radii issue isn't a problem with the photometry from the El-Badry catalog (it's not)\n",
    "for i in tqdm(range(iters)):\n",
    "        ADQL_CODE1 = \"\"\"SELECT source_id, phot_g_mean_mag, phot_bp_mean_mag, phot_rp_mean_mag, phot_g_mean_flux, phot_bp_mean_flux, phot_rp_mean_flux,\n",
    "                 phot_g_mean_flux_error, phot_bp_mean_flux_error, phot_rp_mean_flux_error\n",
    "        FROM gaiadr3.gaia_source     \n",
    "        WHERE source_id in {}\"\"\".format(tuple(catalog['wd_source_id'][1000*i:1000*i+1000]))\n",
    "        stardats.append(Gaia.launch_job(ADQL_CODE1,dump_to_file=False).get_results())\n",
    "        \n",
    "gaia_d1 = vstack(stardats)\n",
    "gaia_d1.rename_column('SOURCE_ID', 'source_id')\n",
    "\n",
    "for key in gaia_d1.keys():\n",
    "    gaia_d1.rename_column(key, 'wd_' + key)\n",
    "    \n",
    "catalog = join(catalog, gaia_d1, keys = 'wd_source_id')"
   ]
  },
  {
   "cell_type": "code",
   "execution_count": 9,
   "metadata": {},
   "outputs": [
    {
     "name": "stderr",
     "output_type": "stream",
     "text": [
      "Optimizing map for querying (this might take a couple of seconds)...\n"
     ]
    }
   ],
   "source": [
    "from __future__ import print_function\n",
    "from astropy.coordinates import SkyCoord\n",
    "import astropy.units as u\n",
    "from dustmaps.edenhofer2023 import Edenhofer2023Query\n",
    "\n",
    "import pyphot\n",
    "import extinction\n",
    "\n",
    "# Coordinates using Bailer-Jones distances\n",
    "coords = [SkyCoord(frame=\"galactic\", l=catalog['wd_l'][i]*u.deg, b=catalog['wd_b'][i]*u.deg, distance = catalog['r_med_geo'][i] * u.pc) for i in range(len(catalog))]\n",
    "catalog['wd_coords'] = coords\n",
    "\n",
    "\n",
    "# Query Edenhofer2023 to get E(B-V) in arbitrary units\n",
    "bsq = Edenhofer2023Query()\n",
    "bsq_res = bsq.query(catalog['wd_coords']).copy()\n",
    "bsq_res[np.isnan(bsq_res)] = 0\n",
    "\n",
    "# Convert to actual units\n",
    "Ebv = bsq_res*0.901*0.98\n",
    "e_Ebv = Ebv*0.2\n",
    "\n",
    "catalog['E(B-V)'] = Ebv\n",
    "catalog['e_E(B-V)'] = e_Ebv\n",
    "\n",
    "\n",
    "# Parameters for correcting using Gaia\n",
    "Rv = 3.1\n",
    "catalog['A_v0'] = catalog['E(B-V)']*Rv\n",
    "\n",
    "# Fetch Gaia photometric band wavelengths and store in `gaia_phot_wavl`\n",
    "lib = pyphot.get_library()\n",
    "gaia_phot = [lib['Gaia_BP'], lib['Gaia_RP']]\n",
    "gaia_phot_wavl = np.array([x.lpivot.to('angstrom').value for x in gaia_phot])\n",
    "\n",
    "\n",
    "# For each point, find extinction using the parameters we defined above\n",
    "ext_all = []\n",
    "for av0 in catalog['A_v0']:\n",
    "    ext_all.append( extinction.fitzpatrick99(gaia_phot_wavl, av0, Rv) )\n",
    "ext_all = np.array(ext_all)\n",
    "    \n",
    "# Save the extinction in each band\n",
    "catalog['BP_ext'] = ext_all.T[0]\n",
    "catalog['RP_ext'] = ext_all.T[1]\n",
    "\n",
    "# Subtract out the extinction to find de-reddened magnitude\n",
    "catalog['wd_phot_bp_mean_mag_ext'] = catalog['wd_phot_bp_mean_mag'] - catalog['BP_ext']\n",
    "catalog['wd_phot_rp_mean_mag_ext'] = catalog['wd_phot_rp_mean_mag'] - catalog['RP_ext']"
   ]
  },
  {
   "cell_type": "code",
   "execution_count": 10,
   "metadata": {},
   "outputs": [
    {
     "name": "stdout",
     "output_type": "stream",
     "text": [
      "initialized with atm_type = H and bands = ['Su', 'Sg', 'Sr']\n",
      "initialized with atm_type = H and bands = ['bp', 'rp']\n"
     ]
    }
   ],
   "source": [
    "font_model = WD_models.load_model('f', 'f', 'f', 'H', HR_bands = ['Su-Sg', 'Su'])\n",
    "\n",
    "g_acc = (10**font_model['logg'])/100\n",
    "rsun = np.sqrt(font_model['mass_array'] * mass_sun * newton_G / g_acc) / radius_sun\n",
    "logg_teff_to_rsun = WD_models.interp_xy_z_func(x = font_model['logg'], y = 10**font_model['logteff'],\n",
    "                                            z = rsun, interp_type = 'linear')\n",
    "\n",
    "fitsed_sdss = WD_models.FitSED(to_flux = False, atm_type = 'H', bands = ['Su', 'Sg', 'Sr'])#, 'Si', 'Sz'])\n",
    "fitsed_gaia = WD_models.FitSED(to_flux = False, atm_type = 'H', bands = ['bp', 'rp'])#, 'Si', 'Sz'])"
   ]
  },
  {
   "cell_type": "code",
   "execution_count": 11,
   "metadata": {},
   "outputs": [
    {
     "name": "stdout",
     "output_type": "stream",
     "text": [
      "building montreal da model\n",
      "could not find pickled WD models\n",
      "/Users/vedantchandra/0_research/01_sdss5/006_build_corv/data/comm_cat/\n",
      "star and exposure catalogs not found! check paths and run make_catalogs() if you want to use sdss functionality. otherwise ignore.\n"
     ]
    },
    {
     "data": {
      "text/plain": [
       "Text(0, 0.5, 'Flux $[erg/s/cm^2/\\\\AA]$')"
      ]
     },
     "execution_count": 11,
     "metadata": {},
     "output_type": "execute_result"
    },
    {
     "data": {
      "image/png": "[encoded data removed]",
      "text/plain": [
       "<Figure size 432x288 with 1 Axes>"
      ]
     },
     "metadata": {
      "needs_background": "light"
     },
     "output_type": "display_data"
    }
   ],
   "source": [
    "#model_sed = RegularGridInterpolator((teffs, loggs), values)\n",
    "\n",
    "import pyphot\n",
    "from pyphot import unit\n",
    "\n",
    "import corv\n",
    "\n",
    "base_wavl, tremblay, table = corv.utils.build_montreal_da(path = '/home/sarsene1/corv/src/corv/models/montreal_da', flux_unit = 'flam')\n",
    "\n",
    "\n",
    "lib = pyphot.get_library()\n",
    "filters = [lib['Gaia_BP'], lib['Gaia_RP']]\n",
    "\n",
    "fl = tremblay((10000, 8))\n",
    "\n",
    "wavl = [filters[i].lpivot.to('angstrom').value for i in range(len(filters))]\n",
    "phot_flux = [filters[i].get_flux(base_wavl * unit['AA'], fl * unit['erg/s/cm**2/AA'], axis = 1).value for i in range(len(filters))]\n",
    "phot_mag = np.array([-2.5*np.log10(filters[i].get_flux(base_wavl * unit['AA'], fl * unit['erg/s/cm**2/AA'], axis = 1).value) \\\n",
    "                     - filters[i].Vega_zero_mag for i in range(len(filters))])\n",
    "\n",
    "plt.plot(base_wavl, fl, c = 'k')\n",
    "plt.scatter(wavl, phot_flux, c = 'r')\n",
    "plt.xlim(2500,15000)\n",
    "plt.xlabel(r'Wavelength $[\\AA]$')\n",
    "plt.ylabel(r'Flux $[erg/s/cm^2/\\AA]$')"
   ]
  },
  {
   "cell_type": "code",
   "execution_count": 12,
   "metadata": {},
   "outputs": [],
   "source": [
    "import pyphot\n",
    "from pyphot import unit\n",
    "\n",
    "base_wavl, tremblay, table = corv.utils.build_montreal_da(path = '/home/sarsene1/corv/src/corv/models/montreal_da', flux_unit = 'flam')\n",
    "\n",
    "lib = pyphot.get_library()\n",
    "filters = [#lib['Gaia_G'],\n",
    "           lib['Gaia_BP'], lib['Gaia_RP']]"
   ]
  },
  {
   "cell_type": "code",
   "execution_count": null,
   "metadata": {},
   "outputs": [],
   "source": []
  },
  {
   "cell_type": "code",
   "execution_count": 13,
   "metadata": {},
   "outputs": [],
   "source": [
    "def mag_to_flux_spec(mag, filt, e_mag = None):\n",
    "    if e_mag is not None:\n",
    "        return (10**( (mag + filt.Vega_zero_mag) / -2.5 ), np.sqrt((-0.921034 * 10**(-0.4 * (mag + filt.Vega_zero_mag)) * e_mag)**2 ))\n",
    "    else:\n",
    "        return 10**( (mag + filt.Vega_zero_mag) / -2.5 )\n",
    "\n",
    "def template(teff, logg, radius, distance):\n",
    "    fl = tremblay((teff, logg))\n",
    "    \n",
    "    radius = radius * radius_sun # Rsun to meter\n",
    "    distance = distance * pc_to_m # Parsec to meter\n",
    "    \n",
    "    fl = 4*np.pi*(radius / distance)**2 * fl\n",
    "    return fl\n",
    "    \n",
    "\n",
    "def get_model_flux_gaia_spec(params):\n",
    "    teff, logg, radius, distance = params['teff'], params['logg'], params['radius'], params['distance']\n",
    "    \n",
    "    fl = template(teff, logg, radius, distance) \n",
    "            \n",
    "    flux = np.array([filters[i].get_flux(base_wavl * unit['angstrom'], fl * unit['erg/s/cm**2/angstrom'], axis = 1).to('erg/s/cm**2/angstrom').value for i in range(len(filters))])\n",
    "    #mag = np.array([-2.5*np.log10(filters[i].get_flux(base_wavl * unit['AA'], fl * unit['erg/s/cm**2/AA'], axis = 1).value) - filters[i].Vega_zero_mag for i in range(len(filters))])\n",
    "    return flux\n",
    "    \n",
    "\n",
    "def residual_gaia(params, obs_flux = None, e_obs_flux = None):\n",
    "    model_flux = get_model_flux_gaia_spec(params)\n",
    "\n",
    "    chisquare = ((model_flux - obs_flux) / e_obs_flux)**2\n",
    "    \n",
    "    #chisquare[np.isnan(chisquare)] = 1e8\n",
    "    return chisquare\n",
    "\n",
    "def get_parameters_gaia(obs_flux, e_obs_flux, id_ = None, floor_error = 0.02, make_plot = False, vary_logg = False, p0 = [10000, 8, 0.01, 100]):         \n",
    "    #e_obs_mag = np.sqrt(e_obs_mag**2 + floor_error**2)    \n",
    "    params = lmfit.Parameters()\n",
    "\n",
    "    params.add('teff', value = p0[0], min = 4001, max = 35000, vary = True)\n",
    "    params.add('logg', value = p0[1], min=5, max=9, vary=False)\n",
    "    params.add('radius', value = p0[2], min = 0.000001, max = 0.05, vary = True)\n",
    "    params.add('distance', value = p0[3], min = 1, max = 2000, vary = False)\n",
    "            \n",
    "    #result = lmfit.minimize(residual_gaia, params, kws = dict(obs_flux = obs_mag, e_obs_flux = e_obs_mag), method = 'emcee', steps = 500, burn = 250, thin = 20, is_weighted = True, float_behavior = 'chi2', progress = False)\n",
    "    result = lmfit.minimize(residual_gaia, params, kws = dict(obs_flux = obs_flux, e_obs_flux = e_obs_flux), method = 'leastsq')\n",
    "    \n",
    "    #result.params.pretty_print()\n",
    "        \n",
    "    return result"
   ]
  },
  {
   "cell_type": "code",
   "execution_count": 15,
   "metadata": {},
   "outputs": [
    {
     "name": "stderr",
     "output_type": "stream",
     "text": [
      "100%|██████████| 365/365 [12:20<00:00,  2.03s/it]"
     ]
    },
    {
     "name": "stdout",
     "output_type": "stream",
     "text": [
      "dropped 0 stars\n"
     ]
    },
    {
     "name": "stderr",
     "output_type": "stream",
     "text": [
      "\n"
     ]
    }
   ],
   "source": [
    "plt.style.use('stefan.mplstyle')\n",
    "\n",
    "gaia_results = []\n",
    "gaia_results7 = []\n",
    "gaia_results9 = []\n",
    "\n",
    "reference_results = []\n",
    "reference_results7 = []\n",
    "reference_results9 = []\n",
    "\n",
    "\n",
    "e_results = []\n",
    "\n",
    "drops = []\n",
    "\n",
    "logg_vary = []\n",
    "\n",
    "id_ = []\n",
    "\n",
    "bands = ['bp', 'rp']\n",
    "\n",
    "for i in tqdm(range(len(catalog))):\n",
    "    # Convert Gaia flux into f_lam using table 5.3 \n",
    "    # https://gea.esac.esa.int/archive/documentation/GEDR3/Data_processing/chap_cu5pho/cu5pho_sec_photProc/cu5pho_ssec_photCal.html    \n",
    "    \n",
    "    obs_flux_ext = np.array([mag_to_flux_spec(catalog['wd_phot_bp_mean_mag_ext'][i], filters[0]),\n",
    "                         mag_to_flux_spec(catalog['wd_phot_rp_mean_mag_ext'][i], filters[1])])\n",
    "    \n",
    "    obs_flux = np.array([mag_to_flux_spec(catalog['wd_phot_bp_mean_mag'][i], filters[0]),\n",
    "                         mag_to_flux_spec(catalog['wd_phot_rp_mean_mag'][i], filters[1])])\n",
    "    e_obs_flux = np.array([#catalog['wd_phot_g_mean_flux_error'][i] * 1.736011e-33 * 2.99792458e+21 / 6217.9**2 , \n",
    "                           catalog['wd_phot_bp_mean_flux_error'][i] * 2.620707e-33 * 2.99792458e+21 / 5109.7**2, \n",
    "                           catalog['wd_phot_rp_mean_flux_error'][i] * 3.2988153e-33 * 2.99792458e+21 / 7769.1**2])\n",
    "        \n",
    "    #try:    \n",
    "    gaia_logg7_ext = get_parameters_gaia( obs_flux_ext, e_obs_flux, vary_logg=False, p0 = [10000, 7, 0.003, catalog['r_med_geo'][i]] )\n",
    "    gaia_logg8_ext = get_parameters_gaia( obs_flux_ext, e_obs_flux, vary_logg=False, p0 = [10000, 8, 0.003, catalog['r_med_geo'][i]] )\n",
    "    gaia_logg9_ext = get_parameters_gaia( obs_flux_ext, e_obs_flux, vary_logg=False, p0 = [10000, 9, 0.003, catalog['r_med_geo'][i]] )\n",
    "    id_.append(i)\n",
    "    \n",
    "    gaia_results.append(gaia_logg8_ext)\n",
    "    gaia_results7.append(gaia_logg7_ext)\n",
    "    gaia_results9.append(gaia_logg9_ext)\n",
    "    #except:\n",
    "    #    drops.append(i)\n",
    "        \n",
    "    \n",
    "    #reference_results.append(get_parameters_gaia(obs_flux, e_obs_flux, vary_logg=False, p0 = [10000, 8, 0.003, catalog['r_med_geo'][i]]))\n",
    "    #reference_results7.append(get_parameters_gaia(obs_flux, e_obs_flux, vary_logg=False, p0 = [10000, 7, 0.003, catalog['r_med_geo'][i]]))\n",
    "    #reference_results9.append(get_parameters_gaia(obs_flux, e_obs_flux, vary_logg=False, p0 = [10000, 9, 0.003, catalog['r_med_geo'][i]]))\n",
    "\n",
    "    \n",
    "    fig = plt.figure(figsize = (8,7))\n",
    "        \n",
    "    #plt.errorbar([filters[j].lpivot.to('angstrom').value for j in range(len(filters))], obs_flux, yerr = e_obs_flux, linestyle = 'none', marker = 'None', color = 'k', capsize = 5, label = 'Observed SED', zorder = 10)\n",
    "    #plt.plot([filters[j].lpivot.to('angstrom').value for j in range(len(filters))], get_model_flux_gaia(gaia_logg8.params), 'bo', markersize = 10, label = 'Model SED')\n",
    "    \n",
    "    plt.errorbar([filters[j].lpivot.to('angstrom').value for j in range(len(filters))], obs_flux_ext, yerr = e_obs_flux, linestyle = 'none', marker = 'None', color = 'k', capsize = 5, label = 'Observed SED', zorder = 10)\n",
    "    plt.plot([filters[j].lpivot.to('angstrom').value for j in range(len(filters))], get_model_flux_gaia_spec(gaia_logg8_ext.params), 'bo', markersize = 10, label = 'Model SED')\n",
    "    \n",
    "    model_fl = template(gaia_logg8_ext.params['teff'].value, gaia_logg8_ext.params['logg'].value, gaia_logg8_ext.params['radius'].value, gaia_logg8_ext.params['distance'].value)\n",
    "    mask = (3600 < base_wavl)*(base_wavl<9000)\n",
    "    plt.plot(base_wavl[mask], model_fl[mask], c = 'k', label = 'Model Spectrum')\n",
    "    \n",
    "    \n",
    "    #model_fl = template(gaia_logg8.params['teff'].value, gaia_logg8.params['logg'].value, gaia_logg8.params['radius'].value, gaia_logg8.params['distance'].value)\n",
    "    #mask = (3600 < base_wavl)*(base_wavl<9000)\n",
    "    #plt.plot(base_wavl[mask], model_fl[mask], c = 'k', label = 'Model Spectrum')\n",
    "    \n",
    "    #plt.ylim(0.1*min(model_fl[mask]), 1.1*max(model_fl[mask]))\n",
    "    \n",
    "    #plt.title('SED {}'.format(i))\n",
    "    \n",
    "    plt.text(0.05, 0.20, \"$T_{eff}$\" + \" = {:2.6} $K$\".format(gaia_logg8_ext.params['teff'].value), transform = plt.gca().transAxes, fontsize = 18)\n",
    "    plt.text(0.05, 0.15, \"$\\log g$\" + \" = {:2.5f}\".format(gaia_logg8_ext.params['logg'].value), transform = plt.gca().transAxes, fontsize = 18)\n",
    "    plt.text(0.05, 0.05, '$Distance = ${:2.1f} $pc$'.format(gaia_logg8_ext.params['distance'].value), transform = plt.gca().transAxes, fontsize=18)\n",
    "    plt.text(0.05, 0.10, r'$Radius = ${:2.5f} $R_\\odot$'.format(gaia_logg8_ext.params['radius'].value), transform = plt.gca().transAxes, fontsize = 18)\n",
    "    plt.text(0.80, 0.05, r'$\\chi_r^2 = ${:2.2f}'.format(gaia_logg8_ext.redchi), transform = plt.gca().transAxes, fontsize = 18)\n",
    "    \n",
    "    plt.xlim((3600, 9000))\n",
    "    plt.xlabel(r'Wavelength $[\\AA]$')\n",
    "    plt.ylabel('Flux $[erg/s/cm^2/\\AA]$')\n",
    "        \n",
    "    \n",
    "    #plt.gca().invert_yaxis()\n",
    "    plt.legend(framealpha = 0) \n",
    "    plt.savefig('figures/photo/{}.png'.format(i))\n",
    "    plt.close()\n",
    "    \n",
    "    #print(gaia_logg8.params['radius'].stderr)\n",
    "    \n",
    "    #fig = plt.figure(figsize = (8,7))\n",
    "    \n",
    "    #plt.errorbar([filters[j].lpivot.to('angstrom').value for j in range(len(filters))], obs_flux, yerr = e_obs_flux, linestyle = 'none', marker = 'None', color = 'k', capsize = 5, label = 'Observed SED', zorder = 10)\n",
    "    #model_mag = get_model_flux_gaia(gaia_logg8.params)\n",
    "    #plt.plot([filters[j].lpivot.to('angstrom').value for j in range(len(filters))], [mag_to_flux_spec(model_mag[i], filters[i]) for i in range(len(filters))], 'bo', markersize = 10, label = 'Model SED (Color Tables)')\n",
    "    \n",
    "    \n",
    "    \n",
    "    #plt.xlim((3600, 9000))\n",
    "    #plt.xlabel(r'Wavelength $[\\AA]$')\n",
    "    #plt.ylabel('Flux $[erg/s/cm^2/\\AA]$')\n",
    "    \n",
    "    #plt.legend(framealpha = 0) \n",
    "    #plt.show()\n",
    "    \n",
    "print('dropped {} stars'.format(len(drops)))\n",
    "catalog.remove_rows(drops)\n",
    "catalog['wd_catalog_id_phot'] = id_\n",
    "results = gaia_results"
   ]
  },
  {
   "cell_type": "code",
   "execution_count": null,
   "metadata": {},
   "outputs": [],
   "source": []
  },
  {
   "cell_type": "code",
   "execution_count": 16,
   "metadata": {},
   "outputs": [],
   "source": [
    "catalog['raw_radius_result'] = [result for result in gaia_results]\n",
    "catalog['radius'] = [result.params['radius'].value for result in gaia_results]\n",
    "catalog['phot_teff'] = [result.params['teff'].value for result in gaia_results]\n",
    "catalog['e_phot_teff'] = [result.params['teff'].stderr for result in gaia_results]\n",
    "catalog['redchi'] = [result.redchi for result in gaia_results]\n",
    "catalog['e_radius'] = [np.sqrt(gaia_results[i].params['radius'].stderr**2 + np.abs(gaia_results7[i].params['radius'].value - gaia_results9[i].params['radius'].value)**2 ) for i in range(len(gaia_results))]\n",
    "catalog['error_from_model'] = [np.abs(gaia_results7[i].params['radius'].value - gaia_results9[i].params['radius'].value) for i in range(len(gaia_results))]"
   ]
  },
  {
   "cell_type": "code",
   "execution_count": 18,
   "metadata": {},
   "outputs": [
    {
     "data": {
      "text/plain": [
       "<matplotlib.legend.Legend at 0x1553d622e0a0>"
      ]
     },
     "execution_count": 18,
     "metadata": {},
     "output_type": "execute_result"
    },
    {
     "data": {
      "image/png": "[encoded data removed]",
      "text/plain": [
       "<Figure size 720x720 with 1 Axes>"
      ]
     },
     "metadata": {},
     "output_type": "display_data"
    }
   ],
   "source": [
    "plt.figure(figsize=(10,10))\n",
    "plt.hist(catalog['radius'], bins = 20, color='black', label = 'All Sample')\n",
    "ymin, ymax = plt.ylim()\n",
    "#plt.vlines(np.mean(catalog['phot_teff']), ymin, ymax, linestyles='dashed')\n",
    "plt.xlabel(r'Photometric Radius $[R_0]$', fontsize=18)\n",
    "plt.legend()"
   ]
  },
  {
   "cell_type": "code",
   "execution_count": 21,
   "metadata": {},
   "outputs": [
    {
     "name": "stderr",
     "output_type": "stream",
     "text": [
      "WARNING: The unit 'electron / s' could not be saved in native FITS format and cannot be recovered in reading. It can roundtrip within astropy by using QTable both to write and read back, though one has to enable the unit before reading. [astropy.io.fits.convenience]\n"
     ]
    }
   ],
   "source": [
    "catalog.remove_columns(['ms_parallax', 'wd_l', 'wd_b', 'raw_radius_result', 'wd_bp_rp', 'wd_phot_g_mean_mag', 'e_phot_teff',\n",
    "                        'wd_phot_bp_mean_mag', 'wd_phot_rp_mean_mag', 'wd_phot_g_mean_flux_error', 'wd_phot_bp_mean_flux_error', 'wd_phot_rp_mean_flux_error'])\n",
    "\n",
    "catalog.write('data/02_photometry.fits', overwrite=True)"
   ]
  },
  {
   "cell_type": "code",
   "execution_count": 34,
   "metadata": {},
   "outputs": [
    {
     "data": {
      "text/plain": [
       "<matplotlib.legend.Legend at 0x1553d695cbe0>"
      ]
     },
     "execution_count": 34,
     "metadata": {},
     "output_type": "execute_result"
    },
    {
     "data": {
      "image/png": "[encoded data removed]",
      "text/plain": [
       "<Figure size 720x720 with 1 Axes>"
      ]
     },
     "metadata": {},
     "output_type": "display_data"
    }
   ],
   "source": [
    "plt.figure(figsize=(10,10))\n",
    "plt.hist(catalog['radius'], bins = 20, color='black', label = 'All Sample')\n",
    "ymin, ymax = plt.ylim()\n",
    "#plt.vlines(np.mean(catalog['phot_teff']), ymin, ymax, linestyles='dashed')\n",
    "plt.xlabel(r'Photometric Radius $[R_0]$', fontsize=18)\n",
    "plt.legend()"
   ]
  },
  {
   "cell_type": "code",
   "execution_count": null,
   "metadata": {},
   "outputs": [],
   "source": []
  },
  {
   "cell_type": "code",
   "execution_count": null,
   "metadata": {},
   "outputs": [],
   "source": []
  },
  {
   "cell_type": "code",
   "execution_count": 27,
   "metadata": {},
   "outputs": [
    {
     "data": {
      "text/plain": [
       "['wd_source_id',\n",
       " 'ms_parallax_over_error',\n",
       " 'wd_ra',\n",
       " 'wd_dec',\n",
       " 'r_med_geo',\n",
       " 'wd_phot_g_mean_flux',\n",
       " 'wd_phot_bp_mean_flux',\n",
       " 'wd_phot_rp_mean_flux',\n",
       " 'wd_coords',\n",
       " 'E(B-V)',\n",
       " 'e_E(B-V)',\n",
       " 'A_v0',\n",
       " 'BP_ext',\n",
       " 'RP_ext',\n",
       " 'wd_phot_bp_mean_mag_ext',\n",
       " 'wd_phot_rp_mean_mag_ext',\n",
       " 'wd_catalog_id_phot',\n",
       " 'radius',\n",
       " 'phot_teff',\n",
       " 'redchi',\n",
       " 'e_radius',\n",
       " 'error_from_model']"
      ]
     },
     "execution_count": 27,
     "metadata": {},
     "output_type": "execute_result"
    }
   ],
   "source": [
    "catalog.keys()"
   ]
  },
  {
   "cell_type": "code",
   "execution_count": 56,
   "metadata": {},
   "outputs": [
    {
     "name": "stderr",
     "output_type": "stream",
     "text": [
      "<>:3: SyntaxWarning: \"is not\" with a literal. Did you mean \"!=\"?\n",
      "<>:3: SyntaxWarning: \"is not\" with a literal. Did you mean \"!=\"?\n",
      "<>:3: SyntaxWarning: \"is not\" with a literal. Did you mean \"!=\"?\n",
      "<>:3: SyntaxWarning: \"is not\" with a literal. Did you mean \"!=\"?\n",
      "<>:3: SyntaxWarning: \"is not\" with a literal. Did you mean \"!=\"?\n",
      "<>:3: SyntaxWarning: \"is not\" with a literal. Did you mean \"!=\"?\n",
      "<ipython-input-56-34d239145fbb>:3: SyntaxWarning: \"is not\" with a literal. Did you mean \"!=\"?\n",
      "  if lowmass is not 'f' or highmass is not 'f' or midmass is not 'f':\n",
      "<ipython-input-56-34d239145fbb>:3: SyntaxWarning: \"is not\" with a literal. Did you mean \"!=\"?\n",
      "  if lowmass is not 'f' or highmass is not 'f' or midmass is not 'f':\n",
      "<ipython-input-56-34d239145fbb>:3: SyntaxWarning: \"is not\" with a literal. Did you mean \"!=\"?\n",
      "  if lowmass is not 'f' or highmass is not 'f' or midmass is not 'f':\n"
     ]
    },
    {
     "data": {
      "text/plain": [
       "<matplotlib.legend.Legend at 0x1553dce85fd0>"
      ]
     },
     "execution_count": 56,
     "metadata": {},
     "output_type": "execute_result"
    },
    {
     "data": {
      "image/png": "[encoded data removed]",
      "text/plain": [
       "<Figure size 1080x576 with 2 Axes>"
      ]
     },
     "metadata": {},
     "output_type": "display_data"
    }
   ],
   "source": [
    "def mass_from_radius(radarray, teffarray, lowmass = 'f', midmass = 'f', highmass = 'o'):\n",
    "    \n",
    "    if lowmass is not 'f' or highmass is not 'f' or midmass is not 'f':\n",
    "        font_model = WD_models.load_model(lowmass, midmass, highmass, 'H')\n",
    "    else:\n",
    "        font_model = model\n",
    "\n",
    "    #     font_model = WD_models.load_model(lowmass, midmass, highmass, 'H')\n",
    "\n",
    "\n",
    "    g_acc = (10**font_model['logg'])/100\n",
    "    rsun = np.sqrt(font_model['mass_array'] * mass_sun * newton_G / g_acc) / radius_sun\n",
    "    \n",
    "    rsun_teff_to_m = WD_models.interp_xy_z_func(x = rsun, y = 10**font_model['logteff'],\\\n",
    "                                                z = font_model['mass_array'], interp_type = 'linear')\n",
    "    \n",
    "    mass = rsun_teff_to_m(radarray, teffarray) * mass_sun\n",
    "\n",
    "    return mass / mass_sun\n",
    "\n",
    "\n",
    "\n",
    "plt.figure(figsize=(15,8))\n",
    "\n",
    "plt.subplot(1,2,1)\n",
    "\n",
    "plt.hist(catalog[catalog['radius'] < 0.0075]['radius'], bins = 10, color='black')#, label = 'All Sample')\n",
    "ymin, ymax = plt.ylim()\n",
    "#plt.vlines(np.mean(catalog['phot_teff']), ymin, ymax, linestyles='dashed')\n",
    "plt.xlabel(r'Photometric Radius $[R_0]$', fontsize=18)\n",
    "plt.ylabel('N', fontsize = 18)\n",
    "\n",
    "plt.subplot(1,2,2)\n",
    "plt.hist(mass_from_radius(catalog[catalog['radius'] < 0.0075]['radius'], catalog[catalog['radius'] < 0.0075]['phot_teff']), bins = 10, color='black', label = r'$R$ less than $0.007 R_\\odot$')\n",
    "ymin, ymax = plt.ylim()\n",
    "#plt.vlines(np.mean(catalog['phot_teff']), ymin, ymax, linestyles='dashed')\n",
    "plt.xlabel(r'Photometric Mass $[M_\\odot]$', fontsize=18)\n",
    "plt.legend(framealpha = 0)"
   ]
  },
  {
   "cell_type": "code",
   "execution_count": 58,
   "metadata": {},
   "outputs": [],
   "source": [
    "catalog = catalog[catalog['radius'] < 0.0075]\n",
    "\n",
    "catalog.write('data/02_photometry.fits', overwrite=True)"
   ]
  },
  {
   "cell_type": "code",
   "execution_count": null,
   "metadata": {},
   "outputs": [],
   "source": []
  }
 ],
 "metadata": {
  "kernelspec": {
   "display_name": "Python 3",
   "language": "python",
   "name": "python3"
  },
  "language_info": {
   "codemirror_mode": {
    "name": "ipython",
    "version": 3
   },
   "file_extension": ".py",
   "mimetype": "text/x-python",
   "name": "python",
   "nbconvert_exporter": "python",
   "pygments_lexer": "ipython3",
   "version": "3.8.3"
  }
 },
 "nbformat": 4,
 "nbformat_minor": 4
}
